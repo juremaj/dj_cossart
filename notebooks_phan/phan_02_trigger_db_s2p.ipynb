{
 "cells": [
  {
   "cell_type": "code",
   "execution_count": 1,
   "id": "ca5fbc39-9c7b-4e67-9c54-d89725f73fb2",
   "metadata": {},
   "outputs": [],
   "source": [
    "# reload code if library changes\n",
    "%load_ext autoreload\n",
    "%autoreload 2\n",
    "%reload_ext autoreload"
   ]
  },
  {
   "cell_type": "code",
   "execution_count": 2,
   "id": "13a62c1e-dd1a-4326-8787-acb8d51331cb",
   "metadata": {},
   "outputs": [],
   "source": [
    "import os\n",
    "if os.path.basename(os.getcwd()) == \"notebooks\": os.chdir(\"..\")\n",
    "import numpy as np"
   ]
  },
  {
   "cell_type": "code",
   "execution_count": 3,
   "id": "767561fd-14e1-4877-a84f-1663969fbab0",
   "metadata": {},
   "outputs": [
    {
     "name": "stderr",
     "output_type": "stream",
     "text": [
      "[2023-02-28 11:27:03,415][INFO]: Connecting phan@127.0.0.1:3306\n",
      "[2023-02-28 11:27:03,507][INFO]: Connected phan@127.0.0.1:3306\n"
     ]
    }
   ],
   "source": [
    "import datajoint as dj\n",
    "from workflow_calcium_imaging.pipeline import *\n",
    "populate_settings = {'display_progress': True}"
   ]
  },
  {
   "cell_type": "code",
   "execution_count": 4,
   "id": "6b5783c2-ef02-4180-928e-8543cee1e9b8",
   "metadata": {},
   "outputs": [],
   "source": [
    "# move to library\n",
    "def get_metadata_from_filetree(root_data_dir, fake_session_datetime_str_init):\n",
    "    all_subject_str = []\n",
    "    all_session_str = [] # this will be list of lists - each nested list corresponding to one subject\n",
    "    all_datetime_str = [] # for now hardcoded! (figure out how to do programmatically)\n",
    "\n",
    "    count = 0\n",
    "    for subject_str in os.listdir(root_data_dir):\n",
    "        if os.path.isdir(f'{root_data_dir}/{subject_str}'):\n",
    "\n",
    "            print(f'Subject: {subject_str}')\n",
    "            all_subject_str.append(subject_str)\n",
    "\n",
    "            all_subject_session_str = [] # sessions for this particular subject\n",
    "            all_subject_datetime_str = []\n",
    "            for subject_session_str in os.listdir(root_data_dir + '/' + subject_str):\n",
    "                all_subject_session_str.append(subject_session_str)\n",
    "                fake_session_datetime_str = fake_session_datetime_str_init[:18] + str(count) + '.000' # making fake unique time\n",
    "                print('\\n\\n\\nIMPORTANT: JM made up a fake datetime to fit convention of DJ. If needed for analysis, the true datetime of the experiment can still be accessed though through the `session` entry (YYYY-MM-DD_x) or from where the bruker metadata is stored within the database.\\n\\n\\n')\n",
    "                print(fake_session_datetime_str)\n",
    "                all_subject_datetime_str.append(fake_session_datetime_str) # here it is fake\n",
    "                count += 1\n",
    "\n",
    "            print(f'Identified sessions for subject {subject_str}: {all_subject_session_str}')\n",
    "\n",
    "            all_session_str.append(all_subject_session_str) \n",
    "            all_datetime_str.append(all_subject_datetime_str) \n",
    "        \n",
    "    return all_subject_str, all_session_str, all_datetime_str"
   ]
  },
  {
   "cell_type": "markdown",
   "id": "470e170b-389c-4c88-8988-c76d26dbe99f",
   "metadata": {},
   "source": [
    "### Clear previous s2p entries"
   ]
  },
  {
   "cell_type": "code",
   "execution_count": 5,
   "id": "578edac9-11cb-4384-8bcd-4d69ef9b0caa",
   "metadata": {},
   "outputs": [
    {
     "name": "stderr",
     "output_type": "stream",
     "text": [
      "[2023-02-28 11:27:03,723][INFO]: Deleting 0 rows from `phan_imaging`.`#processing_param_set`\n",
      "[2023-02-28 11:27:03,733][INFO]: Deleting 0 rows from `phan_imaging`.`curation`\n"
     ]
    },
    {
     "name": "stdout",
     "output_type": "stream",
     "text": [
      "Nothing to delete.\n",
      "Nothing to delete.\n"
     ]
    },
    {
     "data": {
      "text/plain": [
       "0"
      ]
     },
     "execution_count": 5,
     "metadata": {},
     "output_type": "execute_result"
    }
   ],
   "source": [
    "imaging.ProcessingParamSet.delete()\n",
    "imaging.Curation.delete()"
   ]
  },
  {
   "cell_type": "code",
   "execution_count": 6,
   "id": "14a56b86-a974-48ad-a17a-5bcf6327da51",
   "metadata": {},
   "outputs": [
    {
     "name": "stdout",
     "output_type": "stream",
     "text": [
      "Subject: jm003\n",
      "\n",
      "\n",
      "\n",
      "IMPORTANT: JM made up a fake datetime to fit convention of DJ. If needed for analysis, the true datetime of the experiment can still be accessed though through the `session` entry (YYYY-MM-DD_x) or from where the bruker metadata is stored within the database.\n",
      "\n",
      "\n",
      "\n",
      "2002-01-01 12:00:00.000\n",
      "\n",
      "\n",
      "\n",
      "IMPORTANT: JM made up a fake datetime to fit convention of DJ. If needed for analysis, the true datetime of the experiment can still be accessed though through the `session` entry (YYYY-MM-DD_x) or from where the bruker metadata is stored within the database.\n",
      "\n",
      "\n",
      "\n",
      "2002-01-01 12:00:01.000\n",
      "\n",
      "\n",
      "\n",
      "IMPORTANT: JM made up a fake datetime to fit convention of DJ. If needed for analysis, the true datetime of the experiment can still be accessed though through the `session` entry (YYYY-MM-DD_x) or from where the bruker metadata is stored within the database.\n",
      "\n",
      "\n",
      "\n",
      "2002-01-01 12:00:02.000\n",
      "\n",
      "\n",
      "\n",
      "IMPORTANT: JM made up a fake datetime to fit convention of DJ. If needed for analysis, the true datetime of the experiment can still be accessed though through the `session` entry (YYYY-MM-DD_x) or from where the bruker metadata is stored within the database.\n",
      "\n",
      "\n",
      "\n",
      "2002-01-01 12:00:03.000\n",
      "\n",
      "\n",
      "\n",
      "IMPORTANT: JM made up a fake datetime to fit convention of DJ. If needed for analysis, the true datetime of the experiment can still be accessed though through the `session` entry (YYYY-MM-DD_x) or from where the bruker metadata is stored within the database.\n",
      "\n",
      "\n",
      "\n",
      "2002-01-01 12:00:04.000\n",
      "Identified sessions for subject jm003: ['2022-05-03_b', '2022-05-04_a', '2022-05-04_b', '2022-05-05_b', '2022-05-05_c']\n",
      "Subject: jm004\n",
      "\n",
      "\n",
      "\n",
      "IMPORTANT: JM made up a fake datetime to fit convention of DJ. If needed for analysis, the true datetime of the experiment can still be accessed though through the `session` entry (YYYY-MM-DD_x) or from where the bruker metadata is stored within the database.\n",
      "\n",
      "\n",
      "\n",
      "2002-01-01 12:00:05.000\n",
      "Identified sessions for subject jm004: ['2022-05-06_a']\n",
      "Subject: jm007\n",
      "\n",
      "\n",
      "\n",
      "IMPORTANT: JM made up a fake datetime to fit convention of DJ. If needed for analysis, the true datetime of the experiment can still be accessed though through the `session` entry (YYYY-MM-DD_x) or from where the bruker metadata is stored within the database.\n",
      "\n",
      "\n",
      "\n",
      "2002-01-01 12:00:06.000\n",
      "\n",
      "\n",
      "\n",
      "IMPORTANT: JM made up a fake datetime to fit convention of DJ. If needed for analysis, the true datetime of the experiment can still be accessed though through the `session` entry (YYYY-MM-DD_x) or from where the bruker metadata is stored within the database.\n",
      "\n",
      "\n",
      "\n",
      "2002-01-01 12:00:07.000\n",
      "\n",
      "\n",
      "\n",
      "IMPORTANT: JM made up a fake datetime to fit convention of DJ. If needed for analysis, the true datetime of the experiment can still be accessed though through the `session` entry (YYYY-MM-DD_x) or from where the bruker metadata is stored within the database.\n",
      "\n",
      "\n",
      "\n",
      "2002-01-01 12:00:08.000\n",
      "\n",
      "\n",
      "\n",
      "IMPORTANT: JM made up a fake datetime to fit convention of DJ. If needed for analysis, the true datetime of the experiment can still be accessed though through the `session` entry (YYYY-MM-DD_x) or from where the bruker metadata is stored within the database.\n",
      "\n",
      "\n",
      "\n",
      "2002-01-01 12:00:09.000\n",
      "\n",
      "\n",
      "\n",
      "IMPORTANT: JM made up a fake datetime to fit convention of DJ. If needed for analysis, the true datetime of the experiment can still be accessed though through the `session` entry (YYYY-MM-DD_x) or from where the bruker metadata is stored within the database.\n",
      "\n",
      "\n",
      "\n",
      "2002-01-01 12:00:010.000\n",
      "\n",
      "\n",
      "\n",
      "IMPORTANT: JM made up a fake datetime to fit convention of DJ. If needed for analysis, the true datetime of the experiment can still be accessed though through the `session` entry (YYYY-MM-DD_x) or from where the bruker metadata is stored within the database.\n",
      "\n",
      "\n",
      "\n",
      "2002-01-01 12:00:011.000\n",
      "Identified sessions for subject jm007: ['2022-06-13_a', '2022-06-13_b', '2022-06-14_a', '2022-06-14_b', '2022-06-15_a', '2022-06-15_b']\n",
      "Subject: jm008\n",
      "\n",
      "\n",
      "\n",
      "IMPORTANT: JM made up a fake datetime to fit convention of DJ. If needed for analysis, the true datetime of the experiment can still be accessed though through the `session` entry (YYYY-MM-DD_x) or from where the bruker metadata is stored within the database.\n",
      "\n",
      "\n",
      "\n",
      "2002-01-01 12:00:012.000\n",
      "\n",
      "\n",
      "\n",
      "IMPORTANT: JM made up a fake datetime to fit convention of DJ. If needed for analysis, the true datetime of the experiment can still be accessed though through the `session` entry (YYYY-MM-DD_x) or from where the bruker metadata is stored within the database.\n",
      "\n",
      "\n",
      "\n",
      "2002-01-01 12:00:013.000\n",
      "\n",
      "\n",
      "\n",
      "IMPORTANT: JM made up a fake datetime to fit convention of DJ. If needed for analysis, the true datetime of the experiment can still be accessed though through the `session` entry (YYYY-MM-DD_x) or from where the bruker metadata is stored within the database.\n",
      "\n",
      "\n",
      "\n",
      "2002-01-01 12:00:014.000\n",
      "\n",
      "\n",
      "\n",
      "IMPORTANT: JM made up a fake datetime to fit convention of DJ. If needed for analysis, the true datetime of the experiment can still be accessed though through the `session` entry (YYYY-MM-DD_x) or from where the bruker metadata is stored within the database.\n",
      "\n",
      "\n",
      "\n",
      "2002-01-01 12:00:015.000\n",
      "\n",
      "\n",
      "\n",
      "IMPORTANT: JM made up a fake datetime to fit convention of DJ. If needed for analysis, the true datetime of the experiment can still be accessed though through the `session` entry (YYYY-MM-DD_x) or from where the bruker metadata is stored within the database.\n",
      "\n",
      "\n",
      "\n",
      "2002-01-01 12:00:016.000\n",
      "\n",
      "\n",
      "\n",
      "IMPORTANT: JM made up a fake datetime to fit convention of DJ. If needed for analysis, the true datetime of the experiment can still be accessed though through the `session` entry (YYYY-MM-DD_x) or from where the bruker metadata is stored within the database.\n",
      "\n",
      "\n",
      "\n",
      "2002-01-01 12:00:017.000\n",
      "\n",
      "\n",
      "\n",
      "IMPORTANT: JM made up a fake datetime to fit convention of DJ. If needed for analysis, the true datetime of the experiment can still be accessed though through the `session` entry (YYYY-MM-DD_x) or from where the bruker metadata is stored within the database.\n",
      "\n",
      "\n",
      "\n",
      "2002-01-01 12:00:018.000\n",
      "\n",
      "\n",
      "\n",
      "IMPORTANT: JM made up a fake datetime to fit convention of DJ. If needed for analysis, the true datetime of the experiment can still be accessed though through the `session` entry (YYYY-MM-DD_x) or from where the bruker metadata is stored within the database.\n",
      "\n",
      "\n",
      "\n",
      "2002-01-01 12:00:019.000\n",
      "Identified sessions for subject jm008: ['2022-06-14_a', '2022-06-14_b', '2022-06-15_a', '2022-06-15_b', '2022-06-16_a', '2022-06-16_b', '2022-06-17_a', '2022-06-17_b']\n",
      "Subject: jm010\n",
      "\n",
      "\n",
      "\n",
      "IMPORTANT: JM made up a fake datetime to fit convention of DJ. If needed for analysis, the true datetime of the experiment can still be accessed though through the `session` entry (YYYY-MM-DD_x) or from where the bruker metadata is stored within the database.\n",
      "\n",
      "\n",
      "\n",
      "2002-01-01 12:00:020.000\n",
      "\n",
      "\n",
      "\n",
      "IMPORTANT: JM made up a fake datetime to fit convention of DJ. If needed for analysis, the true datetime of the experiment can still be accessed though through the `session` entry (YYYY-MM-DD_x) or from where the bruker metadata is stored within the database.\n",
      "\n",
      "\n",
      "\n",
      "2002-01-01 12:00:021.000\n",
      "\n",
      "\n",
      "\n",
      "IMPORTANT: JM made up a fake datetime to fit convention of DJ. If needed for analysis, the true datetime of the experiment can still be accessed though through the `session` entry (YYYY-MM-DD_x) or from where the bruker metadata is stored within the database.\n",
      "\n",
      "\n",
      "\n",
      "2002-01-01 12:00:022.000\n",
      "\n",
      "\n",
      "\n",
      "IMPORTANT: JM made up a fake datetime to fit convention of DJ. If needed for analysis, the true datetime of the experiment can still be accessed though through the `session` entry (YYYY-MM-DD_x) or from where the bruker metadata is stored within the database.\n",
      "\n",
      "\n",
      "\n",
      "2002-01-01 12:00:023.000\n",
      "\n",
      "\n",
      "\n",
      "IMPORTANT: JM made up a fake datetime to fit convention of DJ. If needed for analysis, the true datetime of the experiment can still be accessed though through the `session` entry (YYYY-MM-DD_x) or from where the bruker metadata is stored within the database.\n",
      "\n",
      "\n",
      "\n",
      "2002-01-01 12:00:024.000\n",
      "\n",
      "\n",
      "\n",
      "IMPORTANT: JM made up a fake datetime to fit convention of DJ. If needed for analysis, the true datetime of the experiment can still be accessed though through the `session` entry (YYYY-MM-DD_x) or from where the bruker metadata is stored within the database.\n",
      "\n",
      "\n",
      "\n",
      "2002-01-01 12:00:025.000\n",
      "Identified sessions for subject jm010: ['2022-06-15_a', '2022-06-15_c', '2022-06-16_a', '2022-06-16_b', '2022-06-17_a', '2022-06-17_b']\n",
      "Subject: jm012\n",
      "\n",
      "\n",
      "\n",
      "IMPORTANT: JM made up a fake datetime to fit convention of DJ. If needed for analysis, the true datetime of the experiment can still be accessed though through the `session` entry (YYYY-MM-DD_x) or from where the bruker metadata is stored within the database.\n",
      "\n",
      "\n",
      "\n",
      "2002-01-01 12:00:026.000\n",
      "Identified sessions for subject jm012: ['2022-07-06_a']\n",
      "Subject: jm013\n",
      "\n",
      "\n",
      "\n",
      "IMPORTANT: JM made up a fake datetime to fit convention of DJ. If needed for analysis, the true datetime of the experiment can still be accessed though through the `session` entry (YYYY-MM-DD_x) or from where the bruker metadata is stored within the database.\n",
      "\n",
      "\n",
      "\n",
      "2002-01-01 12:00:027.000\n",
      "\n",
      "\n",
      "\n",
      "IMPORTANT: JM made up a fake datetime to fit convention of DJ. If needed for analysis, the true datetime of the experiment can still be accessed though through the `session` entry (YYYY-MM-DD_x) or from where the bruker metadata is stored within the database.\n",
      "\n",
      "\n",
      "\n",
      "2002-01-01 12:00:028.000\n",
      "\n",
      "\n",
      "\n",
      "IMPORTANT: JM made up a fake datetime to fit convention of DJ. If needed for analysis, the true datetime of the experiment can still be accessed though through the `session` entry (YYYY-MM-DD_x) or from where the bruker metadata is stored within the database.\n",
      "\n",
      "\n",
      "\n",
      "2002-01-01 12:00:029.000\n",
      "Identified sessions for subject jm013: ['2023-02-02_a', '2023-02-02_b', '2023-03-02_a']\n",
      "Subject: jm014\n",
      "\n",
      "\n",
      "\n",
      "IMPORTANT: JM made up a fake datetime to fit convention of DJ. If needed for analysis, the true datetime of the experiment can still be accessed though through the `session` entry (YYYY-MM-DD_x) or from where the bruker metadata is stored within the database.\n",
      "\n",
      "\n",
      "\n",
      "2002-01-01 12:00:030.000\n",
      "\n",
      "\n",
      "\n",
      "IMPORTANT: JM made up a fake datetime to fit convention of DJ. If needed for analysis, the true datetime of the experiment can still be accessed though through the `session` entry (YYYY-MM-DD_x) or from where the bruker metadata is stored within the database.\n",
      "\n",
      "\n",
      "\n",
      "2002-01-01 12:00:031.000\n",
      "\n",
      "\n",
      "\n",
      "IMPORTANT: JM made up a fake datetime to fit convention of DJ. If needed for analysis, the true datetime of the experiment can still be accessed though through the `session` entry (YYYY-MM-DD_x) or from where the bruker metadata is stored within the database.\n",
      "\n",
      "\n",
      "\n",
      "2002-01-01 12:00:032.000\n",
      "Identified sessions for subject jm014: ['2023-03-02_a', '2023-03-02_b', '2023-03-02_c']\n"
     ]
    }
   ],
   "source": [
    "# custom function to populate database\n",
    "root_data_dir = dj.config['custom']['imaging_root_data_dir']\n",
    "fake_session_datetime_str_init = '2002-01-01 12:00:00.000' # making up session datetime (to query data use either the session/folder name or PraireView metadata)\n",
    "all_subject_str, all_session_str, all_datetime_str = get_metadata_from_filetree(root_data_dir, fake_session_datetime_str_init)\n"
   ]
  },
  {
   "cell_type": "markdown",
   "id": "fbd2126c-5725-48d7-bdcf-2b9f2f7b57ad",
   "metadata": {},
   "source": [
    "Automated Suite2p"
   ]
  },
  {
   "cell_type": "markdown",
   "id": "60fb9e45-f5a3-4162-b003-a639647de596",
   "metadata": {},
   "source": [
    "## Note from Jure to Phan: everything below here is super preliminary, i'm debugging some issues with suite2p still (the bottom cell where params_suite2p are defined will change a lot, and also later on i am only testing all of this on a single dataset specified manually (see the section titled 'Running suite2p for one animal'))"
   ]
  },
  {
   "cell_type": "code",
   "execution_count": 7,
   "id": "90bcdf9c-262d-4062-9fc4-5fcee77cceb8",
   "metadata": {},
   "outputs": [
    {
     "data": {
      "text/plain": [
       "{'suite2p_version': '0.10.3',\n",
       " 'look_one_level_down': 0,\n",
       " 'fast_disk': ['/suite2p_fast_disk'],\n",
       " 'delete_bin': True,\n",
       " 'mesoscan': False,\n",
       " 'bruker': True,\n",
       " 'bruker_bidirectional': False,\n",
       " 'h5py': [],\n",
       " 'h5py_key': 'data',\n",
       " 'nwb_file': '',\n",
       " 'nwb_driver': '',\n",
       " 'nwb_series': '',\n",
       " 'save_path0': [],\n",
       " 'save_folder': [],\n",
       " 'subfolders': [],\n",
       " 'move_bin': False,\n",
       " 'nplanes': 1,\n",
       " 'nchannels': 1,\n",
       " 'functional_chan': 1,\n",
       " 'tau': 0.1,\n",
       " 'fs': 30.0,\n",
       " 'force_sktiff': True,\n",
       " 'frames_include': -1,\n",
       " 'multiplane_parallel': 0.0,\n",
       " 'ignore_flyback': [],\n",
       " 'preclassify': 0.0,\n",
       " 'save_mat': False,\n",
       " 'save_NWB': 0.0,\n",
       " 'combined': 1.0,\n",
       " 'aspect': 1.0,\n",
       " 'do_bidiphase': False,\n",
       " 'bidiphase': 0.0,\n",
       " 'bidi_corrected': False,\n",
       " 'do_registration': 1,\n",
       " 'two_step_registration': 0.0,\n",
       " 'keep_movie_raw': True,\n",
       " 'nimg_init': 300,\n",
       " 'batch_size': 500,\n",
       " 'maxregshift': 0.1,\n",
       " 'align_by_chan': 1,\n",
       " 'reg_tif': True,\n",
       " 'reg_tif_chan2': False,\n",
       " 'subpixel': 10,\n",
       " 'smooth_sigma_time': 0.0,\n",
       " 'smooth_sigma': 1.15,\n",
       " 'th_badframes': 1.0,\n",
       " 'norm_frames': True,\n",
       " 'force_refImg': False,\n",
       " 'pad_fft': False,\n",
       " 'nonrigid': True,\n",
       " 'block_size': [128, 128],\n",
       " 'snr_thresh': 1.2,\n",
       " 'maxregshiftNR': 5.0,\n",
       " '1Preg': False,\n",
       " 'spatial_hp': 42,\n",
       " 'spatial_hp_reg': 42.0,\n",
       " 'spatial_hp_detect': 25,\n",
       " 'pre_smooth': 0.0,\n",
       " 'spatial_taper': 40.0,\n",
       " 'roidetect': True,\n",
       " 'spikedetect': True,\n",
       " 'anatomical_only': 0.0,\n",
       " 'cellprob_threshold': 0.0,\n",
       " 'flow_threshold': 1.5,\n",
       " 'sparse_mode': True,\n",
       " 'diameter': 0,\n",
       " 'spatial_scale': 0,\n",
       " 'connected': True,\n",
       " 'nbinned': 5000,\n",
       " 'max_iterations': 20,\n",
       " 'threshold_scaling': 1.0,\n",
       " 'max_overlap': 0.75,\n",
       " 'high_pass': 100.0,\n",
       " 'denoise': 0.0,\n",
       " 'soma_crop': 1.0,\n",
       " 'neuropil_extract': True,\n",
       " 'inner_neuropil_radius': 2,\n",
       " 'min_neuropil_pixels': 350,\n",
       " 'lam_percentile': 50.0,\n",
       " 'allow_overlap': True,\n",
       " 'use_builtin_classifier': False,\n",
       " 'classifier_path': 0,\n",
       " 'chan2_thres': 0.65,\n",
       " 'baseline': 'maximin',\n",
       " 'win_baseline': 60.0,\n",
       " 'sig_baseline': 10.0,\n",
       " 'prctile_baseline': 8.0,\n",
       " 'neucoeff': 0.7,\n",
       " 'input_format': 'bruker'}"
      ]
     },
     "execution_count": 7,
     "metadata": {},
     "output_type": "execute_result"
    }
   ],
   "source": [
    "choose_params = 'ops_jm_30hz_1plane' # number of channels, imaging rate and number of planes is overwritten by datajoint (see code for imaging.Processing.populate)\n",
    "\n",
    "params_suite2p = np.load(f'/home/cossart/deve-networks/scripts/s2p_ops/{choose_params}.npy', allow_pickle=True).item()\n",
    "\n",
    "params_suite2p['look_one_level_down'] = 0\n",
    "params_suite2p['input_format'] = 'bruker'\n",
    "params_suite2p['bruker'] = True\n",
    "params_suite2p['force_sktiff'] = True\n",
    "params_suite2p['two_step_registration'] = 0.0\n",
    "params_suite2p['fast_disk'] = ['/suite2p_fast_disk']\n",
    "params_suite2p"
   ]
  },
  {
   "cell_type": "code",
   "execution_count": 8,
   "id": "aaa04cfc-05d1-4e7e-bbc2-d127f50686ed",
   "metadata": {},
   "outputs": [],
   "source": [
    "imaging.ProcessingParamSet.insert_new_params(\n",
    "    processing_method='suite2p', \n",
    "    paramset_idx=0, \n",
    "    params=params_suite2p,\n",
    "    paramset_desc=f'Calcium imaging analysis with Suite2p using {choose_params} parameters')"
   ]
  },
  {
   "cell_type": "code",
   "execution_count": 9,
   "id": "adb393d2-e060-483a-8422-050839d4dfd2",
   "metadata": {},
   "outputs": [
    {
     "name": "stdout",
     "output_type": "stream",
     "text": [
      "\n",
      "---- Populate imported and computed tables ----\n"
     ]
    },
    {
     "name": "stderr",
     "output_type": "stream",
     "text": [
      "ScanInfo:   0%|          | 0/12 [00:00<?, ?it/s]"
     ]
    },
    {
     "name": "stdout",
     "output_type": "stream",
     "text": [
      "\n",
      "\n",
      "\n",
      "Scan_filepaths:\n",
      "/media/cossart/DATA/dj_cossart/data/jm010/2022-06-15_c/TSeries-05182022-1006-003/TSeries-05182022-1006-003_Cycle00001_Ch1_000001.ome.tif\n",
      "\n",
      "\n",
      "\n",
      "\n",
      "\n",
      "\n",
      "IMPORTANT: JM: I also changed default number of roi from 1 to 0, because 1 throws an error with auto-populating suite2p\n",
      "\n",
      "\n",
      "\n"
     ]
    },
    {
     "name": "stderr",
     "output_type": "stream",
     "text": [
      "ScanInfo:   0%|          | 0/12 [00:02<?, ?it/s]"
     ]
    },
    {
     "name": "stdout",
     "output_type": "stream",
     "text": [
      "z_fields.size: 1\n",
      "n_depths: 2\n",
      "z_step: 200.0\n",
      "\n",
      "\n",
      "\n",
      "IMPORTANT: here I (JM) hardcoded the subindex because of the issue of two z devices (see: https://github.com/datajoint/element-interface/issues/77)\n",
      "\n",
      "\n",
      "\n",
      "\n",
      "\n",
      "\n",
      "IMPORTANT: another issue can occur here, sometimes Prairie view writes the z position of planes wrongly (even though the z changes, it logs the same depth for the two planes)\n",
      "\n",
      "\n",
      "\n",
      "Error occured in asserting \"z_fields.size == n_depths\", moving to next dataset (this is probably because of a Prairie view bug, sometimes it writes the z position of planes wrongly (even though the z changes, it logs the same depth for the two planes))\n",
      "Overwriting n_depths to be equal to z_fields.size...\n",
      "{'num_fields': 1, 'num_channels': 2, 'num_planes': 1, 'num_frames': 24000, 'num_rois': 0, 'x_pos': None, 'y_pos': None, 'z_pos': None, 'frame_rate': 30.22341267543331, 'bidirectional': False, 'bidirectional_z': True, 'scan_datetime': datetime.datetime(2022, 6, 15, 18, 56, 46), 'usecs_per_line': 63.143, 'scan_duration': 1166.410557535, 'height_in_pixels': 512, 'width_in_pixels': 512, 'height_in_um': 752.5374145480857, 'width_in_um': 752.5374145480857, 'fieldX': 0.0, 'fieldY': 0.0, 'fieldZ': array([392.81728351]), 'recording_time': '18:56:46.0184068'}\n"
     ]
    },
    {
     "name": "stderr",
     "output_type": "stream",
     "text": [
      "\n"
     ]
    },
    {
     "ename": "DataError",
     "evalue": "(1265, \"Data truncated for column 'field_z' at row 1\")",
     "output_type": "error",
     "traceback": [
      "\u001b[0;31m---------------------------------------------------------------------------\u001b[0m",
      "\u001b[0;31mDataError\u001b[0m                                 Traceback (most recent call last)",
      "Cell \u001b[0;32mIn[9], line 2\u001b[0m\n\u001b[1;32m      1\u001b[0m \u001b[38;5;28;01mfrom\u001b[39;00m \u001b[38;5;21;01mworkflow_calcium_imaging\u001b[39;00m \u001b[38;5;28;01mimport\u001b[39;00m process\n\u001b[0;32m----> 2\u001b[0m \u001b[43mprocess\u001b[49m\u001b[38;5;241;43m.\u001b[39;49m\u001b[43mrun\u001b[49m\u001b[43m(\u001b[49m\u001b[43m)\u001b[49m\n",
      "File \u001b[0;32m~/workflow-calcium-imaging/workflow_calcium_imaging/process.py:23\u001b[0m, in \u001b[0;36mrun\u001b[0;34m(display_progress)\u001b[0m\n\u001b[1;32m     15\u001b[0m populate_settings \u001b[38;5;241m=\u001b[39m {\n\u001b[1;32m     16\u001b[0m     \u001b[38;5;124m\"\u001b[39m\u001b[38;5;124mdisplay_progress\u001b[39m\u001b[38;5;124m\"\u001b[39m: display_progress,\n\u001b[1;32m     17\u001b[0m     \u001b[38;5;124m\"\u001b[39m\u001b[38;5;124mreserve_jobs\u001b[39m\u001b[38;5;124m\"\u001b[39m: \u001b[38;5;28;01mFalse\u001b[39;00m,\n\u001b[1;32m     18\u001b[0m     \u001b[38;5;124m\"\u001b[39m\u001b[38;5;124msuppress_errors\u001b[39m\u001b[38;5;124m\"\u001b[39m: \u001b[38;5;28;01mFalse\u001b[39;00m,\n\u001b[1;32m     19\u001b[0m }\n\u001b[1;32m     21\u001b[0m \u001b[38;5;28mprint\u001b[39m(\u001b[38;5;124m\"\u001b[39m\u001b[38;5;130;01m\\n\u001b[39;00m\u001b[38;5;124m---- Populate imported and computed tables ----\u001b[39m\u001b[38;5;124m\"\u001b[39m)\n\u001b[0;32m---> 23\u001b[0m \u001b[43mscan\u001b[49m\u001b[38;5;241;43m.\u001b[39;49m\u001b[43mScanInfo\u001b[49m\u001b[38;5;241;43m.\u001b[39;49m\u001b[43mpopulate\u001b[49m\u001b[43m(\u001b[49m\u001b[38;5;241;43m*\u001b[39;49m\u001b[38;5;241;43m*\u001b[39;49m\u001b[43mpopulate_settings\u001b[49m\u001b[43m)\u001b[49m\n\u001b[1;32m     25\u001b[0m imaging\u001b[38;5;241m.\u001b[39mProcessing\u001b[38;5;241m.\u001b[39mpopulate(\u001b[38;5;241m*\u001b[39m\u001b[38;5;241m*\u001b[39mpopulate_settings)\n\u001b[1;32m     27\u001b[0m imaging\u001b[38;5;241m.\u001b[39mMotionCorrection\u001b[38;5;241m.\u001b[39mpopulate(\u001b[38;5;241m*\u001b[39m\u001b[38;5;241m*\u001b[39mpopulate_settings)\n",
      "File \u001b[0;32m~/anaconda3/envs/dj_cossart/lib/python3.8/site-packages/datajoint/autopopulate.py:230\u001b[0m, in \u001b[0;36mAutoPopulate.populate\u001b[0;34m(self, suppress_errors, return_exception_objects, reserve_jobs, order, limit, max_calls, display_progress, processes, make_kwargs, *restrictions)\u001b[0m\n\u001b[1;32m    226\u001b[0m \u001b[38;5;28;01mif\u001b[39;00m processes \u001b[38;5;241m==\u001b[39m \u001b[38;5;241m1\u001b[39m:\n\u001b[1;32m    227\u001b[0m     \u001b[38;5;28;01mfor\u001b[39;00m key \u001b[38;5;129;01min\u001b[39;00m (\n\u001b[1;32m    228\u001b[0m         tqdm(keys, desc\u001b[38;5;241m=\u001b[39m\u001b[38;5;28mself\u001b[39m\u001b[38;5;241m.\u001b[39m\u001b[38;5;18m__class__\u001b[39m\u001b[38;5;241m.\u001b[39m\u001b[38;5;18m__name__\u001b[39m) \u001b[38;5;28;01mif\u001b[39;00m display_progress \u001b[38;5;28;01melse\u001b[39;00m keys\n\u001b[1;32m    229\u001b[0m     ):\n\u001b[0;32m--> 230\u001b[0m         error \u001b[38;5;241m=\u001b[39m \u001b[38;5;28;43mself\u001b[39;49m\u001b[38;5;241;43m.\u001b[39;49m\u001b[43m_populate1\u001b[49m\u001b[43m(\u001b[49m\u001b[43mkey\u001b[49m\u001b[43m,\u001b[49m\u001b[43m \u001b[49m\u001b[43mjobs\u001b[49m\u001b[43m,\u001b[49m\u001b[43m \u001b[49m\u001b[38;5;241;43m*\u001b[39;49m\u001b[38;5;241;43m*\u001b[39;49m\u001b[43mpopulate_kwargs\u001b[49m\u001b[43m)\u001b[49m\n\u001b[1;32m    231\u001b[0m         \u001b[38;5;28;01mif\u001b[39;00m error \u001b[38;5;129;01mis\u001b[39;00m \u001b[38;5;129;01mnot\u001b[39;00m \u001b[38;5;28;01mNone\u001b[39;00m:\n\u001b[1;32m    232\u001b[0m             error_list\u001b[38;5;241m.\u001b[39mappend(error)\n",
      "File \u001b[0;32m~/anaconda3/envs/dj_cossart/lib/python3.8/site-packages/datajoint/autopopulate.py:281\u001b[0m, in \u001b[0;36mAutoPopulate._populate1\u001b[0;34m(self, key, jobs, suppress_errors, return_exception_objects, make_kwargs)\u001b[0m\n\u001b[1;32m    279\u001b[0m \u001b[38;5;28mself\u001b[39m\u001b[38;5;241m.\u001b[39m\u001b[38;5;18m__class__\u001b[39m\u001b[38;5;241m.\u001b[39m_allow_insert \u001b[38;5;241m=\u001b[39m \u001b[38;5;28;01mTrue\u001b[39;00m\n\u001b[1;32m    280\u001b[0m \u001b[38;5;28;01mtry\u001b[39;00m:\n\u001b[0;32m--> 281\u001b[0m     \u001b[43mmake\u001b[49m\u001b[43m(\u001b[49m\u001b[38;5;28;43mdict\u001b[39;49m\u001b[43m(\u001b[49m\u001b[43mkey\u001b[49m\u001b[43m)\u001b[49m\u001b[43m,\u001b[49m\u001b[43m \u001b[49m\u001b[38;5;241;43m*\u001b[39;49m\u001b[38;5;241;43m*\u001b[39;49m\u001b[43m(\u001b[49m\u001b[43mmake_kwargs\u001b[49m\u001b[43m \u001b[49m\u001b[38;5;129;43;01mor\u001b[39;49;00m\u001b[43m \u001b[49m\u001b[43m{\u001b[49m\u001b[43m}\u001b[49m\u001b[43m)\u001b[49m\u001b[43m)\u001b[49m\n\u001b[1;32m    282\u001b[0m \u001b[38;5;28;01mexcept\u001b[39;00m (\u001b[38;5;167;01mKeyboardInterrupt\u001b[39;00m, \u001b[38;5;167;01mSystemExit\u001b[39;00m, \u001b[38;5;167;01mException\u001b[39;00m) \u001b[38;5;28;01mas\u001b[39;00m error:\n\u001b[1;32m    283\u001b[0m     \u001b[38;5;28;01mtry\u001b[39;00m:\n",
      "File \u001b[0;32m~/anaconda3/envs/dj_cossart/lib/python3.8/site-packages/element_calcium_imaging/scan.py:609\u001b[0m, in \u001b[0;36mScanInfo.make\u001b[0;34m(self, key)\u001b[0m\n\u001b[1;32m    588\u001b[0m     \u001b[38;5;28mprint\u001b[39m(pvscan_info)\n\u001b[1;32m    589\u001b[0m     \u001b[38;5;28mself\u001b[39m\u001b[38;5;241m.\u001b[39minsert1(\n\u001b[1;32m    590\u001b[0m         \u001b[38;5;28mdict\u001b[39m(\n\u001b[1;32m    591\u001b[0m             key,\n\u001b[0;32m   (...)\u001b[0m\n\u001b[1;32m    606\u001b[0m         )\n\u001b[1;32m    607\u001b[0m     )\n\u001b[0;32m--> 609\u001b[0m     \u001b[38;5;28;43mself\u001b[39;49m\u001b[38;5;241;43m.\u001b[39;49m\u001b[43mField\u001b[49m\u001b[38;5;241;43m.\u001b[39;49m\u001b[43minsert\u001b[49m\u001b[43m(\u001b[49m\n\u001b[1;32m    610\u001b[0m \u001b[43m            \u001b[49m\u001b[38;5;28;43mdict\u001b[39;49m\u001b[43m(\u001b[49m\n\u001b[1;32m    611\u001b[0m \u001b[43m                \u001b[49m\u001b[43mkey\u001b[49m\u001b[43m,\u001b[49m\n\u001b[1;32m    612\u001b[0m \u001b[43m                \u001b[49m\u001b[43mfield_idx\u001b[49m\u001b[38;5;241;43m=\u001b[39;49m\u001b[43mplane_idx\u001b[49m\u001b[43m,\u001b[49m\n\u001b[1;32m    613\u001b[0m \u001b[43m                \u001b[49m\u001b[43mpx_height\u001b[49m\u001b[38;5;241;43m=\u001b[39;49m\u001b[43mpvscan_info\u001b[49m\u001b[43m[\u001b[49m\u001b[38;5;124;43m\"\u001b[39;49m\u001b[38;5;124;43mheight_in_pixels\u001b[39;49m\u001b[38;5;124;43m\"\u001b[39;49m\u001b[43m]\u001b[49m\u001b[43m,\u001b[49m\n\u001b[1;32m    614\u001b[0m \u001b[43m                \u001b[49m\u001b[43mpx_width\u001b[49m\u001b[38;5;241;43m=\u001b[39;49m\u001b[43mpvscan_info\u001b[49m\u001b[43m[\u001b[49m\u001b[38;5;124;43m\"\u001b[39;49m\u001b[38;5;124;43mwidth_in_pixels\u001b[39;49m\u001b[38;5;124;43m\"\u001b[39;49m\u001b[43m]\u001b[49m\u001b[43m,\u001b[49m\n\u001b[1;32m    615\u001b[0m \u001b[43m                \u001b[49m\u001b[43mum_height\u001b[49m\u001b[38;5;241;43m=\u001b[39;49m\u001b[43mpvscan_info\u001b[49m\u001b[43m[\u001b[49m\u001b[38;5;124;43m\"\u001b[39;49m\u001b[38;5;124;43mheight_in_um\u001b[39;49m\u001b[38;5;124;43m\"\u001b[39;49m\u001b[43m]\u001b[49m\u001b[43m,\u001b[49m\n\u001b[1;32m    616\u001b[0m \u001b[43m                \u001b[49m\u001b[43mum_width\u001b[49m\u001b[38;5;241;43m=\u001b[39;49m\u001b[43mpvscan_info\u001b[49m\u001b[43m[\u001b[49m\u001b[38;5;124;43m\"\u001b[39;49m\u001b[38;5;124;43mwidth_in_um\u001b[39;49m\u001b[38;5;124;43m\"\u001b[39;49m\u001b[43m]\u001b[49m\u001b[43m,\u001b[49m\n\u001b[1;32m    617\u001b[0m \u001b[43m                \u001b[49m\u001b[43mfield_x\u001b[49m\u001b[38;5;241;43m=\u001b[39;49m\u001b[43mpvscan_info\u001b[49m\u001b[43m[\u001b[49m\u001b[38;5;124;43m\"\u001b[39;49m\u001b[38;5;124;43mfieldX\u001b[39;49m\u001b[38;5;124;43m\"\u001b[39;49m\u001b[43m]\u001b[49m\u001b[43m,\u001b[49m\n\u001b[1;32m    618\u001b[0m \u001b[43m                \u001b[49m\u001b[43mfield_y\u001b[49m\u001b[38;5;241;43m=\u001b[39;49m\u001b[43mpvscan_info\u001b[49m\u001b[43m[\u001b[49m\u001b[38;5;124;43m\"\u001b[39;49m\u001b[38;5;124;43mfieldY\u001b[39;49m\u001b[38;5;124;43m\"\u001b[39;49m\u001b[43m]\u001b[49m\u001b[43m,\u001b[49m\n\u001b[1;32m    619\u001b[0m \u001b[43m                \u001b[49m\u001b[43mfield_z\u001b[49m\u001b[38;5;241;43m=\u001b[39;49m\u001b[43mpvscan_info\u001b[49m\u001b[43m[\u001b[49m\u001b[38;5;124;43m\"\u001b[39;49m\u001b[38;5;124;43mfieldZ\u001b[39;49m\u001b[38;5;124;43m\"\u001b[39;49m\u001b[43m]\u001b[49m\u001b[43m \u001b[49m\u001b[38;5;28;43;01mif\u001b[39;49;00m\u001b[43m \u001b[49m\u001b[43mpvscan_info\u001b[49m\u001b[43m[\u001b[49m\u001b[38;5;124;43m\"\u001b[39;49m\u001b[38;5;124;43mnum_planes\u001b[39;49m\u001b[38;5;124;43m\"\u001b[39;49m\u001b[43m]\u001b[49m\u001b[43m \u001b[49m\u001b[38;5;241;43m==\u001b[39;49m\u001b[43m \u001b[49m\u001b[38;5;241;43m1\u001b[39;49m\u001b[43m \u001b[49m\u001b[38;5;28;43;01melse\u001b[39;49;00m\u001b[43m \u001b[49m\u001b[43mpvscan_info\u001b[49m\u001b[43m[\u001b[49m\u001b[38;5;124;43m\"\u001b[39;49m\u001b[38;5;124;43mfieldZ\u001b[39;49m\u001b[38;5;124;43m\"\u001b[39;49m\u001b[43m]\u001b[49m\u001b[43m[\u001b[49m\u001b[43mplane_idx\u001b[49m\u001b[43m]\u001b[49m\u001b[43m,\u001b[49m\n\u001b[1;32m    620\u001b[0m \u001b[43m            \u001b[49m\u001b[43m)\u001b[49m\n\u001b[1;32m    621\u001b[0m \u001b[43m            \u001b[49m\u001b[38;5;28;43;01mfor\u001b[39;49;00m\u001b[43m \u001b[49m\u001b[43mplane_idx\u001b[49m\u001b[43m \u001b[49m\u001b[38;5;129;43;01min\u001b[39;49;00m\u001b[43m \u001b[49m\u001b[38;5;28;43mrange\u001b[39;49m\u001b[43m(\u001b[49m\u001b[43mpvscan_info\u001b[49m\u001b[43m[\u001b[49m\u001b[38;5;124;43m\"\u001b[39;49m\u001b[38;5;124;43mnum_planes\u001b[39;49m\u001b[38;5;124;43m\"\u001b[39;49m\u001b[43m]\u001b[49m\u001b[43m)\u001b[49m\n\u001b[1;32m    622\u001b[0m \u001b[43m    \u001b[49m\u001b[43m)\u001b[49m\n\u001b[1;32m    623\u001b[0m \u001b[38;5;28;01melse\u001b[39;00m:\n\u001b[1;32m    624\u001b[0m     \u001b[38;5;28;01mraise\u001b[39;00m \u001b[38;5;167;01mNotImplementedError\u001b[39;00m(\n\u001b[1;32m    625\u001b[0m         \u001b[38;5;124mf\u001b[39m\u001b[38;5;124m\"\u001b[39m\u001b[38;5;124mLoading routine not implemented for \u001b[39m\u001b[38;5;132;01m{\u001b[39;00macq_software\u001b[38;5;132;01m}\u001b[39;00m\u001b[38;5;124m \u001b[39m\u001b[38;5;124m\"\u001b[39m\n\u001b[1;32m    626\u001b[0m         \u001b[38;5;124m\"\u001b[39m\u001b[38;5;124macquisition software\u001b[39m\u001b[38;5;124m\"\u001b[39m\n\u001b[1;32m    627\u001b[0m     )\n",
      "File \u001b[0;32m~/anaconda3/envs/dj_cossart/lib/python3.8/site-packages/datajoint/table.py:430\u001b[0m, in \u001b[0;36mTable.insert\u001b[0;34m(self, rows, replace, skip_duplicates, ignore_extra_fields, allow_direct_insert)\u001b[0m\n\u001b[1;32m    414\u001b[0m \u001b[38;5;28;01mtry\u001b[39;00m:\n\u001b[1;32m    415\u001b[0m     query \u001b[38;5;241m=\u001b[39m \u001b[38;5;124m\"\u001b[39m\u001b[38;5;132;01m{command}\u001b[39;00m\u001b[38;5;124m INTO \u001b[39m\u001b[38;5;132;01m{destination}\u001b[39;00m\u001b[38;5;124m(`\u001b[39m\u001b[38;5;132;01m{fields}\u001b[39;00m\u001b[38;5;124m`) VALUES \u001b[39m\u001b[38;5;132;01m{placeholders}\u001b[39;00m\u001b[38;5;132;01m{duplicate}\u001b[39;00m\u001b[38;5;124m\"\u001b[39m\u001b[38;5;241m.\u001b[39mformat(\n\u001b[1;32m    416\u001b[0m         command\u001b[38;5;241m=\u001b[39m\u001b[38;5;124m\"\u001b[39m\u001b[38;5;124mREPLACE\u001b[39m\u001b[38;5;124m\"\u001b[39m \u001b[38;5;28;01mif\u001b[39;00m replace \u001b[38;5;28;01melse\u001b[39;00m \u001b[38;5;124m\"\u001b[39m\u001b[38;5;124mINSERT\u001b[39m\u001b[38;5;124m\"\u001b[39m,\n\u001b[1;32m    417\u001b[0m         destination\u001b[38;5;241m=\u001b[39m\u001b[38;5;28mself\u001b[39m\u001b[38;5;241m.\u001b[39mfrom_clause(),\n\u001b[0;32m   (...)\u001b[0m\n\u001b[1;32m    428\u001b[0m         ),\n\u001b[1;32m    429\u001b[0m     )\n\u001b[0;32m--> 430\u001b[0m     \u001b[38;5;28;43mself\u001b[39;49m\u001b[38;5;241;43m.\u001b[39;49m\u001b[43mconnection\u001b[49m\u001b[38;5;241;43m.\u001b[39;49m\u001b[43mquery\u001b[49m\u001b[43m(\u001b[49m\n\u001b[1;32m    431\u001b[0m \u001b[43m        \u001b[49m\u001b[43mquery\u001b[49m\u001b[43m,\u001b[49m\n\u001b[1;32m    432\u001b[0m \u001b[43m        \u001b[49m\u001b[43margs\u001b[49m\u001b[38;5;241;43m=\u001b[39;49m\u001b[38;5;28;43mlist\u001b[39;49m\u001b[43m(\u001b[49m\n\u001b[1;32m    433\u001b[0m \u001b[43m            \u001b[49m\u001b[43mitertools\u001b[49m\u001b[38;5;241;43m.\u001b[39;49m\u001b[43mchain\u001b[49m\u001b[38;5;241;43m.\u001b[39;49m\u001b[43mfrom_iterable\u001b[49m\u001b[43m(\u001b[49m\n\u001b[1;32m    434\u001b[0m \u001b[43m                \u001b[49m\u001b[43m(\u001b[49m\u001b[43mv\u001b[49m\u001b[43m \u001b[49m\u001b[38;5;28;43;01mfor\u001b[39;49;00m\u001b[43m \u001b[49m\u001b[43mv\u001b[49m\u001b[43m \u001b[49m\u001b[38;5;129;43;01min\u001b[39;49;00m\u001b[43m \u001b[49m\u001b[43mr\u001b[49m\u001b[43m[\u001b[49m\u001b[38;5;124;43m\"\u001b[39;49m\u001b[38;5;124;43mvalues\u001b[39;49m\u001b[38;5;124;43m\"\u001b[39;49m\u001b[43m]\u001b[49m\u001b[43m \u001b[49m\u001b[38;5;28;43;01mif\u001b[39;49;00m\u001b[43m \u001b[49m\u001b[43mv\u001b[49m\u001b[43m \u001b[49m\u001b[38;5;129;43;01mis\u001b[39;49;00m\u001b[43m \u001b[49m\u001b[38;5;129;43;01mnot\u001b[39;49;00m\u001b[43m \u001b[49m\u001b[38;5;28;43;01mNone\u001b[39;49;00m\u001b[43m)\u001b[49m\u001b[43m \u001b[49m\u001b[38;5;28;43;01mfor\u001b[39;49;00m\u001b[43m \u001b[49m\u001b[43mr\u001b[49m\u001b[43m \u001b[49m\u001b[38;5;129;43;01min\u001b[39;49;00m\u001b[43m \u001b[49m\u001b[43mrows\u001b[49m\n\u001b[1;32m    435\u001b[0m \u001b[43m            \u001b[49m\u001b[43m)\u001b[49m\n\u001b[1;32m    436\u001b[0m \u001b[43m        \u001b[49m\u001b[43m)\u001b[49m\u001b[43m,\u001b[49m\n\u001b[1;32m    437\u001b[0m \u001b[43m    \u001b[49m\u001b[43m)\u001b[49m\n\u001b[1;32m    438\u001b[0m \u001b[38;5;28;01mexcept\u001b[39;00m UnknownAttributeError \u001b[38;5;28;01mas\u001b[39;00m err:\n\u001b[1;32m    439\u001b[0m     \u001b[38;5;28;01mraise\u001b[39;00m err\u001b[38;5;241m.\u001b[39msuggest(\n\u001b[1;32m    440\u001b[0m         \u001b[38;5;124m\"\u001b[39m\u001b[38;5;124mTo ignore extra fields in insert, set ignore_extra_fields=True\u001b[39m\u001b[38;5;124m\"\u001b[39m\n\u001b[1;32m    441\u001b[0m     )\n",
      "File \u001b[0;32m~/anaconda3/envs/dj_cossart/lib/python3.8/site-packages/datajoint/connection.py:340\u001b[0m, in \u001b[0;36mConnection.query\u001b[0;34m(self, query, args, as_dict, suppress_warnings, reconnect)\u001b[0m\n\u001b[1;32m    338\u001b[0m cursor \u001b[38;5;241m=\u001b[39m \u001b[38;5;28mself\u001b[39m\u001b[38;5;241m.\u001b[39m_conn\u001b[38;5;241m.\u001b[39mcursor(cursor\u001b[38;5;241m=\u001b[39mcursor_class)\n\u001b[1;32m    339\u001b[0m \u001b[38;5;28;01mtry\u001b[39;00m:\n\u001b[0;32m--> 340\u001b[0m     \u001b[38;5;28;43mself\u001b[39;49m\u001b[38;5;241;43m.\u001b[39;49m\u001b[43m_execute_query\u001b[49m\u001b[43m(\u001b[49m\u001b[43mcursor\u001b[49m\u001b[43m,\u001b[49m\u001b[43m \u001b[49m\u001b[43mquery\u001b[49m\u001b[43m,\u001b[49m\u001b[43m \u001b[49m\u001b[43margs\u001b[49m\u001b[43m,\u001b[49m\u001b[43m \u001b[49m\u001b[43msuppress_warnings\u001b[49m\u001b[43m)\u001b[49m\n\u001b[1;32m    341\u001b[0m \u001b[38;5;28;01mexcept\u001b[39;00m errors\u001b[38;5;241m.\u001b[39mLostConnectionError:\n\u001b[1;32m    342\u001b[0m     \u001b[38;5;28;01mif\u001b[39;00m \u001b[38;5;129;01mnot\u001b[39;00m reconnect:\n",
      "File \u001b[0;32m~/anaconda3/envs/dj_cossart/lib/python3.8/site-packages/datajoint/connection.py:296\u001b[0m, in \u001b[0;36mConnection._execute_query\u001b[0;34m(cursor, query, args, suppress_warnings)\u001b[0m\n\u001b[1;32m    294\u001b[0m         cursor\u001b[38;5;241m.\u001b[39mexecute(query, args)\n\u001b[1;32m    295\u001b[0m \u001b[38;5;28;01mexcept\u001b[39;00m client\u001b[38;5;241m.\u001b[39merr\u001b[38;5;241m.\u001b[39mError \u001b[38;5;28;01mas\u001b[39;00m err:\n\u001b[0;32m--> 296\u001b[0m     \u001b[38;5;28;01mraise\u001b[39;00m translate_query_error(err, query)\n",
      "File \u001b[0;32m~/anaconda3/envs/dj_cossart/lib/python3.8/site-packages/datajoint/connection.py:294\u001b[0m, in \u001b[0;36mConnection._execute_query\u001b[0;34m(cursor, query, args, suppress_warnings)\u001b[0m\n\u001b[1;32m    291\u001b[0m         \u001b[38;5;28;01mif\u001b[39;00m suppress_warnings:\n\u001b[1;32m    292\u001b[0m             \u001b[38;5;66;03m# suppress all warnings arising from underlying SQL library\u001b[39;00m\n\u001b[1;32m    293\u001b[0m             warnings\u001b[38;5;241m.\u001b[39msimplefilter(\u001b[38;5;124m\"\u001b[39m\u001b[38;5;124mignore\u001b[39m\u001b[38;5;124m\"\u001b[39m)\n\u001b[0;32m--> 294\u001b[0m         \u001b[43mcursor\u001b[49m\u001b[38;5;241;43m.\u001b[39;49m\u001b[43mexecute\u001b[49m\u001b[43m(\u001b[49m\u001b[43mquery\u001b[49m\u001b[43m,\u001b[49m\u001b[43m \u001b[49m\u001b[43margs\u001b[49m\u001b[43m)\u001b[49m\n\u001b[1;32m    295\u001b[0m \u001b[38;5;28;01mexcept\u001b[39;00m client\u001b[38;5;241m.\u001b[39merr\u001b[38;5;241m.\u001b[39mError \u001b[38;5;28;01mas\u001b[39;00m err:\n\u001b[1;32m    296\u001b[0m     \u001b[38;5;28;01mraise\u001b[39;00m translate_query_error(err, query)\n",
      "File \u001b[0;32m~/anaconda3/envs/dj_cossart/lib/python3.8/site-packages/pymysql/cursors.py:148\u001b[0m, in \u001b[0;36mCursor.execute\u001b[0;34m(self, query, args)\u001b[0m\n\u001b[1;32m    144\u001b[0m     \u001b[38;5;28;01mpass\u001b[39;00m\n\u001b[1;32m    146\u001b[0m query \u001b[38;5;241m=\u001b[39m \u001b[38;5;28mself\u001b[39m\u001b[38;5;241m.\u001b[39mmogrify(query, args)\n\u001b[0;32m--> 148\u001b[0m result \u001b[38;5;241m=\u001b[39m \u001b[38;5;28;43mself\u001b[39;49m\u001b[38;5;241;43m.\u001b[39;49m\u001b[43m_query\u001b[49m\u001b[43m(\u001b[49m\u001b[43mquery\u001b[49m\u001b[43m)\u001b[49m\n\u001b[1;32m    149\u001b[0m \u001b[38;5;28mself\u001b[39m\u001b[38;5;241m.\u001b[39m_executed \u001b[38;5;241m=\u001b[39m query\n\u001b[1;32m    150\u001b[0m \u001b[38;5;28;01mreturn\u001b[39;00m result\n",
      "File \u001b[0;32m~/anaconda3/envs/dj_cossart/lib/python3.8/site-packages/pymysql/cursors.py:310\u001b[0m, in \u001b[0;36mCursor._query\u001b[0;34m(self, q)\u001b[0m\n\u001b[1;32m    308\u001b[0m \u001b[38;5;28mself\u001b[39m\u001b[38;5;241m.\u001b[39m_last_executed \u001b[38;5;241m=\u001b[39m q\n\u001b[1;32m    309\u001b[0m \u001b[38;5;28mself\u001b[39m\u001b[38;5;241m.\u001b[39m_clear_result()\n\u001b[0;32m--> 310\u001b[0m \u001b[43mconn\u001b[49m\u001b[38;5;241;43m.\u001b[39;49m\u001b[43mquery\u001b[49m\u001b[43m(\u001b[49m\u001b[43mq\u001b[49m\u001b[43m)\u001b[49m\n\u001b[1;32m    311\u001b[0m \u001b[38;5;28mself\u001b[39m\u001b[38;5;241m.\u001b[39m_do_get_result()\n\u001b[1;32m    312\u001b[0m \u001b[38;5;28;01mreturn\u001b[39;00m \u001b[38;5;28mself\u001b[39m\u001b[38;5;241m.\u001b[39mrowcount\n",
      "File \u001b[0;32m~/anaconda3/envs/dj_cossart/lib/python3.8/site-packages/pymysql/connections.py:548\u001b[0m, in \u001b[0;36mConnection.query\u001b[0;34m(self, sql, unbuffered)\u001b[0m\n\u001b[1;32m    546\u001b[0m     sql \u001b[38;5;241m=\u001b[39m sql\u001b[38;5;241m.\u001b[39mencode(\u001b[38;5;28mself\u001b[39m\u001b[38;5;241m.\u001b[39mencoding, \u001b[38;5;124m\"\u001b[39m\u001b[38;5;124msurrogateescape\u001b[39m\u001b[38;5;124m\"\u001b[39m)\n\u001b[1;32m    547\u001b[0m \u001b[38;5;28mself\u001b[39m\u001b[38;5;241m.\u001b[39m_execute_command(COMMAND\u001b[38;5;241m.\u001b[39mCOM_QUERY, sql)\n\u001b[0;32m--> 548\u001b[0m \u001b[38;5;28mself\u001b[39m\u001b[38;5;241m.\u001b[39m_affected_rows \u001b[38;5;241m=\u001b[39m \u001b[38;5;28;43mself\u001b[39;49m\u001b[38;5;241;43m.\u001b[39;49m\u001b[43m_read_query_result\u001b[49m\u001b[43m(\u001b[49m\u001b[43munbuffered\u001b[49m\u001b[38;5;241;43m=\u001b[39;49m\u001b[43munbuffered\u001b[49m\u001b[43m)\u001b[49m\n\u001b[1;32m    549\u001b[0m \u001b[38;5;28;01mreturn\u001b[39;00m \u001b[38;5;28mself\u001b[39m\u001b[38;5;241m.\u001b[39m_affected_rows\n",
      "File \u001b[0;32m~/anaconda3/envs/dj_cossart/lib/python3.8/site-packages/pymysql/connections.py:775\u001b[0m, in \u001b[0;36mConnection._read_query_result\u001b[0;34m(self, unbuffered)\u001b[0m\n\u001b[1;32m    773\u001b[0m \u001b[38;5;28;01melse\u001b[39;00m:\n\u001b[1;32m    774\u001b[0m     result \u001b[38;5;241m=\u001b[39m MySQLResult(\u001b[38;5;28mself\u001b[39m)\n\u001b[0;32m--> 775\u001b[0m     \u001b[43mresult\u001b[49m\u001b[38;5;241;43m.\u001b[39;49m\u001b[43mread\u001b[49m\u001b[43m(\u001b[49m\u001b[43m)\u001b[49m\n\u001b[1;32m    776\u001b[0m \u001b[38;5;28mself\u001b[39m\u001b[38;5;241m.\u001b[39m_result \u001b[38;5;241m=\u001b[39m result\n\u001b[1;32m    777\u001b[0m \u001b[38;5;28;01mif\u001b[39;00m result\u001b[38;5;241m.\u001b[39mserver_status \u001b[38;5;129;01mis\u001b[39;00m \u001b[38;5;129;01mnot\u001b[39;00m \u001b[38;5;28;01mNone\u001b[39;00m:\n",
      "File \u001b[0;32m~/anaconda3/envs/dj_cossart/lib/python3.8/site-packages/pymysql/connections.py:1156\u001b[0m, in \u001b[0;36mMySQLResult.read\u001b[0;34m(self)\u001b[0m\n\u001b[1;32m   1154\u001b[0m \u001b[38;5;28;01mdef\u001b[39;00m \u001b[38;5;21mread\u001b[39m(\u001b[38;5;28mself\u001b[39m):\n\u001b[1;32m   1155\u001b[0m     \u001b[38;5;28;01mtry\u001b[39;00m:\n\u001b[0;32m-> 1156\u001b[0m         first_packet \u001b[38;5;241m=\u001b[39m \u001b[38;5;28;43mself\u001b[39;49m\u001b[38;5;241;43m.\u001b[39;49m\u001b[43mconnection\u001b[49m\u001b[38;5;241;43m.\u001b[39;49m\u001b[43m_read_packet\u001b[49m\u001b[43m(\u001b[49m\u001b[43m)\u001b[49m\n\u001b[1;32m   1158\u001b[0m         \u001b[38;5;28;01mif\u001b[39;00m first_packet\u001b[38;5;241m.\u001b[39mis_ok_packet():\n\u001b[1;32m   1159\u001b[0m             \u001b[38;5;28mself\u001b[39m\u001b[38;5;241m.\u001b[39m_read_ok_packet(first_packet)\n",
      "File \u001b[0;32m~/anaconda3/envs/dj_cossart/lib/python3.8/site-packages/pymysql/connections.py:725\u001b[0m, in \u001b[0;36mConnection._read_packet\u001b[0;34m(self, packet_type)\u001b[0m\n\u001b[1;32m    723\u001b[0m     \u001b[38;5;28;01mif\u001b[39;00m \u001b[38;5;28mself\u001b[39m\u001b[38;5;241m.\u001b[39m_result \u001b[38;5;129;01mis\u001b[39;00m \u001b[38;5;129;01mnot\u001b[39;00m \u001b[38;5;28;01mNone\u001b[39;00m \u001b[38;5;129;01mand\u001b[39;00m \u001b[38;5;28mself\u001b[39m\u001b[38;5;241m.\u001b[39m_result\u001b[38;5;241m.\u001b[39munbuffered_active \u001b[38;5;129;01mis\u001b[39;00m \u001b[38;5;28;01mTrue\u001b[39;00m:\n\u001b[1;32m    724\u001b[0m         \u001b[38;5;28mself\u001b[39m\u001b[38;5;241m.\u001b[39m_result\u001b[38;5;241m.\u001b[39munbuffered_active \u001b[38;5;241m=\u001b[39m \u001b[38;5;28;01mFalse\u001b[39;00m\n\u001b[0;32m--> 725\u001b[0m     \u001b[43mpacket\u001b[49m\u001b[38;5;241;43m.\u001b[39;49m\u001b[43mraise_for_error\u001b[49m\u001b[43m(\u001b[49m\u001b[43m)\u001b[49m\n\u001b[1;32m    726\u001b[0m \u001b[38;5;28;01mreturn\u001b[39;00m packet\n",
      "File \u001b[0;32m~/anaconda3/envs/dj_cossart/lib/python3.8/site-packages/pymysql/protocol.py:221\u001b[0m, in \u001b[0;36mMysqlPacket.raise_for_error\u001b[0;34m(self)\u001b[0m\n\u001b[1;32m    219\u001b[0m \u001b[38;5;28;01mif\u001b[39;00m DEBUG:\n\u001b[1;32m    220\u001b[0m     \u001b[38;5;28mprint\u001b[39m(\u001b[38;5;124m\"\u001b[39m\u001b[38;5;124merrno =\u001b[39m\u001b[38;5;124m\"\u001b[39m, errno)\n\u001b[0;32m--> 221\u001b[0m \u001b[43merr\u001b[49m\u001b[38;5;241;43m.\u001b[39;49m\u001b[43mraise_mysql_exception\u001b[49m\u001b[43m(\u001b[49m\u001b[38;5;28;43mself\u001b[39;49m\u001b[38;5;241;43m.\u001b[39;49m\u001b[43m_data\u001b[49m\u001b[43m)\u001b[49m\n",
      "File \u001b[0;32m~/anaconda3/envs/dj_cossart/lib/python3.8/site-packages/pymysql/err.py:143\u001b[0m, in \u001b[0;36mraise_mysql_exception\u001b[0;34m(data)\u001b[0m\n\u001b[1;32m    141\u001b[0m \u001b[38;5;28;01mif\u001b[39;00m errorclass \u001b[38;5;129;01mis\u001b[39;00m \u001b[38;5;28;01mNone\u001b[39;00m:\n\u001b[1;32m    142\u001b[0m     errorclass \u001b[38;5;241m=\u001b[39m InternalError \u001b[38;5;28;01mif\u001b[39;00m errno \u001b[38;5;241m<\u001b[39m \u001b[38;5;241m1000\u001b[39m \u001b[38;5;28;01melse\u001b[39;00m OperationalError\n\u001b[0;32m--> 143\u001b[0m \u001b[38;5;28;01mraise\u001b[39;00m errorclass(errno, errval)\n",
      "\u001b[0;31mDataError\u001b[0m: (1265, \"Data truncated for column 'field_z' at row 1\")"
     ]
    }
   ],
   "source": [
    "from workflow_calcium_imaging import process\n",
    "process.run()"
   ]
  },
  {
   "cell_type": "markdown",
   "id": "9d46e7c4-75b8-4333-8fc0-24518da07b52",
   "metadata": {},
   "source": [
    "## Running suite2p for one animal"
   ]
  },
  {
   "cell_type": "code",
   "execution_count": null,
   "id": "e27f3032-db5a-4290-a571-e2ed19aa94c5",
   "metadata": {},
   "outputs": [],
   "source": [
    "session.SessionDirectory()"
   ]
  },
  {
   "cell_type": "code",
   "execution_count": null,
   "id": "3bf84302-dde8-4243-9593-72438e5a8e29",
   "metadata": {},
   "outputs": [],
   "source": [
    "session_key = (session.SessionDirectory & 'subject=\"jm007\"').fetch('KEY')[0]\n",
    "print(session_key )\n",
    "session_dir_key = (session.SessionDirectory & 'subject=\"jm007\"').fetch('session_dir')[0]\n",
    "\n",
    "imaging.ProcessingTask.insert1(dict(session_key, \n",
    "                                    scan_id=0,\n",
    "                                    paramset_idx=0,\n",
    "                                    processing_output_dir=f'{session_dir_key}', \n",
    "                                    task_mode='trigger'))"
   ]
  },
  {
   "cell_type": "markdown",
   "id": "b7abed5a-f1c2-4c08-ad4e-57eba1f8c41e",
   "metadata": {},
   "source": [
    "## Populate `imaging.Processing`"
   ]
  },
  {
   "cell_type": "code",
   "execution_count": null,
   "id": "d195bb7d-269f-464c-8d13-a53c739d85aa",
   "metadata": {},
   "outputs": [],
   "source": [
    "imaging.Processing.populate(**populate_settings);"
   ]
  },
  {
   "cell_type": "code",
   "execution_count": null,
   "id": "5b17fd43-e799-46f5-af43-81480734a591",
   "metadata": {},
   "outputs": [],
   "source": [
    "imaging.Processing()"
   ]
  },
  {
   "cell_type": "markdown",
   "id": "107888aa-e850-4e18-9e0b-9755c8623f47",
   "metadata": {
    "tags": []
   },
   "source": [
    "## Insert new Curation following the ProcessingTask\n",
    "\n",
    "+ The next step in the pipeline is the curation of motion corection and segmentation results.\n",
    "\n",
    "+ If a manual curation was implemented, an entry needs to be manually inserted into the table `imaging.Curation`, which specifies the directory to the curated results in `curation_output_dir`. \n",
    "\n",
    "+ If we would like to use the processed outcome directly, an entry is also needed in `imaging.Curation`. A method `create1_from_processing_task` was provided to help this insertion. It copies the `processing_output_dir` in `imaging.ProcessingTask` to the field `curation_output_dir` in the table `imaging.Curation` with a new `curation_id`.\n",
    "\n",
    "    + In this example, we create/insert one `imaging.Curation` for each `imaging.ProcessingTask`, specifying the same output directory.\n",
    "\n",
    "    + To this end, we could also make use of a convenient function `imaging.Curation().create1_from_processing_task()`"
   ]
  },
  {
   "cell_type": "code",
   "execution_count": null,
   "id": "9604992e-d13f-419f-8096-81a82a914ed5",
   "metadata": {},
   "outputs": [],
   "source": [
    "imaging.Curation.heading"
   ]
  },
  {
   "cell_type": "code",
   "execution_count": null,
   "id": "8f1d323e-2348-40fb-b555-8833dba444af",
   "metadata": {},
   "outputs": [],
   "source": [
    "# temp just to try the 2 plane 2 channel:\n",
    "import datetime\n",
    "foo_dict = {'subject': 'jm007', 'session_datetime': datetime.datetime(2002, 1, 1, 12, 0, 8)}\n",
    "\n",
    "imaging.Curation.insert1(dict(subject=foo_dict['subject'], \n",
    "                                session_datetime=foo_dict['session_datetime'], \n",
    "                                scan_id=0,\n",
    "                                paramset_idx=0,\n",
    "                                curation_id=0,\n",
    "                                curation_time=foo_dict['session_datetime'], \n",
    "                                curation_output_dir='jm007/2022-06-14_a/TSeries-05182022-1006-001/suite2p',\n",
    "                                manual_curation=False,\n",
    "                                curation_note=''))"
   ]
  },
  {
   "cell_type": "code",
   "execution_count": null,
   "id": "9257d9f6-4826-46d9-8f68-279130a63738",
   "metadata": {},
   "outputs": [],
   "source": [
    "for (i, subject_str) in enumerate(all_subject_str):\n",
    "    #for (j, subject_session_str) in enumerate(all_session_str[i]): # ONLY RUNNING FOR FIRST SESSION\n",
    "    \n",
    "    j = 0\n",
    "    subject_session_str = all_session_str[i][j]\n",
    "    \n",
    "    session_datetime_str = all_datetime_str[i][j]\n",
    "\n",
    "    imaging.Curation.insert1(dict(subject=subject_str, \n",
    "                                    session_datetime=session_datetime_str, \n",
    "                                    scan_id=0,\n",
    "                                    paramset_idx=0,\n",
    "                                    curation_id=0,\n",
    "                                    curation_time=session_datetime_str, \n",
    "                                    curation_output_dir=f'{subject_str}/{subject_session_str}/TSeries/suite2p',\n",
    "                                    manual_curation=False,\n",
    "                                    curation_note=''))\n",
    "\n",
    "\n",
    "    "
   ]
  },
  {
   "cell_type": "code",
   "execution_count": null,
   "id": "286fc2db-4781-44ce-bd92-8798d9e6fe43",
   "metadata": {},
   "outputs": [],
   "source": [
    "imaging.Activity()"
   ]
  },
  {
   "cell_type": "code",
   "execution_count": null,
   "id": "019987a8-ae77-429f-87f4-747e66295de6",
   "metadata": {},
   "outputs": [],
   "source": [
    "imaging.MotionCorrection.heading"
   ]
  },
  {
   "cell_type": "code",
   "execution_count": null,
   "id": "25c356dd-1581-4ffc-b7a9-a923dd430365",
   "metadata": {},
   "outputs": [],
   "source": [
    "imaging.MotionCorrection.populate(**populate_settings)\n",
    "imaging.Segmentation.populate(**populate_settings)\n",
    "imaging.MaskClassification.populate(**populate_settings)\n",
    "imaging.Fluorescence.populate(**populate_settings)\n",
    "imaging.Activity.populate(**populate_settings)"
   ]
  },
  {
   "cell_type": "markdown",
   "id": "96e28183-7da4-4f56-998f-5638d69e8b6a",
   "metadata": {},
   "source": [
    "# Testing if data is loaded correctly"
   ]
  },
  {
   "cell_type": "code",
   "execution_count": null,
   "id": "1f7bf8f2-6001-4e62-82bb-9d184f17cdb9",
   "metadata": {},
   "outputs": [],
   "source": [
    "session_key = (imaging.Fluorescence & 'subject = \"jm003\"').fetch('KEY')[0]\n",
    "print(session_key)"
   ]
  },
  {
   "cell_type": "code",
   "execution_count": null,
   "id": "12ff1923-f7f7-4480-9e3a-61d7fa4869fd",
   "metadata": {},
   "outputs": [],
   "source": [
    "imaging.MotionCorrection & session_key"
   ]
  },
  {
   "cell_type": "code",
   "execution_count": null,
   "id": "e5dd0520-9443-43f6-a346-ab7d16226a3b",
   "metadata": {},
   "outputs": [],
   "source": [
    "import matplotlib.pyplot as plt"
   ]
  },
  {
   "cell_type": "code",
   "execution_count": null,
   "id": "f2f0cf3c-7971-40ab-852e-2177ae07161b",
   "metadata": {},
   "outputs": [],
   "source": [
    "avg_im"
   ]
  },
  {
   "cell_type": "code",
   "execution_count": null,
   "id": "e08e5cb1-7692-4069-a792-c09bc44f5d9c",
   "metadata": {},
   "outputs": [],
   "source": [
    "avg_im = (imaging.MotionCorrection.Summary & session_key).fetch('average_image')\n",
    "plt.imshow(np.array(avg_im[0]))\n",
    "plt.show()\n",
    "plt.imshow(np.array(avg_im[1]))\n",
    "plt.show()\n",
    "plt.imshow(np.array(avg_im[2]))\n",
    "plt.show()"
   ]
  },
  {
   "cell_type": "code",
   "execution_count": null,
   "id": "f524f84a-43d9-4a30-a059-3bb9edf1a98a",
   "metadata": {},
   "outputs": [],
   "source": [
    "from scipy.stats import zscore"
   ]
  },
  {
   "cell_type": "code",
   "execution_count": null,
   "id": "4b5eb9a2-e986-4406-888f-4296005b948f",
   "metadata": {},
   "outputs": [],
   "source": [
    "imaging.Activity.Trace & session_key"
   ]
  },
  {
   "cell_type": "code",
   "execution_count": null,
   "id": "79a85516-2437-4c16-9e74-ca23fb78f8b7",
   "metadata": {},
   "outputs": [],
   "source": [
    "F = (imaging.Fluorescence.Trace & session_key).fetch('fluorescence')"
   ]
  },
  {
   "cell_type": "code",
   "execution_count": null,
   "id": "4986bc89-142c-4703-acec-93a4c3c2242c",
   "metadata": {},
   "outputs": [],
   "source": [
    "F_toplot = zscore(np.stack(F), 1)"
   ]
  },
  {
   "cell_type": "code",
   "execution_count": null,
   "id": "fed69236-9f13-481b-8c7f-59b0b001aa54",
   "metadata": {},
   "outputs": [],
   "source": [
    "plt.figure(figsize=(20,20), dpi=300)\n",
    "plt.imshow(F_toplot,cmap='Greys', vmin=0, vmax=3.65)"
   ]
  },
  {
   "cell_type": "code",
   "execution_count": null,
   "id": "7b790bdc-f81f-46de-9c50-9696b3c44d02",
   "metadata": {},
   "outputs": [],
   "source": []
  },
  {
   "cell_type": "code",
   "execution_count": null,
   "id": "e68e82ff-6878-4c64-9f19-b206a4688864",
   "metadata": {},
   "outputs": [],
   "source": []
  }
 ],
 "metadata": {
  "kernelspec": {
   "display_name": "Python 3 (ipykernel)",
   "language": "python",
   "name": "python3"
  },
  "language_info": {
   "codemirror_mode": {
    "name": "ipython",
    "version": 3
   },
   "file_extension": ".py",
   "mimetype": "text/x-python",
   "name": "python",
   "nbconvert_exporter": "python",
   "pygments_lexer": "ipython3",
   "version": "3.8.16"
  }
 },
 "nbformat": 4,
 "nbformat_minor": 5
}
