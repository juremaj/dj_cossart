{
 "cells": [
  {
   "cell_type": "code",
   "execution_count": 8,
   "id": "9c81e1f4-7ba9-43f9-b7be-ee5faf8c7836",
   "metadata": {},
   "outputs": [],
   "source": [
    "import datajoint as dj\n",
    "import os\n",
    "if os.path.basename(os.getcwd()) == \"notebooks\": os.chdir(\"..\")"
   ]
  },
  {
   "cell_type": "code",
   "execution_count": 9,
   "id": "81d4473e-1f3f-4104-8220-1c5f4b1fd91b",
   "metadata": {},
   "outputs": [
    {
     "name": "stdin",
     "output_type": "stream",
     "text": [
      " ········\n"
     ]
    }
   ],
   "source": [
    "import getpass\n",
    "dj.config[\"database.host\"] = \"127.0.0.1\"\n",
    "dj.config[\"database.user\"] = \"phan\"\n",
    "dj.config[\"database.password\"] = getpass.getpass()  # enter the password securily"
   ]
  },
  {
   "cell_type": "code",
   "execution_count": 10,
   "id": "dae6c4bb-8ba8-4c28-a395-5ada4dc430c8",
   "metadata": {},
   "outputs": [
    {
     "data": {
      "text/plain": [
       "DataJoint connection (connected) phan@127.0.0.1:3306"
      ]
     },
     "execution_count": 10,
     "metadata": {},
     "output_type": "execute_result"
    }
   ],
   "source": [
    "dj.conn()"
   ]
  },
  {
   "cell_type": "code",
   "execution_count": 11,
   "id": "50c78755-496b-47e7-91ea-bb7a2d00260b",
   "metadata": {},
   "outputs": [],
   "source": [
    "username_as_prefix = dj.config[\"database.user\"] + \"_\"\n",
    "dj.config[\"custom\"] = {\"database.prefix\": username_as_prefix}"
   ]
  },
  {
   "cell_type": "code",
   "execution_count": 12,
   "id": "4cfd5302-cae9-4125-937d-6d87b23b95a2",
   "metadata": {},
   "outputs": [],
   "source": [
    "# data dir on this particular computer\n",
    "dj.config['custom']['imaging_root_data_dir'] = '/media/cossart/DATA/dj_cossart/data'"
   ]
  },
  {
   "cell_type": "markdown",
   "id": "13cbde8b-08e3-4e49-891b-880ea3c1c31e",
   "metadata": {},
   "source": [
    "Save config as file (note: this needs to be generated upon installation and is not provided in the GitHub repo)"
   ]
  },
  {
   "cell_type": "code",
   "execution_count": 13,
   "id": "b4606ad1-ee29-4090-94a2-aa2a892bea92",
   "metadata": {},
   "outputs": [],
   "source": [
    "dj.config.save_local()"
   ]
  },
  {
   "cell_type": "code",
   "execution_count": null,
   "id": "40c20f83-637b-4e40-80f7-e1ff9bb2678b",
   "metadata": {},
   "outputs": [],
   "source": []
  }
 ],
 "metadata": {
  "kernelspec": {
   "display_name": "Python 3 (ipykernel)",
   "language": "python",
   "name": "python3"
  },
  "language_info": {
   "codemirror_mode": {
    "name": "ipython",
    "version": 3
   },
   "file_extension": ".py",
   "mimetype": "text/x-python",
   "name": "python",
   "nbconvert_exporter": "python",
   "pygments_lexer": "ipython3",
   "version": "3.8.16"
  }
 },
 "nbformat": 4,
 "nbformat_minor": 5
}
