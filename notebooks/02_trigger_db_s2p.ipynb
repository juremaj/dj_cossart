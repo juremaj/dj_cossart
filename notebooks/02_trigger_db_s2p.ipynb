{
 "cells": [
  {
   "cell_type": "code",
   "execution_count": 1,
   "id": "ca5fbc39-9c7b-4e67-9c54-d89725f73fb2",
   "metadata": {},
   "outputs": [],
   "source": [
    "# reload code if library changes\n",
    "%load_ext autoreload\n",
    "%autoreload 2\n",
    "%reload_ext autoreload"
   ]
  },
  {
   "cell_type": "code",
   "execution_count": 2,
   "id": "13a62c1e-dd1a-4326-8787-acb8d51331cb",
   "metadata": {},
   "outputs": [],
   "source": [
    "import os\n",
    "if os.path.basename(os.getcwd()) == \"notebooks\": os.chdir(\"..\")\n",
    "import numpy as np"
   ]
  },
  {
   "cell_type": "code",
   "execution_count": 3,
   "id": "767561fd-14e1-4877-a84f-1663969fbab0",
   "metadata": {},
   "outputs": [
    {
     "name": "stderr",
     "output_type": "stream",
     "text": [
      "[2023-03-02 12:19:34,676][INFO]: Connecting jure@127.0.0.1:3306\n",
      "[2023-03-02 12:19:34,771][INFO]: Connected jure@127.0.0.1:3306\n"
     ]
    }
   ],
   "source": [
    "import datajoint as dj\n",
    "from workflow_calcium_imaging.pipeline import *\n",
    "populate_settings = {'display_progress': True}"
   ]
  },
  {
   "cell_type": "code",
   "execution_count": 4,
   "id": "6b5783c2-ef02-4180-928e-8543cee1e9b8",
   "metadata": {},
   "outputs": [],
   "source": [
    "# move to library\n",
    "def get_metadata_from_filetree(root_data_dir, fake_session_datetime_str_init):\n",
    "    all_subject_str = []\n",
    "    all_session_str = [] # this will be list of lists - each nested list corresponding to one subject\n",
    "    all_datetime_str = [] # for now hardcoded! (figure out how to do programmatically)\n",
    "\n",
    "    count = 0\n",
    "    for subject_str in os.listdir(root_data_dir):\n",
    "        if os.path.isdir(f'{root_data_dir}/{subject_str}'):\n",
    "\n",
    "            print(f'Subject: {subject_str}')\n",
    "            all_subject_str.append(subject_str)\n",
    "\n",
    "            all_subject_session_str = [] # sessions for this particular subject\n",
    "            all_subject_datetime_str = []\n",
    "            for subject_session_str in os.listdir(root_data_dir + '/' + subject_str):\n",
    "                all_subject_session_str.append(subject_session_str)\n",
    "                fake_session_datetime_str = fake_session_datetime_str_init[:18] + str(count) + '.000' # making fake unique time\n",
    "                print('\\n\\n\\nIMPORTANT: JM made up a fake datetime to fit convention of DJ. If needed for analysis, the true datetime of the experiment can still be accessed though through the `session` entry (YYYY-MM-DD_x) or from where the bruker metadata is stored within the database.\\n\\n\\n')\n",
    "                print(fake_session_datetime_str)\n",
    "                all_subject_datetime_str.append(fake_session_datetime_str) # here it is fake\n",
    "                count += 1\n",
    "\n",
    "            print(f'Identified sessions for subject {subject_str}: {all_subject_session_str}')\n",
    "\n",
    "            all_session_str.append(all_subject_session_str) \n",
    "            all_datetime_str.append(all_subject_datetime_str) \n",
    "        \n",
    "    return all_subject_str, all_session_str, all_datetime_str"
   ]
  },
  {
   "cell_type": "markdown",
   "id": "470e170b-389c-4c88-8988-c76d26dbe99f",
   "metadata": {},
   "source": [
    "### Clear previous s2p entries"
   ]
  },
  {
   "cell_type": "code",
   "execution_count": 5,
   "id": "578edac9-11cb-4384-8bcd-4d69ef9b0caa",
   "metadata": {},
   "outputs": [
    {
     "name": "stderr",
     "output_type": "stream",
     "text": [
      "[2023-03-02 12:19:34,984][INFO]: Deleting 1 rows from `jure_imaging`.`processing_task`\n",
      "[2023-03-02 12:19:34,992][INFO]: Deleting 1 rows from `jure_imaging`.`#processing_param_set`\n"
     ]
    },
    {
     "ename": "KeyboardInterrupt",
     "evalue": "Interrupted by user",
     "output_type": "error",
     "traceback": [
      "\u001b[0;31m---------------------------------------------------------------------------\u001b[0m",
      "\u001b[0;31mKeyboardInterrupt\u001b[0m                         Traceback (most recent call last)",
      "Cell \u001b[0;32mIn[5], line 1\u001b[0m\n\u001b[0;32m----> 1\u001b[0m \u001b[43mimaging\u001b[49m\u001b[38;5;241;43m.\u001b[39;49m\u001b[43mProcessingParamSet\u001b[49m\u001b[38;5;241;43m.\u001b[39;49m\u001b[43mdelete\u001b[49m\u001b[43m(\u001b[49m\u001b[43m)\u001b[49m\n\u001b[1;32m      2\u001b[0m imaging\u001b[38;5;241m.\u001b[39mCuration\u001b[38;5;241m.\u001b[39mdelete()\n",
      "File \u001b[0;32m~/anaconda3/envs/dj_cossart/lib/python3.8/site-packages/datajoint/table.py:586\u001b[0m, in \u001b[0;36mTable.delete\u001b[0;34m(self, transaction, safemode, force_parts)\u001b[0m\n\u001b[1;32m    584\u001b[0m         \u001b[38;5;28mself\u001b[39m\u001b[38;5;241m.\u001b[39mconnection\u001b[38;5;241m.\u001b[39mcancel_transaction()\n\u001b[1;32m    585\u001b[0m \u001b[38;5;28;01melse\u001b[39;00m:\n\u001b[0;32m--> 586\u001b[0m     \u001b[38;5;28;01mif\u001b[39;00m \u001b[38;5;129;01mnot\u001b[39;00m safemode \u001b[38;5;129;01mor\u001b[39;00m \u001b[43muser_choice\u001b[49m\u001b[43m(\u001b[49m\u001b[38;5;124;43m\"\u001b[39;49m\u001b[38;5;124;43mCommit deletes?\u001b[39;49m\u001b[38;5;124;43m\"\u001b[39;49m\u001b[43m,\u001b[49m\u001b[43m \u001b[49m\u001b[43mdefault\u001b[49m\u001b[38;5;241;43m=\u001b[39;49m\u001b[38;5;124;43m\"\u001b[39;49m\u001b[38;5;124;43mno\u001b[39;49m\u001b[38;5;124;43m\"\u001b[39;49m\u001b[43m)\u001b[49m \u001b[38;5;241m==\u001b[39m \u001b[38;5;124m\"\u001b[39m\u001b[38;5;124myes\u001b[39m\u001b[38;5;124m\"\u001b[39m:\n\u001b[1;32m    587\u001b[0m         \u001b[38;5;28;01mif\u001b[39;00m transaction:\n\u001b[1;32m    588\u001b[0m             \u001b[38;5;28mself\u001b[39m\u001b[38;5;241m.\u001b[39mconnection\u001b[38;5;241m.\u001b[39mcommit_transaction()\n",
      "File \u001b[0;32m~/anaconda3/envs/dj_cossart/lib/python3.8/site-packages/datajoint/utils.py:32\u001b[0m, in \u001b[0;36muser_choice\u001b[0;34m(prompt, choices, default)\u001b[0m\n\u001b[1;32m     30\u001b[0m response \u001b[38;5;241m=\u001b[39m \u001b[38;5;28;01mNone\u001b[39;00m\n\u001b[1;32m     31\u001b[0m \u001b[38;5;28;01mwhile\u001b[39;00m response \u001b[38;5;129;01mnot\u001b[39;00m \u001b[38;5;129;01min\u001b[39;00m choices:\n\u001b[0;32m---> 32\u001b[0m     response \u001b[38;5;241m=\u001b[39m \u001b[38;5;28;43minput\u001b[39;49m\u001b[43m(\u001b[49m\u001b[43mprompt\u001b[49m\u001b[43m \u001b[49m\u001b[38;5;241;43m+\u001b[39;49m\u001b[43m \u001b[49m\u001b[38;5;124;43m\"\u001b[39;49m\u001b[38;5;124;43m [\u001b[39;49m\u001b[38;5;124;43m\"\u001b[39;49m\u001b[43m \u001b[49m\u001b[38;5;241;43m+\u001b[39;49m\u001b[43m \u001b[49m\u001b[43mchoice_list\u001b[49m\u001b[43m \u001b[49m\u001b[38;5;241;43m+\u001b[39;49m\u001b[43m \u001b[49m\u001b[38;5;124;43m\"\u001b[39;49m\u001b[38;5;124;43m]: \u001b[39;49m\u001b[38;5;124;43m\"\u001b[39;49m\u001b[43m)\u001b[49m\n\u001b[1;32m     33\u001b[0m     response \u001b[38;5;241m=\u001b[39m response\u001b[38;5;241m.\u001b[39mlower() \u001b[38;5;28;01mif\u001b[39;00m response \u001b[38;5;28;01melse\u001b[39;00m default\n\u001b[1;32m     34\u001b[0m \u001b[38;5;28;01mreturn\u001b[39;00m response\n",
      "File \u001b[0;32m~/anaconda3/envs/dj_cossart/lib/python3.8/site-packages/ipykernel/kernelbase.py:1182\u001b[0m, in \u001b[0;36mKernel.raw_input\u001b[0;34m(self, prompt)\u001b[0m\n\u001b[1;32m   1180\u001b[0m     msg \u001b[38;5;241m=\u001b[39m \u001b[38;5;124m\"\u001b[39m\u001b[38;5;124mraw_input was called, but this frontend does not support input requests.\u001b[39m\u001b[38;5;124m\"\u001b[39m\n\u001b[1;32m   1181\u001b[0m     \u001b[38;5;28;01mraise\u001b[39;00m StdinNotImplementedError(msg)\n\u001b[0;32m-> 1182\u001b[0m \u001b[38;5;28;01mreturn\u001b[39;00m \u001b[38;5;28;43mself\u001b[39;49m\u001b[38;5;241;43m.\u001b[39;49m\u001b[43m_input_request\u001b[49m\u001b[43m(\u001b[49m\n\u001b[1;32m   1183\u001b[0m \u001b[43m    \u001b[49m\u001b[38;5;28;43mstr\u001b[39;49m\u001b[43m(\u001b[49m\u001b[43mprompt\u001b[49m\u001b[43m)\u001b[49m\u001b[43m,\u001b[49m\n\u001b[1;32m   1184\u001b[0m \u001b[43m    \u001b[49m\u001b[38;5;28;43mself\u001b[39;49m\u001b[38;5;241;43m.\u001b[39;49m\u001b[43m_parent_ident\u001b[49m\u001b[43m[\u001b[49m\u001b[38;5;124;43m\"\u001b[39;49m\u001b[38;5;124;43mshell\u001b[39;49m\u001b[38;5;124;43m\"\u001b[39;49m\u001b[43m]\u001b[49m\u001b[43m,\u001b[49m\n\u001b[1;32m   1185\u001b[0m \u001b[43m    \u001b[49m\u001b[38;5;28;43mself\u001b[39;49m\u001b[38;5;241;43m.\u001b[39;49m\u001b[43mget_parent\u001b[49m\u001b[43m(\u001b[49m\u001b[38;5;124;43m\"\u001b[39;49m\u001b[38;5;124;43mshell\u001b[39;49m\u001b[38;5;124;43m\"\u001b[39;49m\u001b[43m)\u001b[49m\u001b[43m,\u001b[49m\n\u001b[1;32m   1186\u001b[0m \u001b[43m    \u001b[49m\u001b[43mpassword\u001b[49m\u001b[38;5;241;43m=\u001b[39;49m\u001b[38;5;28;43;01mFalse\u001b[39;49;00m\u001b[43m,\u001b[49m\n\u001b[1;32m   1187\u001b[0m \u001b[43m\u001b[49m\u001b[43m)\u001b[49m\n",
      "File \u001b[0;32m~/anaconda3/envs/dj_cossart/lib/python3.8/site-packages/ipykernel/kernelbase.py:1225\u001b[0m, in \u001b[0;36mKernel._input_request\u001b[0;34m(self, prompt, ident, parent, password)\u001b[0m\n\u001b[1;32m   1222\u001b[0m \u001b[38;5;28;01mexcept\u001b[39;00m \u001b[38;5;167;01mKeyboardInterrupt\u001b[39;00m:\n\u001b[1;32m   1223\u001b[0m     \u001b[38;5;66;03m# re-raise KeyboardInterrupt, to truncate traceback\u001b[39;00m\n\u001b[1;32m   1224\u001b[0m     msg \u001b[38;5;241m=\u001b[39m \u001b[38;5;124m\"\u001b[39m\u001b[38;5;124mInterrupted by user\u001b[39m\u001b[38;5;124m\"\u001b[39m\n\u001b[0;32m-> 1225\u001b[0m     \u001b[38;5;28;01mraise\u001b[39;00m \u001b[38;5;167;01mKeyboardInterrupt\u001b[39;00m(msg) \u001b[38;5;28;01mfrom\u001b[39;00m \u001b[38;5;28mNone\u001b[39m\n\u001b[1;32m   1226\u001b[0m \u001b[38;5;28;01mexcept\u001b[39;00m \u001b[38;5;167;01mException\u001b[39;00m:\n\u001b[1;32m   1227\u001b[0m     \u001b[38;5;28mself\u001b[39m\u001b[38;5;241m.\u001b[39mlog\u001b[38;5;241m.\u001b[39mwarning(\u001b[38;5;124m\"\u001b[39m\u001b[38;5;124mInvalid Message:\u001b[39m\u001b[38;5;124m\"\u001b[39m, exc_info\u001b[38;5;241m=\u001b[39m\u001b[38;5;28;01mTrue\u001b[39;00m)\n",
      "\u001b[0;31mKeyboardInterrupt\u001b[0m: Interrupted by user"
     ]
    }
   ],
   "source": [
    "imaging.ProcessingParamSet.delete()\n",
    "imaging.Curation.delete()"
   ]
  },
  {
   "cell_type": "code",
   "execution_count": null,
   "id": "14a56b86-a974-48ad-a17a-5bcf6327da51",
   "metadata": {},
   "outputs": [],
   "source": [
    "# custom function to populate database\n",
    "root_data_dir = dj.config['custom']['imaging_root_data_dir']\n",
    "fake_session_datetime_str_init = '2002-01-01 12:00:00.000' # making up session datetime (to query data use either the session/folder name or PraireView metadata)\n",
    "all_subject_str, all_session_str, all_datetime_str = get_metadata_from_filetree(root_data_dir, fake_session_datetime_str_init)\n"
   ]
  },
  {
   "cell_type": "markdown",
   "id": "fbd2126c-5725-48d7-bdcf-2b9f2f7b57ad",
   "metadata": {},
   "source": [
    "Automated Suite2p"
   ]
  },
  {
   "cell_type": "code",
   "execution_count": null,
   "id": "03f58bb0-6538-415b-86ef-b30e57d7c6ed",
   "metadata": {},
   "outputs": [],
   "source": [
    "choose_params = 'ops_jm_30hz_1plane_2ch' # number of channels, imaging rate and number of planes is overwritten by datajoint (see code for imaging.Processing.populate)\n",
    "\n",
    "params_suite2p = np.load(f'/home/cossart/deve-networks/scripts/s2p_ops/{choose_params}.npy', allow_pickle=True).item()\n",
    "\n",
    "params_suite2p"
   ]
  },
  {
   "cell_type": "code",
   "execution_count": null,
   "id": "90bcdf9c-262d-4062-9fc4-5fcee77cceb8",
   "metadata": {},
   "outputs": [],
   "source": [
    "\n",
    "params_suite2p['look_one_level_down'] = 0\n",
    "params_suite2p['input_format'] = 'tif'\n",
    "params_suite2p['bruker'] = False\n",
    "params_suite2p['force_sktiff'] = True\n",
    "params_suite2p['two_step_registration'] = 0.0\n",
    "params_suite2p['fast_disk'] = 'suite2p_fast_disk'\n",
    "# params_suite2p['functional_chan'] = 2 # THIS CHANGES IN SINGLE VS MULTI-CHANNEL\n",
    "# params_suite2p['align_by_chan'] = 1 # THIS CHANGES IN SINGLE VS MULTI-CHANNEL\n",
    "params_suite2p['tau'] = 0.15\n",
    "params_suite2p['batch_size'] = 5000\n",
    "\n",
    "\n",
    "# these should be input automatically by datajoint\n",
    "# params_suite2p.pop('nplanes')\n",
    "# params_suite2p.pop('nchannels')\n",
    "# params_suite2p.pop('fs')\n",
    "\n",
    "params_suite2p"
   ]
  },
  {
   "cell_type": "code",
   "execution_count": null,
   "id": "aaa04cfc-05d1-4e7e-bbc2-d127f50686ed",
   "metadata": {},
   "outputs": [],
   "source": [
    "imaging.ProcessingParamSet.insert_new_params(\n",
    "    processing_method='suite2p', \n",
    "    paramset_idx=0, \n",
    "    params=params_suite2p,\n",
    "    paramset_desc=f'Calcium imaging analysis with Suite2p using {choose_params} parameters')"
   ]
  },
  {
   "cell_type": "code",
   "execution_count": null,
   "id": "adb393d2-e060-483a-8422-050839d4dfd2",
   "metadata": {},
   "outputs": [],
   "source": [
    "from workflow_calcium_imaging import process\n",
    "# process.run()"
   ]
  },
  {
   "cell_type": "markdown",
   "id": "9d46e7c4-75b8-4333-8fc0-24518da07b52",
   "metadata": {},
   "source": [
    "## Running suite2p for one animal"
   ]
  },
  {
   "cell_type": "code",
   "execution_count": null,
   "id": "e27f3032-db5a-4290-a571-e2ed19aa94c5",
   "metadata": {},
   "outputs": [],
   "source": [
    "session.SessionDirectory()"
   ]
  },
  {
   "cell_type": "code",
   "execution_count": null,
   "id": "3bf84302-dde8-4243-9593-72438e5a8e29",
   "metadata": {},
   "outputs": [],
   "source": [
    "session_key = (session.SessionDirectory & 'subject=\"jm007\"').fetch('KEY')[0]\n",
    "print(session_key )\n",
    "session_dir_key = (session.SessionDirectory & 'subject=\"jm007\"').fetch('session_dir')[0]\n",
    "\n",
    "imaging.ProcessingTask.insert1(dict(session_key, \n",
    "                                    scan_id=0,\n",
    "                                    paramset_idx=0,\n",
    "                                    processing_output_dir=f'{session_dir_key}', \n",
    "                                    task_mode='trigger'))"
   ]
  },
  {
   "cell_type": "code",
   "execution_count": null,
   "id": "a75fa992-06a1-4004-9f57-e9f0839287d6",
   "metadata": {},
   "outputs": [],
   "source": [
    "session_dir_key"
   ]
  },
  {
   "cell_type": "markdown",
   "id": "b7abed5a-f1c2-4c08-ad4e-57eba1f8c41e",
   "metadata": {},
   "source": [
    "## Populate `imaging.Processing`"
   ]
  },
  {
   "cell_type": "markdown",
   "id": "da6a55bf-78d5-4c0e-b908-3facdaf4eb52",
   "metadata": {},
   "source": [
    "For 3 plane 2 channel recording 2k batch: \n",
    "\n",
    "8016 frames of binary, time 1164.63 sec.\n",
    "\n",
    "For 1 plane 2 channel recording 5k batch:"
   ]
  },
  {
   "cell_type": "code",
   "execution_count": null,
   "id": "d195bb7d-269f-464c-8d13-a53c739d85aa",
   "metadata": {},
   "outputs": [],
   "source": [
    "imaging.Processing.populate(**populate_settings);"
   ]
  },
  {
   "cell_type": "code",
   "execution_count": null,
   "id": "5b17fd43-e799-46f5-af43-81480734a591",
   "metadata": {},
   "outputs": [],
   "source": [
    "imaging.Processing()"
   ]
  },
  {
   "cell_type": "markdown",
   "id": "107888aa-e850-4e18-9e0b-9755c8623f47",
   "metadata": {
    "tags": []
   },
   "source": [
    "## Insert new Curation following the ProcessingTask\n",
    "\n",
    "+ The next step in the pipeline is the curation of motion corection and segmentation results.\n",
    "\n",
    "+ If a manual curation was implemented, an entry needs to be manually inserted into the table `imaging.Curation`, which specifies the directory to the curated results in `curation_output_dir`. \n",
    "\n",
    "+ If we would like to use the processed outcome directly, an entry is also needed in `imaging.Curation`. A method `create1_from_processing_task` was provided to help this insertion. It copies the `processing_output_dir` in `imaging.ProcessingTask` to the field `curation_output_dir` in the table `imaging.Curation` with a new `curation_id`.\n",
    "\n",
    "    + In this example, we create/insert one `imaging.Curation` for each `imaging.ProcessingTask`, specifying the same output directory.\n",
    "\n",
    "    + To this end, we could also make use of a convenient function `imaging.Curation().create1_from_processing_task()`"
   ]
  },
  {
   "cell_type": "code",
   "execution_count": null,
   "id": "9604992e-d13f-419f-8096-81a82a914ed5",
   "metadata": {},
   "outputs": [],
   "source": [
    "imaging.Curation.heading"
   ]
  },
  {
   "cell_type": "code",
   "execution_count": null,
   "id": "8f1d323e-2348-40fb-b555-8833dba444af",
   "metadata": {},
   "outputs": [],
   "source": [
    "# temp just to try the 2 plane 2 channel:\n",
    "import datetime\n",
    "foo_dict = {'subject': 'jm007', 'session_datetime': datetime.datetime(2002, 1, 1, 12, 0, 8)}\n",
    "\n",
    "imaging.Curation.insert1(dict(subject=foo_dict['subject'], \n",
    "                                session_datetime=foo_dict['session_datetime'], \n",
    "                                scan_id=0,\n",
    "                                paramset_idx=0,\n",
    "                                curation_id=0,\n",
    "                                curation_time=foo_dict['session_datetime'], \n",
    "                                curation_output_dir='jm007/2022-06-14_a/TSeries-05182022-1006-001/suite2p',\n",
    "                                manual_curation=False,\n",
    "                                curation_note=''))"
   ]
  },
  {
   "cell_type": "code",
   "execution_count": null,
   "id": "9257d9f6-4826-46d9-8f68-279130a63738",
   "metadata": {},
   "outputs": [],
   "source": [
    "for (i, subject_str) in enumerate(all_subject_str):\n",
    "    #for (j, subject_session_str) in enumerate(all_session_str[i]): # ONLY RUNNING FOR FIRST SESSION\n",
    "    \n",
    "    j = 0\n",
    "    subject_session_str = all_session_str[i][j]\n",
    "    \n",
    "    session_datetime_str = all_datetime_str[i][j]\n",
    "\n",
    "    imaging.Curation.insert1(dict(subject=subject_str, \n",
    "                                    session_datetime=session_datetime_str, \n",
    "                                    scan_id=0,\n",
    "                                    paramset_idx=0,\n",
    "                                    curation_id=0,\n",
    "                                    curation_time=session_datetime_str, \n",
    "                                    curation_output_dir=f'{subject_str}/{subject_session_str}/TSeries/suite2p',\n",
    "                                    manual_curation=False,\n",
    "                                    curation_note=''))\n",
    "\n",
    "\n",
    "    "
   ]
  },
  {
   "cell_type": "code",
   "execution_count": null,
   "id": "286fc2db-4781-44ce-bd92-8798d9e6fe43",
   "metadata": {},
   "outputs": [],
   "source": [
    "imaging.Activity()"
   ]
  },
  {
   "cell_type": "code",
   "execution_count": null,
   "id": "019987a8-ae77-429f-87f4-747e66295de6",
   "metadata": {},
   "outputs": [],
   "source": [
    "imaging.MotionCorrection.heading"
   ]
  },
  {
   "cell_type": "code",
   "execution_count": null,
   "id": "25c356dd-1581-4ffc-b7a9-a923dd430365",
   "metadata": {},
   "outputs": [],
   "source": [
    "imaging.MotionCorrection.populate(**populate_settings)\n",
    "imaging.Segmentation.populate(**populate_settings)\n",
    "imaging.MaskClassification.populate(**populate_settings)\n",
    "imaging.Fluorescence.populate(**populate_settings)\n",
    "imaging.Activity.populate(**populate_settings)"
   ]
  },
  {
   "cell_type": "markdown",
   "id": "96e28183-7da4-4f56-998f-5638d69e8b6a",
   "metadata": {},
   "source": [
    "# Testing if data is loaded correctly"
   ]
  },
  {
   "cell_type": "code",
   "execution_count": null,
   "id": "1f7bf8f2-6001-4e62-82bb-9d184f17cdb9",
   "metadata": {},
   "outputs": [],
   "source": [
    "session_key = (imaging.Fluorescence & 'subject = \"jm003\"').fetch('KEY')[0]\n",
    "print(session_key)"
   ]
  },
  {
   "cell_type": "code",
   "execution_count": null,
   "id": "12ff1923-f7f7-4480-9e3a-61d7fa4869fd",
   "metadata": {},
   "outputs": [],
   "source": [
    "imaging.MotionCorrection & session_key"
   ]
  },
  {
   "cell_type": "code",
   "execution_count": null,
   "id": "e5dd0520-9443-43f6-a346-ab7d16226a3b",
   "metadata": {},
   "outputs": [],
   "source": [
    "import matplotlib.pyplot as plt"
   ]
  },
  {
   "cell_type": "code",
   "execution_count": null,
   "id": "f2f0cf3c-7971-40ab-852e-2177ae07161b",
   "metadata": {},
   "outputs": [],
   "source": [
    "avg_im"
   ]
  },
  {
   "cell_type": "code",
   "execution_count": null,
   "id": "e08e5cb1-7692-4069-a792-c09bc44f5d9c",
   "metadata": {},
   "outputs": [],
   "source": [
    "avg_im = (imaging.MotionCorrection.Summary & session_key).fetch('average_image')\n",
    "plt.imshow(np.array(avg_im[0]))\n",
    "plt.show()\n",
    "plt.imshow(np.array(avg_im[1]))\n",
    "plt.show()\n",
    "plt.imshow(np.array(avg_im[2]))\n",
    "plt.show()"
   ]
  },
  {
   "cell_type": "code",
   "execution_count": null,
   "id": "f524f84a-43d9-4a30-a059-3bb9edf1a98a",
   "metadata": {},
   "outputs": [],
   "source": [
    "from scipy.stats import zscore"
   ]
  },
  {
   "cell_type": "code",
   "execution_count": null,
   "id": "4b5eb9a2-e986-4406-888f-4296005b948f",
   "metadata": {},
   "outputs": [],
   "source": [
    "imaging.Activity.Trace & session_key"
   ]
  },
  {
   "cell_type": "code",
   "execution_count": null,
   "id": "79a85516-2437-4c16-9e74-ca23fb78f8b7",
   "metadata": {},
   "outputs": [],
   "source": [
    "F = (imaging.Fluorescence.Trace & session_key).fetch('fluorescence')"
   ]
  },
  {
   "cell_type": "code",
   "execution_count": null,
   "id": "4986bc89-142c-4703-acec-93a4c3c2242c",
   "metadata": {},
   "outputs": [],
   "source": [
    "F_toplot = zscore(np.stack(F), 1)"
   ]
  },
  {
   "cell_type": "code",
   "execution_count": null,
   "id": "fed69236-9f13-481b-8c7f-59b0b001aa54",
   "metadata": {},
   "outputs": [],
   "source": [
    "plt.figure(figsize=(20,20), dpi=300)\n",
    "plt.imshow(F_toplot,cmap='Greys', vmin=0, vmax=3.65)"
   ]
  },
  {
   "cell_type": "code",
   "execution_count": null,
   "id": "7b790bdc-f81f-46de-9c50-9696b3c44d02",
   "metadata": {},
   "outputs": [],
   "source": []
  },
  {
   "cell_type": "code",
   "execution_count": null,
   "id": "e68e82ff-6878-4c64-9f19-b206a4688864",
   "metadata": {},
   "outputs": [],
   "source": []
  }
 ],
 "metadata": {
  "kernelspec": {
   "display_name": "Python 3 (ipykernel)",
   "language": "python",
   "name": "python3"
  },
  "language_info": {
   "codemirror_mode": {
    "name": "ipython",
    "version": 3
   },
   "file_extension": ".py",
   "mimetype": "text/x-python",
   "name": "python",
   "nbconvert_exporter": "python",
   "pygments_lexer": "ipython3",
   "version": "3.8.16"
  }
 },
 "nbformat": 4,
 "nbformat_minor": 5
}
