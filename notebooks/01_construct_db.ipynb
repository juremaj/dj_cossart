{
 "cells": [
  {
   "cell_type": "markdown",
   "metadata": {},
   "source": [
    "# Interactively run workflow calcium imaging\n",
    "\n",
    "+ This notebook walks you through the steps in detail to run the `workflow-calcium-imaging`.  \n",
    "\n",
    "+ The workflow requires the calcium imaging acquired data from ScanImage or Scanbox and processed data from Suite2p or CaImAn.\n",
    "\n",
    "+ If you haven't configured the paths, refer to [01-configure](01-configure.ipynb).\n",
    "\n",
    "+ To overview the schema structures, refer to [02-workflow-structure](02-workflow-structure.ipynb).\n",
    "\n",
    "+ If you need a more automatic approach to run the workflow, refer to [03-automate](03-automate-optional.ipynb)."
   ]
  },
  {
   "cell_type": "markdown",
   "metadata": {},
   "source": [
    "Let's change the directory to the package root directory to load the local configuration (`dj_local_conf.json`)."
   ]
  },
  {
   "cell_type": "code",
   "execution_count": 1,
   "metadata": {},
   "outputs": [],
   "source": [
    "# reload code if library changes\n",
    "%load_ext autoreload\n",
    "%autoreload 2\n",
    "%reload_ext autoreload"
   ]
  },
  {
   "cell_type": "code",
   "execution_count": 2,
   "metadata": {},
   "outputs": [],
   "source": [
    "import os\n",
    "if os.path.basename(os.getcwd()) == \"notebooks\": os.chdir(\"..\")\n",
    "import numpy as np"
   ]
  },
  {
   "cell_type": "code",
   "execution_count": 3,
   "metadata": {},
   "outputs": [],
   "source": [
    "skip_ds = ['jm007/2022-06-13_a'] # corrupted metadata"
   ]
  },
  {
   "cell_type": "markdown",
   "metadata": {},
   "source": [
    "## `Pipeline.py`\n",
    "\n",
    "+ This script `activates` the DataJoint `elements` and declares other required tables."
   ]
  },
  {
   "cell_type": "code",
   "execution_count": 4,
   "metadata": {},
   "outputs": [
    {
     "name": "stderr",
     "output_type": "stream",
     "text": [
      "[2023-02-28 12:59:43,689][INFO]: Connecting jure@127.0.0.1:3306\n",
      "[2023-02-28 12:59:43,784][INFO]: Connected jure@127.0.0.1:3306\n"
     ]
    }
   ],
   "source": [
    "import datajoint as dj\n",
    "from workflow_calcium_imaging.pipeline import *\n",
    "populate_settings = {'display_progress': True}"
   ]
  },
  {
   "cell_type": "code",
   "execution_count": 5,
   "metadata": {},
   "outputs": [],
   "source": [
    "# move to library\n",
    "def get_metadata_from_filetree(root_data_dir, fake_session_datetime_str_init):\n",
    "    all_subject_str = []\n",
    "    all_session_str = [] # this will be list of lists - each nested list corresponding to one subject\n",
    "    all_datetime_str = [] # for now hardcoded! (figure out how to do programmatically)\n",
    "\n",
    "    count = 0\n",
    "    for subject_str in os.listdir(root_data_dir):\n",
    "        if os.path.isdir(f'{root_data_dir}/{subject_str}'):\n",
    "\n",
    "            print(f'Subject: {subject_str}')\n",
    "            all_subject_str.append(subject_str)\n",
    "\n",
    "            all_subject_session_str = [] # sessions for this particular subject\n",
    "            all_subject_datetime_str = []\n",
    "            for subject_session_str in os.listdir(root_data_dir + '/' + subject_str):\n",
    "                all_subject_session_str.append(subject_session_str)\n",
    "                fake_session_datetime_str = fake_session_datetime_str_init[:18] + str(count) + '.000' # making fake unique time\n",
    "                print('\\n\\n\\nIMPORTANT: JM made up a fake datetime to fit convention of DJ. If needed for analysis, the true datetime of the experiment can still be accessed though through the `session` entry (YYYY-MM-DD_x) or from where the bruker metadata is stored within the database.\\n\\n\\n')\n",
    "                print(fake_session_datetime_str)\n",
    "                all_subject_datetime_str.append(fake_session_datetime_str) # here it is fake\n",
    "                count += 1\n",
    "\n",
    "            print(f'Identified sessions for subject {subject_str}: {all_subject_session_str}')\n",
    "\n",
    "            all_session_str.append(all_subject_session_str) \n",
    "            all_datetime_str.append(all_subject_datetime_str) \n",
    "        \n",
    "    return all_subject_str, all_session_str, all_datetime_str"
   ]
  },
  {
   "cell_type": "markdown",
   "metadata": {},
   "source": [
    "### Clear previous metadata entries"
   ]
  },
  {
   "cell_type": "code",
   "execution_count": 6,
   "metadata": {},
   "outputs": [
    {
     "name": "stderr",
     "output_type": "stream",
     "text": [
      "[2023-02-28 12:59:44,061][INFO]: Deleting 4 rows from `jure_imaging`.`_motion_correction__summary`\n",
      "[2023-02-28 12:59:44,070][INFO]: Deleting 18 rows from `jure_scan`.`_scan_info__field`\n",
      "[2023-02-28 12:59:44,949][INFO]: Deleting 470400 rows from `jure_scan`.`_scan_info__scan_file`\n",
      "[2023-02-28 12:59:45,048][INFO]: Deleting 11 rows from `jure_scan`.`_scan_info`\n",
      "[2023-02-28 12:59:45,095][INFO]: Deleting 1499 rows from `jure_imaging`.`__mask_classification__mask_type`\n",
      "[2023-02-28 12:59:45,102][INFO]: Deleting 2 rows from `jure_imaging`.`__mask_classification`\n",
      "[2023-02-28 12:59:45,151][INFO]: Deleting 2953 rows from `jure_imaging`.`__segmentation__mask`\n",
      "[2023-02-28 12:59:45,163][INFO]: Deleting 2 rows from `jure_imaging`.`__segmentation`\n",
      "[2023-02-28 12:59:45,183][INFO]: Deleting 2 rows from `jure_imaging`.`_motion_correction__rigid_motion_correction`\n",
      "[2023-02-28 12:59:45,190][INFO]: Deleting 2 rows from `jure_imaging`.`_motion_correction`\n",
      "[2023-02-28 12:59:45,199][INFO]: Deleting 2 rows from `jure_imaging`.`curation`\n",
      "[2023-02-28 12:59:45,207][INFO]: Deleting 2 rows from `jure_imaging`.`__processing`\n",
      "[2023-02-28 12:59:45,216][INFO]: Deleting 2 rows from `jure_imaging`.`processing_task`\n",
      "[2023-02-28 12:59:45,224][INFO]: Deleting 11 rows from `jure_scan`.`scan`\n",
      "[2023-02-28 12:59:45,235][INFO]: Deleting 11 rows from `jure_session`.`session_directory`\n",
      "[2023-02-28 12:59:45,243][INFO]: Deleting 12 rows from `jure_session`.`session`\n",
      "[2023-02-28 12:59:45,253][INFO]: Deleting 3 rows from `jure_subject`.`subject`\n"
     ]
    },
    {
     "name": "stdin",
     "output_type": "stream",
     "text": [
      "Commit deletes? [yes, No]:  yes\n"
     ]
    },
    {
     "name": "stderr",
     "output_type": "stream",
     "text": [
      "[2023-02-28 12:59:47,049][INFO]: Deleting 1 rows from `jure_lab`.`equipment`\n"
     ]
    },
    {
     "name": "stdout",
     "output_type": "stream",
     "text": [
      "Deletes committed.\n"
     ]
    },
    {
     "name": "stdin",
     "output_type": "stream",
     "text": [
      "Commit deletes? [yes, No]:  yes\n"
     ]
    },
    {
     "name": "stdout",
     "output_type": "stream",
     "text": [
      "Deletes committed.\n"
     ]
    },
    {
     "data": {
      "text/plain": [
       "1"
      ]
     },
     "execution_count": 6,
     "metadata": {},
     "output_type": "execute_result"
    }
   ],
   "source": [
    "# clear any previous entries\n",
    "subject.Subject.delete()\n",
    "Equipment.delete()"
   ]
  },
  {
   "cell_type": "markdown",
   "metadata": {},
   "source": [
    "## Insert an entry into `subject.Subject`"
   ]
  },
  {
   "cell_type": "code",
   "execution_count": 7,
   "metadata": {},
   "outputs": [
    {
     "data": {
      "text/plain": [
       "subject              : varchar(8)                   # \n",
       "---\n",
       "sex                  : enum('M','F','U')            # \n",
       "subject_birth_date   : date                         # \n",
       "subject_description=\"\" : varchar(1024)                # "
      ]
     },
     "execution_count": 7,
     "metadata": {},
     "output_type": "execute_result"
    }
   ],
   "source": [
    "subject.Subject.heading"
   ]
  },
  {
   "cell_type": "code",
   "execution_count": 8,
   "metadata": {},
   "outputs": [],
   "source": [
    "from element_interface.prairieviewreader import get_pv_metadata"
   ]
  },
  {
   "cell_type": "code",
   "execution_count": 9,
   "metadata": {},
   "outputs": [],
   "source": [
    "import pandas as pd"
   ]
  },
  {
   "cell_type": "code",
   "execution_count": 10,
   "metadata": {},
   "outputs": [
    {
     "name": "stdout",
     "output_type": "stream",
     "text": [
      "Subject: jm003\n",
      "\n",
      "\n",
      "\n",
      "IMPORTANT: JM made up a fake datetime to fit convention of DJ. If needed for analysis, the true datetime of the experiment can still be accessed though through the `session` entry (YYYY-MM-DD_x) or from where the bruker metadata is stored within the database.\n",
      "\n",
      "\n",
      "\n",
      "2002-01-01 12:00:00.000\n",
      "\n",
      "\n",
      "\n",
      "IMPORTANT: JM made up a fake datetime to fit convention of DJ. If needed for analysis, the true datetime of the experiment can still be accessed though through the `session` entry (YYYY-MM-DD_x) or from where the bruker metadata is stored within the database.\n",
      "\n",
      "\n",
      "\n",
      "2002-01-01 12:00:01.000\n",
      "\n",
      "\n",
      "\n",
      "IMPORTANT: JM made up a fake datetime to fit convention of DJ. If needed for analysis, the true datetime of the experiment can still be accessed though through the `session` entry (YYYY-MM-DD_x) or from where the bruker metadata is stored within the database.\n",
      "\n",
      "\n",
      "\n",
      "2002-01-01 12:00:02.000\n",
      "\n",
      "\n",
      "\n",
      "IMPORTANT: JM made up a fake datetime to fit convention of DJ. If needed for analysis, the true datetime of the experiment can still be accessed though through the `session` entry (YYYY-MM-DD_x) or from where the bruker metadata is stored within the database.\n",
      "\n",
      "\n",
      "\n",
      "2002-01-01 12:00:03.000\n",
      "\n",
      "\n",
      "\n",
      "IMPORTANT: JM made up a fake datetime to fit convention of DJ. If needed for analysis, the true datetime of the experiment can still be accessed though through the `session` entry (YYYY-MM-DD_x) or from where the bruker metadata is stored within the database.\n",
      "\n",
      "\n",
      "\n",
      "2002-01-01 12:00:04.000\n",
      "Identified sessions for subject jm003: ['2022-05-03_b', '2022-05-04_a', '2022-05-04_b', '2022-05-05_b', '2022-05-05_c']\n",
      "Subject: jm004\n",
      "\n",
      "\n",
      "\n",
      "IMPORTANT: JM made up a fake datetime to fit convention of DJ. If needed for analysis, the true datetime of the experiment can still be accessed though through the `session` entry (YYYY-MM-DD_x) or from where the bruker metadata is stored within the database.\n",
      "\n",
      "\n",
      "\n",
      "2002-01-01 12:00:05.000\n",
      "Identified sessions for subject jm004: ['2022-05-06_a']\n",
      "Subject: jm007\n",
      "\n",
      "\n",
      "\n",
      "IMPORTANT: JM made up a fake datetime to fit convention of DJ. If needed for analysis, the true datetime of the experiment can still be accessed though through the `session` entry (YYYY-MM-DD_x) or from where the bruker metadata is stored within the database.\n",
      "\n",
      "\n",
      "\n",
      "2002-01-01 12:00:06.000\n",
      "\n",
      "\n",
      "\n",
      "IMPORTANT: JM made up a fake datetime to fit convention of DJ. If needed for analysis, the true datetime of the experiment can still be accessed though through the `session` entry (YYYY-MM-DD_x) or from where the bruker metadata is stored within the database.\n",
      "\n",
      "\n",
      "\n",
      "2002-01-01 12:00:07.000\n",
      "\n",
      "\n",
      "\n",
      "IMPORTANT: JM made up a fake datetime to fit convention of DJ. If needed for analysis, the true datetime of the experiment can still be accessed though through the `session` entry (YYYY-MM-DD_x) or from where the bruker metadata is stored within the database.\n",
      "\n",
      "\n",
      "\n",
      "2002-01-01 12:00:08.000\n",
      "\n",
      "\n",
      "\n",
      "IMPORTANT: JM made up a fake datetime to fit convention of DJ. If needed for analysis, the true datetime of the experiment can still be accessed though through the `session` entry (YYYY-MM-DD_x) or from where the bruker metadata is stored within the database.\n",
      "\n",
      "\n",
      "\n",
      "2002-01-01 12:00:09.000\n",
      "\n",
      "\n",
      "\n",
      "IMPORTANT: JM made up a fake datetime to fit convention of DJ. If needed for analysis, the true datetime of the experiment can still be accessed though through the `session` entry (YYYY-MM-DD_x) or from where the bruker metadata is stored within the database.\n",
      "\n",
      "\n",
      "\n",
      "2002-01-01 12:00:010.000\n",
      "\n",
      "\n",
      "\n",
      "IMPORTANT: JM made up a fake datetime to fit convention of DJ. If needed for analysis, the true datetime of the experiment can still be accessed though through the `session` entry (YYYY-MM-DD_x) or from where the bruker metadata is stored within the database.\n",
      "\n",
      "\n",
      "\n",
      "2002-01-01 12:00:011.000\n",
      "Identified sessions for subject jm007: ['2022-06-13_a', '2022-06-13_b', '2022-06-14_a', '2022-06-14_b', '2022-06-15_a', '2022-06-15_b']\n",
      "Subject: jm008\n",
      "\n",
      "\n",
      "\n",
      "IMPORTANT: JM made up a fake datetime to fit convention of DJ. If needed for analysis, the true datetime of the experiment can still be accessed though through the `session` entry (YYYY-MM-DD_x) or from where the bruker metadata is stored within the database.\n",
      "\n",
      "\n",
      "\n",
      "2002-01-01 12:00:012.000\n",
      "\n",
      "\n",
      "\n",
      "IMPORTANT: JM made up a fake datetime to fit convention of DJ. If needed for analysis, the true datetime of the experiment can still be accessed though through the `session` entry (YYYY-MM-DD_x) or from where the bruker metadata is stored within the database.\n",
      "\n",
      "\n",
      "\n",
      "2002-01-01 12:00:013.000\n",
      "\n",
      "\n",
      "\n",
      "IMPORTANT: JM made up a fake datetime to fit convention of DJ. If needed for analysis, the true datetime of the experiment can still be accessed though through the `session` entry (YYYY-MM-DD_x) or from where the bruker metadata is stored within the database.\n",
      "\n",
      "\n",
      "\n",
      "2002-01-01 12:00:014.000\n",
      "\n",
      "\n",
      "\n",
      "IMPORTANT: JM made up a fake datetime to fit convention of DJ. If needed for analysis, the true datetime of the experiment can still be accessed though through the `session` entry (YYYY-MM-DD_x) or from where the bruker metadata is stored within the database.\n",
      "\n",
      "\n",
      "\n",
      "2002-01-01 12:00:015.000\n",
      "\n",
      "\n",
      "\n",
      "IMPORTANT: JM made up a fake datetime to fit convention of DJ. If needed for analysis, the true datetime of the experiment can still be accessed though through the `session` entry (YYYY-MM-DD_x) or from where the bruker metadata is stored within the database.\n",
      "\n",
      "\n",
      "\n",
      "2002-01-01 12:00:016.000\n",
      "\n",
      "\n",
      "\n",
      "IMPORTANT: JM made up a fake datetime to fit convention of DJ. If needed for analysis, the true datetime of the experiment can still be accessed though through the `session` entry (YYYY-MM-DD_x) or from where the bruker metadata is stored within the database.\n",
      "\n",
      "\n",
      "\n",
      "2002-01-01 12:00:017.000\n",
      "\n",
      "\n",
      "\n",
      "IMPORTANT: JM made up a fake datetime to fit convention of DJ. If needed for analysis, the true datetime of the experiment can still be accessed though through the `session` entry (YYYY-MM-DD_x) or from where the bruker metadata is stored within the database.\n",
      "\n",
      "\n",
      "\n",
      "2002-01-01 12:00:018.000\n",
      "\n",
      "\n",
      "\n",
      "IMPORTANT: JM made up a fake datetime to fit convention of DJ. If needed for analysis, the true datetime of the experiment can still be accessed though through the `session` entry (YYYY-MM-DD_x) or from where the bruker metadata is stored within the database.\n",
      "\n",
      "\n",
      "\n",
      "2002-01-01 12:00:019.000\n",
      "Identified sessions for subject jm008: ['2022-06-14_a', '2022-06-14_b', '2022-06-15_a', '2022-06-15_b', '2022-06-16_a', '2022-06-16_b', '2022-06-17_a', '2022-06-17_b']\n",
      "Subject: jm010\n",
      "\n",
      "\n",
      "\n",
      "IMPORTANT: JM made up a fake datetime to fit convention of DJ. If needed for analysis, the true datetime of the experiment can still be accessed though through the `session` entry (YYYY-MM-DD_x) or from where the bruker metadata is stored within the database.\n",
      "\n",
      "\n",
      "\n",
      "2002-01-01 12:00:020.000\n",
      "\n",
      "\n",
      "\n",
      "IMPORTANT: JM made up a fake datetime to fit convention of DJ. If needed for analysis, the true datetime of the experiment can still be accessed though through the `session` entry (YYYY-MM-DD_x) or from where the bruker metadata is stored within the database.\n",
      "\n",
      "\n",
      "\n",
      "2002-01-01 12:00:021.000\n",
      "\n",
      "\n",
      "\n",
      "IMPORTANT: JM made up a fake datetime to fit convention of DJ. If needed for analysis, the true datetime of the experiment can still be accessed though through the `session` entry (YYYY-MM-DD_x) or from where the bruker metadata is stored within the database.\n",
      "\n",
      "\n",
      "\n",
      "2002-01-01 12:00:022.000\n",
      "\n",
      "\n",
      "\n",
      "IMPORTANT: JM made up a fake datetime to fit convention of DJ. If needed for analysis, the true datetime of the experiment can still be accessed though through the `session` entry (YYYY-MM-DD_x) or from where the bruker metadata is stored within the database.\n",
      "\n",
      "\n",
      "\n",
      "2002-01-01 12:00:023.000\n",
      "\n",
      "\n",
      "\n",
      "IMPORTANT: JM made up a fake datetime to fit convention of DJ. If needed for analysis, the true datetime of the experiment can still be accessed though through the `session` entry (YYYY-MM-DD_x) or from where the bruker metadata is stored within the database.\n",
      "\n",
      "\n",
      "\n",
      "2002-01-01 12:00:024.000\n",
      "\n",
      "\n",
      "\n",
      "IMPORTANT: JM made up a fake datetime to fit convention of DJ. If needed for analysis, the true datetime of the experiment can still be accessed though through the `session` entry (YYYY-MM-DD_x) or from where the bruker metadata is stored within the database.\n",
      "\n",
      "\n",
      "\n",
      "2002-01-01 12:00:025.000\n",
      "Identified sessions for subject jm010: ['2022-06-15_a', '2022-06-15_c', '2022-06-16_a', '2022-06-16_b', '2022-06-17_a', '2022-06-17_b']\n",
      "Subject: jm012\n",
      "\n",
      "\n",
      "\n",
      "IMPORTANT: JM made up a fake datetime to fit convention of DJ. If needed for analysis, the true datetime of the experiment can still be accessed though through the `session` entry (YYYY-MM-DD_x) or from where the bruker metadata is stored within the database.\n",
      "\n",
      "\n",
      "\n",
      "2002-01-01 12:00:026.000\n",
      "Identified sessions for subject jm012: ['2022-07-06_a']\n",
      "Subject: jm013\n",
      "\n",
      "\n",
      "\n",
      "IMPORTANT: JM made up a fake datetime to fit convention of DJ. If needed for analysis, the true datetime of the experiment can still be accessed though through the `session` entry (YYYY-MM-DD_x) or from where the bruker metadata is stored within the database.\n",
      "\n",
      "\n",
      "\n",
      "2002-01-01 12:00:027.000\n",
      "\n",
      "\n",
      "\n",
      "IMPORTANT: JM made up a fake datetime to fit convention of DJ. If needed for analysis, the true datetime of the experiment can still be accessed though through the `session` entry (YYYY-MM-DD_x) or from where the bruker metadata is stored within the database.\n",
      "\n",
      "\n",
      "\n",
      "2002-01-01 12:00:028.000\n",
      "\n",
      "\n",
      "\n",
      "IMPORTANT: JM made up a fake datetime to fit convention of DJ. If needed for analysis, the true datetime of the experiment can still be accessed though through the `session` entry (YYYY-MM-DD_x) or from where the bruker metadata is stored within the database.\n",
      "\n",
      "\n",
      "\n",
      "2002-01-01 12:00:029.000\n",
      "Identified sessions for subject jm013: ['2023-02-02_a', '2023-02-02_b', '2023-03-02_a']\n",
      "Subject: jm014\n",
      "\n",
      "\n",
      "\n",
      "IMPORTANT: JM made up a fake datetime to fit convention of DJ. If needed for analysis, the true datetime of the experiment can still be accessed though through the `session` entry (YYYY-MM-DD_x) or from where the bruker metadata is stored within the database.\n",
      "\n",
      "\n",
      "\n",
      "2002-01-01 12:00:030.000\n",
      "\n",
      "\n",
      "\n",
      "IMPORTANT: JM made up a fake datetime to fit convention of DJ. If needed for analysis, the true datetime of the experiment can still be accessed though through the `session` entry (YYYY-MM-DD_x) or from where the bruker metadata is stored within the database.\n",
      "\n",
      "\n",
      "\n",
      "2002-01-01 12:00:031.000\n",
      "\n",
      "\n",
      "\n",
      "IMPORTANT: JM made up a fake datetime to fit convention of DJ. If needed for analysis, the true datetime of the experiment can still be accessed though through the `session` entry (YYYY-MM-DD_x) or from where the bruker metadata is stored within the database.\n",
      "\n",
      "\n",
      "\n",
      "2002-01-01 12:00:032.000\n",
      "Identified sessions for subject jm014: ['2023-03-02_a', '2023-03-02_b', '2023-03-02_c']\n"
     ]
    }
   ],
   "source": [
    "# custom function to populate database\n",
    "root_data_dir = dj.config['custom']['imaging_root_data_dir']\n",
    "fake_session_datetime_str_init = '2002-01-01 12:00:00.000' # making up session datetime (to query data use either the session/folder name or PraireView metadata)\n",
    "all_subject_str, all_session_str, all_datetime_str = get_metadata_from_filetree(root_data_dir, fake_session_datetime_str_init)\n"
   ]
  },
  {
   "cell_type": "code",
   "execution_count": 11,
   "metadata": {},
   "outputs": [
    {
     "name": "stdout",
     "output_type": "stream",
     "text": [
      "All subjects: ['jm003', 'jm004', 'jm007', 'jm008', 'jm010', 'jm012', 'jm013', 'jm014']\n",
      "All session: [['2022-05-03_b', '2022-05-04_a', '2022-05-04_b', '2022-05-05_b', '2022-05-05_c'], ['2022-05-06_a'], ['2022-06-13_a', '2022-06-13_b', '2022-06-14_a', '2022-06-14_b', '2022-06-15_a', '2022-06-15_b'], ['2022-06-14_a', '2022-06-14_b', '2022-06-15_a', '2022-06-15_b', '2022-06-16_a', '2022-06-16_b', '2022-06-17_a', '2022-06-17_b'], ['2022-06-15_a', '2022-06-15_c', '2022-06-16_a', '2022-06-16_b', '2022-06-17_a', '2022-06-17_b'], ['2022-07-06_a'], ['2023-02-02_a', '2023-02-02_b', '2023-03-02_a'], ['2023-03-02_a', '2023-03-02_b', '2023-03-02_c']]\n"
     ]
    }
   ],
   "source": [
    "print(f'All subjects: {all_subject_str}')\n",
    "print(f'All session: {all_session_str}')\n"
   ]
  },
  {
   "cell_type": "code",
   "execution_count": 12,
   "metadata": {},
   "outputs": [],
   "source": [
    "for subject_str in all_subject_str:\n",
    "    \n",
    "    subject.Subject.insert1(dict(subject=subject_str, \n",
    "                                 sex='U', \n",
    "                                 subject_birth_date='2020-01-01', # FIGURE OUT HOW TO HANDLE\n",
    "                                 subject_description=''))"
   ]
  },
  {
   "cell_type": "code",
   "execution_count": 13,
   "metadata": {},
   "outputs": [
    {
     "data": {
      "text/html": [
       "\n",
       "    \n",
       "    <style type=\"text/css\">\n",
       "        .Relation{\n",
       "            border-collapse:collapse;\n",
       "        }\n",
       "        .Relation th{\n",
       "            background: #A0A0A0; color: #ffffff; padding:4px; border:#f0e0e0 1px solid;\n",
       "            font-weight: normal; font-family: monospace; font-size: 100%;\n",
       "        }\n",
       "        .Relation td{\n",
       "            padding:4px; border:#f0e0e0 1px solid; font-size:100%;\n",
       "        }\n",
       "        .Relation tr:nth-child(odd){\n",
       "            background: #ffffff;\n",
       "        }\n",
       "        .Relation tr:nth-child(even){\n",
       "            background: #f3f1ff;\n",
       "        }\n",
       "        /* Tooltip container */\n",
       "        .djtooltip {\n",
       "        }\n",
       "        /* Tooltip text */\n",
       "        .djtooltip .djtooltiptext {\n",
       "            visibility: hidden;\n",
       "            width: 120px;\n",
       "            background-color: black;\n",
       "            color: #fff;\n",
       "            text-align: center;\n",
       "            padding: 5px 0;\n",
       "            border-radius: 6px;\n",
       "            /* Position the tooltip text - see examples below! */\n",
       "            position: absolute;\n",
       "            z-index: 1;\n",
       "        }\n",
       "        #primary {\n",
       "            font-weight: bold;\n",
       "            color: black;\n",
       "        }\n",
       "        #nonprimary {\n",
       "            font-weight: normal;\n",
       "            color: white;\n",
       "        }\n",
       "\n",
       "        /* Show the tooltip text when you mouse over the tooltip container */\n",
       "        .djtooltip:hover .djtooltiptext {\n",
       "            visibility: visible;\n",
       "        }\n",
       "    </style>\n",
       "    \n",
       "    <b>Animal Subject</b>\n",
       "        <div style=\"max-height:1000px;max-width:1500px;overflow:auto;\">\n",
       "        <table border=\"1\" class=\"Relation\">\n",
       "            <thead> <tr style=\"text-align: right;\"> <th> <div class=\"djtooltip\">\n",
       "                            <p id=\"primary\">subject</p>\n",
       "                            <span class=\"djtooltiptext\"></span>\n",
       "                        </div></th><th><div class=\"djtooltip\">\n",
       "                            <p id=\"nonprimary\">sex</p>\n",
       "                            <span class=\"djtooltiptext\"></span>\n",
       "                        </div></th><th><div class=\"djtooltip\">\n",
       "                            <p id=\"nonprimary\">subject_birth_date</p>\n",
       "                            <span class=\"djtooltiptext\"></span>\n",
       "                        </div></th><th><div class=\"djtooltip\">\n",
       "                            <p id=\"nonprimary\">subject_description</p>\n",
       "                            <span class=\"djtooltiptext\"></span>\n",
       "                        </div> </th> </tr> </thead>\n",
       "            <tbody> <tr> <td>jm003</td>\n",
       "<td>U</td>\n",
       "<td>2020-01-01</td>\n",
       "<td></td></tr><tr><td>jm004</td>\n",
       "<td>U</td>\n",
       "<td>2020-01-01</td>\n",
       "<td></td></tr><tr><td>jm007</td>\n",
       "<td>U</td>\n",
       "<td>2020-01-01</td>\n",
       "<td></td></tr><tr><td>jm008</td>\n",
       "<td>U</td>\n",
       "<td>2020-01-01</td>\n",
       "<td></td></tr><tr><td>jm010</td>\n",
       "<td>U</td>\n",
       "<td>2020-01-01</td>\n",
       "<td></td></tr><tr><td>jm012</td>\n",
       "<td>U</td>\n",
       "<td>2020-01-01</td>\n",
       "<td></td></tr><tr><td>jm013</td>\n",
       "<td>U</td>\n",
       "<td>2020-01-01</td>\n",
       "<td></td></tr><tr><td>jm014</td>\n",
       "<td>U</td>\n",
       "<td>2020-01-01</td>\n",
       "<td></td> </tr> </tbody>\n",
       "        </table>\n",
       "        \n",
       "        <p>Total: 8</p></div>\n",
       "        "
      ],
      "text/plain": [
       "*subject    sex     subject_birth_ subject_descri\n",
       "+---------+ +-----+ +------------+ +------------+\n",
       "jm003       U       2020-01-01                   \n",
       "jm004       U       2020-01-01                   \n",
       "jm007       U       2020-01-01                   \n",
       "jm008       U       2020-01-01                   \n",
       "jm010       U       2020-01-01                   \n",
       "jm012       U       2020-01-01                   \n",
       "jm013       U       2020-01-01                   \n",
       "jm014       U       2020-01-01                   \n",
       " (Total: 8)"
      ]
     },
     "execution_count": 13,
     "metadata": {},
     "output_type": "execute_result"
    }
   ],
   "source": [
    "subject.Subject()"
   ]
  },
  {
   "cell_type": "markdown",
   "metadata": {},
   "source": [
    "## Insert an entry into `lab.Equipment`"
   ]
  },
  {
   "cell_type": "code",
   "execution_count": 14,
   "metadata": {},
   "outputs": [],
   "source": [
    "Equipment.insert1(dict(scanner='PrairieView'))"
   ]
  },
  {
   "cell_type": "markdown",
   "metadata": {},
   "source": [
    "## Insert an entry into `session.Session`"
   ]
  },
  {
   "cell_type": "code",
   "execution_count": 15,
   "metadata": {},
   "outputs": [
    {
     "name": "stdout",
     "output_type": "stream",
     "text": [
      "-> Subject\n",
      "session_datetime     : datetime                     \n",
      "\n"
     ]
    }
   ],
   "source": [
    "session.Session.describe();"
   ]
  },
  {
   "cell_type": "code",
   "execution_count": 16,
   "metadata": {},
   "outputs": [
    {
     "data": {
      "text/plain": [
       "# \n",
       "subject              : varchar(8)                   # \n",
       "session_datetime     : datetime                     # "
      ]
     },
     "execution_count": 16,
     "metadata": {},
     "output_type": "execute_result"
    }
   ],
   "source": [
    "session.Session.heading"
   ]
  },
  {
   "cell_type": "code",
   "execution_count": 17,
   "metadata": {},
   "outputs": [
    {
     "data": {
      "text/html": [
       "\n",
       "    \n",
       "    <style type=\"text/css\">\n",
       "        .Relation{\n",
       "            border-collapse:collapse;\n",
       "        }\n",
       "        .Relation th{\n",
       "            background: #A0A0A0; color: #ffffff; padding:4px; border:#f0e0e0 1px solid;\n",
       "            font-weight: normal; font-family: monospace; font-size: 100%;\n",
       "        }\n",
       "        .Relation td{\n",
       "            padding:4px; border:#f0e0e0 1px solid; font-size:100%;\n",
       "        }\n",
       "        .Relation tr:nth-child(odd){\n",
       "            background: #ffffff;\n",
       "        }\n",
       "        .Relation tr:nth-child(even){\n",
       "            background: #f3f1ff;\n",
       "        }\n",
       "        /* Tooltip container */\n",
       "        .djtooltip {\n",
       "        }\n",
       "        /* Tooltip text */\n",
       "        .djtooltip .djtooltiptext {\n",
       "            visibility: hidden;\n",
       "            width: 120px;\n",
       "            background-color: black;\n",
       "            color: #fff;\n",
       "            text-align: center;\n",
       "            padding: 5px 0;\n",
       "            border-radius: 6px;\n",
       "            /* Position the tooltip text - see examples below! */\n",
       "            position: absolute;\n",
       "            z-index: 1;\n",
       "        }\n",
       "        #primary {\n",
       "            font-weight: bold;\n",
       "            color: black;\n",
       "        }\n",
       "        #nonprimary {\n",
       "            font-weight: normal;\n",
       "            color: white;\n",
       "        }\n",
       "\n",
       "        /* Show the tooltip text when you mouse over the tooltip container */\n",
       "        .djtooltip:hover .djtooltiptext {\n",
       "            visibility: visible;\n",
       "        }\n",
       "    </style>\n",
       "    \n",
       "    <b></b>\n",
       "        <div style=\"max-height:1000px;max-width:1500px;overflow:auto;\">\n",
       "        <table border=\"1\" class=\"Relation\">\n",
       "            <thead> <tr style=\"text-align: right;\"> <th> <div class=\"djtooltip\">\n",
       "                            <p id=\"primary\">subject</p>\n",
       "                            <span class=\"djtooltiptext\"></span>\n",
       "                        </div></th><th><div class=\"djtooltip\">\n",
       "                            <p id=\"primary\">session_datetime</p>\n",
       "                            <span class=\"djtooltiptext\"></span>\n",
       "                        </div> </th> </tr> </thead>\n",
       "            <tbody> <tr>  </tr> </tbody>\n",
       "        </table>\n",
       "        \n",
       "        <p>Total: 0</p></div>\n",
       "        "
      ],
      "text/plain": [
       "*subject    *session_datet\n",
       "+---------+ +------------+\n",
       "\n",
       " (Total: 0)"
      ]
     },
     "execution_count": 17,
     "metadata": {},
     "output_type": "execute_result"
    }
   ],
   "source": [
    "session.Session()"
   ]
  },
  {
   "cell_type": "code",
   "execution_count": 18,
   "metadata": {},
   "outputs": [
    {
     "data": {
      "text/plain": [
       "[['2002-01-01 12:00:00.000',\n",
       "  '2002-01-01 12:00:01.000',\n",
       "  '2002-01-01 12:00:02.000',\n",
       "  '2002-01-01 12:00:03.000',\n",
       "  '2002-01-01 12:00:04.000'],\n",
       " ['2002-01-01 12:00:05.000'],\n",
       " ['2002-01-01 12:00:06.000',\n",
       "  '2002-01-01 12:00:07.000',\n",
       "  '2002-01-01 12:00:08.000',\n",
       "  '2002-01-01 12:00:09.000',\n",
       "  '2002-01-01 12:00:010.000',\n",
       "  '2002-01-01 12:00:011.000'],\n",
       " ['2002-01-01 12:00:012.000',\n",
       "  '2002-01-01 12:00:013.000',\n",
       "  '2002-01-01 12:00:014.000',\n",
       "  '2002-01-01 12:00:015.000',\n",
       "  '2002-01-01 12:00:016.000',\n",
       "  '2002-01-01 12:00:017.000',\n",
       "  '2002-01-01 12:00:018.000',\n",
       "  '2002-01-01 12:00:019.000'],\n",
       " ['2002-01-01 12:00:020.000',\n",
       "  '2002-01-01 12:00:021.000',\n",
       "  '2002-01-01 12:00:022.000',\n",
       "  '2002-01-01 12:00:023.000',\n",
       "  '2002-01-01 12:00:024.000',\n",
       "  '2002-01-01 12:00:025.000'],\n",
       " ['2002-01-01 12:00:026.000'],\n",
       " ['2002-01-01 12:00:027.000',\n",
       "  '2002-01-01 12:00:028.000',\n",
       "  '2002-01-01 12:00:029.000'],\n",
       " ['2002-01-01 12:00:030.000',\n",
       "  '2002-01-01 12:00:031.000',\n",
       "  '2002-01-01 12:00:032.000']]"
      ]
     },
     "execution_count": 18,
     "metadata": {},
     "output_type": "execute_result"
    }
   ],
   "source": [
    "all_datetime_str"
   ]
  },
  {
   "cell_type": "code",
   "execution_count": 19,
   "metadata": {},
   "outputs": [
    {
     "name": "stdout",
     "output_type": "stream",
     "text": [
      "2002-01-01 12:00:00.000\n",
      "2002-01-01 12:00:01.000\n",
      "2002-01-01 12:00:02.000\n",
      "2002-01-01 12:00:03.000\n",
      "2002-01-01 12:00:04.000\n",
      "2002-01-01 12:00:05.000\n",
      "2002-01-01 12:00:06.000\n",
      "2002-01-01 12:00:07.000\n",
      "2002-01-01 12:00:08.000\n",
      "2002-01-01 12:00:09.000\n",
      "2002-01-01 12:00:010.000\n",
      "2002-01-01 12:00:011.000\n",
      "2002-01-01 12:00:012.000\n",
      "2002-01-01 12:00:013.000\n",
      "2002-01-01 12:00:014.000\n",
      "2002-01-01 12:00:015.000\n",
      "2002-01-01 12:00:016.000\n",
      "2002-01-01 12:00:017.000\n",
      "2002-01-01 12:00:018.000\n",
      "2002-01-01 12:00:019.000\n",
      "2002-01-01 12:00:020.000\n",
      "2002-01-01 12:00:021.000\n",
      "2002-01-01 12:00:022.000\n",
      "2002-01-01 12:00:023.000\n",
      "2002-01-01 12:00:024.000\n",
      "2002-01-01 12:00:025.000\n",
      "2002-01-01 12:00:026.000\n",
      "2002-01-01 12:00:027.000\n",
      "2002-01-01 12:00:028.000\n",
      "2002-01-01 12:00:029.000\n",
      "2002-01-01 12:00:030.000\n",
      "2002-01-01 12:00:031.000\n",
      "2002-01-01 12:00:032.000\n"
     ]
    },
    {
     "data": {
      "text/html": [
       "\n",
       "    \n",
       "    <style type=\"text/css\">\n",
       "        .Relation{\n",
       "            border-collapse:collapse;\n",
       "        }\n",
       "        .Relation th{\n",
       "            background: #A0A0A0; color: #ffffff; padding:4px; border:#f0e0e0 1px solid;\n",
       "            font-weight: normal; font-family: monospace; font-size: 100%;\n",
       "        }\n",
       "        .Relation td{\n",
       "            padding:4px; border:#f0e0e0 1px solid; font-size:100%;\n",
       "        }\n",
       "        .Relation tr:nth-child(odd){\n",
       "            background: #ffffff;\n",
       "        }\n",
       "        .Relation tr:nth-child(even){\n",
       "            background: #f3f1ff;\n",
       "        }\n",
       "        /* Tooltip container */\n",
       "        .djtooltip {\n",
       "        }\n",
       "        /* Tooltip text */\n",
       "        .djtooltip .djtooltiptext {\n",
       "            visibility: hidden;\n",
       "            width: 120px;\n",
       "            background-color: black;\n",
       "            color: #fff;\n",
       "            text-align: center;\n",
       "            padding: 5px 0;\n",
       "            border-radius: 6px;\n",
       "            /* Position the tooltip text - see examples below! */\n",
       "            position: absolute;\n",
       "            z-index: 1;\n",
       "        }\n",
       "        #primary {\n",
       "            font-weight: bold;\n",
       "            color: black;\n",
       "        }\n",
       "        #nonprimary {\n",
       "            font-weight: normal;\n",
       "            color: white;\n",
       "        }\n",
       "\n",
       "        /* Show the tooltip text when you mouse over the tooltip container */\n",
       "        .djtooltip:hover .djtooltiptext {\n",
       "            visibility: visible;\n",
       "        }\n",
       "    </style>\n",
       "    \n",
       "    <b></b>\n",
       "        <div style=\"max-height:1000px;max-width:1500px;overflow:auto;\">\n",
       "        <table border=\"1\" class=\"Relation\">\n",
       "            <thead> <tr style=\"text-align: right;\"> <th> <div class=\"djtooltip\">\n",
       "                            <p id=\"primary\">subject</p>\n",
       "                            <span class=\"djtooltiptext\"></span>\n",
       "                        </div></th><th><div class=\"djtooltip\">\n",
       "                            <p id=\"primary\">session_datetime</p>\n",
       "                            <span class=\"djtooltiptext\"></span>\n",
       "                        </div> </th> </tr> </thead>\n",
       "            <tbody> <tr> <td>jm003</td>\n",
       "<td>2002-01-01 12:00:00</td></tr><tr><td>jm003</td>\n",
       "<td>2002-01-01 12:00:01</td></tr><tr><td>jm003</td>\n",
       "<td>2002-01-01 12:00:02</td></tr><tr><td>jm003</td>\n",
       "<td>2002-01-01 12:00:03</td></tr><tr><td>jm003</td>\n",
       "<td>2002-01-01 12:00:04</td></tr><tr><td>jm004</td>\n",
       "<td>2002-01-01 12:00:05</td></tr><tr><td>jm007</td>\n",
       "<td>2002-01-01 12:00:06</td></tr><tr><td>jm007</td>\n",
       "<td>2002-01-01 12:00:07</td></tr><tr><td>jm007</td>\n",
       "<td>2002-01-01 12:00:08</td></tr><tr><td>jm007</td>\n",
       "<td>2002-01-01 12:00:09</td></tr><tr><td>jm007</td>\n",
       "<td>2002-01-01 12:00:10</td></tr><tr><td>jm007</td>\n",
       "<td>2002-01-01 12:00:11</td> </tr> </tbody>\n",
       "        </table>\n",
       "        <p>...</p>\n",
       "        <p>Total: 33</p></div>\n",
       "        "
      ],
      "text/plain": [
       "*subject    *session_datet\n",
       "+---------+ +------------+\n",
       "jm003       2002-01-01 12:\n",
       "jm003       2002-01-01 12:\n",
       "jm003       2002-01-01 12:\n",
       "jm003       2002-01-01 12:\n",
       "jm003       2002-01-01 12:\n",
       "jm004       2002-01-01 12:\n",
       "jm007       2002-01-01 12:\n",
       "jm007       2002-01-01 12:\n",
       "jm007       2002-01-01 12:\n",
       "jm007       2002-01-01 12:\n",
       "jm007       2002-01-01 12:\n",
       "jm007       2002-01-01 12:\n",
       "   ...\n",
       " (Total: 33)"
      ]
     },
     "execution_count": 19,
     "metadata": {},
     "output_type": "execute_result"
    }
   ],
   "source": [
    "for (i, subject_str) in enumerate(all_subject_str):\n",
    "    for (j, subject_session_str) in enumerate(all_session_str[i]):\n",
    "        \n",
    "        session_datetime_str = all_datetime_str[i][j]\n",
    "        print(session_datetime_str)\n",
    "        session_key = dict(subject=subject_str, session_datetime=session_datetime_str)\n",
    "\n",
    "        session.Session.insert1(session_key)\n",
    "\n",
    "session.Session()"
   ]
  },
  {
   "cell_type": "markdown",
   "metadata": {},
   "source": [
    "## Insert an entry into `session.SessionDirectory`\n",
    "\n",
    "+ The `session_dir` is the relative path to the `imaging_root_data_dir` for the given session, in POSIX format with `/`.\n",
    "\n",
    "+ Instead of a relative path, `session_dir` could be an absolute path but it is not recommended as the absolute path would have to match the `imaging_root_data_dir` in `dj_local_conf.json`."
   ]
  },
  {
   "cell_type": "code",
   "execution_count": 20,
   "metadata": {},
   "outputs": [
    {
     "name": "stdout",
     "output_type": "stream",
     "text": [
      "-> Session\n",
      "---\n",
      "session_dir          : varchar(256)                 # Path to the data directory for a session\n",
      "\n"
     ]
    }
   ],
   "source": [
    "session.SessionDirectory.describe();"
   ]
  },
  {
   "cell_type": "code",
   "execution_count": 21,
   "metadata": {},
   "outputs": [
    {
     "data": {
      "text/plain": [
       "# \n",
       "subject              : varchar(8)                   # \n",
       "session_datetime     : datetime                     # \n",
       "---\n",
       "session_dir          : varchar(256)                 # Path to the data directory for a session"
      ]
     },
     "execution_count": 21,
     "metadata": {},
     "output_type": "execute_result"
    }
   ],
   "source": [
    "session.SessionDirectory.heading"
   ]
  },
  {
   "cell_type": "code",
   "execution_count": 22,
   "metadata": {},
   "outputs": [],
   "source": [
    "import glob\n",
    "def get_TSeries_name(subject_str, subject_session_str):\n",
    "    imaging_root_data_dir = dj.config['custom']['imaging_root_data_dir']\n",
    "    glob_prompt = f'{imaging_root_data_dir}/{subject_str}/{subject_session_str}/TSeries*'\n",
    "    tseries_fullpaths_list = glob.glob(glob_prompt)\n",
    "    \n",
    "    if len(tseries_fullpaths_list) > 1: print('WARNING: more then one TSeries* folder found, only considering the FIRST ONE')\n",
    "    \n",
    "    tseries_name = tseries_fullpaths_list[0].split('/')[-1]\n",
    "    return tseries_name"
   ]
  },
  {
   "cell_type": "code",
   "execution_count": 23,
   "metadata": {},
   "outputs": [
    {
     "name": "stdout",
     "output_type": "stream",
     "text": [
      "WARNING: more then one TSeries* folder found, only considering the FIRST ONE\n"
     ]
    }
   ],
   "source": [
    "for (i, subject_str) in enumerate(all_subject_str):\n",
    "    for (j, subject_session_str) in enumerate(all_session_str[i]):\n",
    "        \n",
    "        if subject_str + '/' + subject_session_str not in skip_ds:\n",
    "\n",
    "            session_datetime_str = all_datetime_str[i][j]\n",
    "            tseries_name = get_TSeries_name(subject_str, subject_session_str)\n",
    "\n",
    "            session_dir = f'{subject_str}/{subject_session_str}/{tseries_name}'\n",
    "\n",
    "            session.SessionDirectory.insert1(dict(subject=subject_str, \n",
    "                                                  session_datetime=session_datetime_str, \n",
    "                                                  session_dir=session_dir))\n",
    "\n",
    "            session.SessionDirectory()"
   ]
  },
  {
   "cell_type": "markdown",
   "metadata": {},
   "source": [
    "## Insert an entry into `scan.Scan`"
   ]
  },
  {
   "cell_type": "code",
   "execution_count": 24,
   "metadata": {},
   "outputs": [
    {
     "data": {
      "text/plain": [
       "subject              : varchar(8)                   # \n",
       "session_datetime     : datetime                     # \n",
       "scan_id              : int                          # \n",
       "---\n",
       "scanner=null         : varchar(32)                  # \n",
       "acq_software         : varchar(24)                  # \n",
       "scan_notes=\"\"        : varchar(4095)                # "
      ]
     },
     "execution_count": 24,
     "metadata": {},
     "output_type": "execute_result"
    }
   ],
   "source": [
    "scan.Scan.heading"
   ]
  },
  {
   "cell_type": "code",
   "execution_count": null,
   "metadata": {},
   "outputs": [],
   "source": []
  },
  {
   "cell_type": "code",
   "execution_count": 25,
   "metadata": {},
   "outputs": [],
   "source": [
    "for (i, subject_str) in enumerate(all_subject_str):\n",
    "    for (j, subject_session_str) in enumerate(all_session_str[i]):\n",
    "        \n",
    "        if subject_str + '/' + subject_session_str not in skip_ds:\n",
    "\n",
    "            session_datetime_str = all_datetime_str[i][j]\n",
    "\n",
    "            scan.Scan.insert1(dict(subject=subject_str, \n",
    "                                   session_datetime=session_datetime_str, \n",
    "                                   scan_id=0, \n",
    "                                   scanner='PrairieView', \n",
    "                                   acq_software='PrairieView',\n",
    "                                   scan_notes=''))\n",
    "            scan.Scan()"
   ]
  },
  {
   "cell_type": "markdown",
   "metadata": {},
   "source": [
    "## Populate `scan.ScanInfo`\n",
    "\n",
    "+ This imported table stores information about the acquired image (e.g. image dimensions, file paths, etc.).\n",
    "+ `populate` automatically calls `make` for every key for which the auto-populated table is missing data.\n",
    "+ `populate_settings` passes arguments to the `populate` method.\n",
    "+ `display_progress=True` reports the progress bar"
   ]
  },
  {
   "cell_type": "code",
   "execution_count": 26,
   "metadata": {},
   "outputs": [
    {
     "name": "stdout",
     "output_type": "stream",
     "text": [
      "# General data about the reso/meso scans from header\n",
      "-> scan.Scan\n",
      "---\n",
      "nfields              : tinyint                      # number of fields\n",
      "nchannels            : tinyint                      # number of channels\n",
      "ndepths              : int                          # Number of scanning depths (planes)\n",
      "nframes              : int                          # number of recorded frames\n",
      "nrois                : tinyint                      # number of ROIs (see scanimage's multi ROI imaging)\n",
      "x=null               : float                        # (um) ScanImage's 0 point in the motor coordinate system\n",
      "y=null               : float                        # (um) ScanImage's 0 point in the motor coordinate system\n",
      "z=null               : float                        # (um) ScanImage's 0 point in the motor coordinate system\n",
      "fps                  : float                        # (Hz) frames per second - Volumetric Scan Rate\n",
      "bidirectional        : tinyint                      # true = bidirectional scanning\n",
      "usecs_per_line=null  : float                        # microseconds per scan line\n",
      "fill_fraction=null   : float                        # raster scan temporal fill fraction (see scanimage)\n",
      "scan_datetime=null   : datetime                     # datetime of the scan\n",
      "scan_duration=null   : float                        # (seconds) duration of the scan\n",
      "bidirectional_z=null : tinyint                      # true = bidirectional z-scan\n",
      "\n"
     ]
    },
    {
     "name": "stderr",
     "output_type": "stream",
     "text": [
      "/home/cossart/anaconda3/envs/dj_cossart/lib/python3.8/inspect.py:350: FutureWarning: pandas.Float64Index is deprecated and will be removed from pandas in a future version. Use pandas.Index with the appropriate dtype instead.\n",
      "  value = getattr(object, key)\n",
      "/home/cossart/anaconda3/envs/dj_cossart/lib/python3.8/inspect.py:350: FutureWarning: pandas.Int64Index is deprecated and will be removed from pandas in a future version. Use pandas.Index with the appropriate dtype instead.\n",
      "  value = getattr(object, key)\n",
      "/home/cossart/anaconda3/envs/dj_cossart/lib/python3.8/inspect.py:350: FutureWarning: pandas.UInt64Index is deprecated and will be removed from pandas in a future version. Use pandas.Index with the appropriate dtype instead.\n",
      "  value = getattr(object, key)\n"
     ]
    }
   ],
   "source": [
    "scan.ScanInfo.describe();"
   ]
  },
  {
   "cell_type": "code",
   "execution_count": 27,
   "metadata": {},
   "outputs": [
    {
     "data": {
      "text/plain": [
       "# General data about the reso/meso scans from header\n",
       "subject              : varchar(8)                   # \n",
       "session_datetime     : datetime                     # \n",
       "scan_id              : int                          # \n",
       "---\n",
       "nfields              : tinyint                      # number of fields\n",
       "nchannels            : tinyint                      # number of channels\n",
       "ndepths              : int                          # Number of scanning depths (planes)\n",
       "nframes              : int                          # number of recorded frames\n",
       "nrois                : tinyint                      # number of ROIs (see scanimage's multi ROI imaging)\n",
       "x=null               : float                        # (um) ScanImage's 0 point in the motor coordinate system\n",
       "y=null               : float                        # (um) ScanImage's 0 point in the motor coordinate system\n",
       "z=null               : float                        # (um) ScanImage's 0 point in the motor coordinate system\n",
       "fps                  : float                        # (Hz) frames per second - Volumetric Scan Rate\n",
       "bidirectional        : tinyint                      # true = bidirectional scanning\n",
       "usecs_per_line=null  : float                        # microseconds per scan line\n",
       "fill_fraction=null   : float                        # raster scan temporal fill fraction (see scanimage)\n",
       "scan_datetime=null   : datetime                     # datetime of the scan\n",
       "scan_duration=null   : float                        # (seconds) duration of the scan\n",
       "bidirectional_z=null : tinyint                      # true = bidirectional z-scan"
      ]
     },
     "execution_count": 27,
     "metadata": {},
     "output_type": "execute_result"
    }
   ],
   "source": [
    "scan.ScanInfo.heading"
   ]
  },
  {
   "cell_type": "code",
   "execution_count": 28,
   "metadata": {},
   "outputs": [
    {
     "name": "stderr",
     "output_type": "stream",
     "text": [
      "ScanInfo:   0%|          | 0/32 [00:00<?, ?it/s]"
     ]
    },
    {
     "name": "stdout",
     "output_type": "stream",
     "text": [
      "\n",
      "\n",
      "\n",
      "Scan_filepaths:\n",
      "/media/cossart/DATA/dj_cossart/data/jm003/2022-05-03_b/TSeries-05032022-002/TSeries-05032022-002_Cycle00001_Ch1_014638.ome.tif\n",
      "\n",
      "\n",
      "\n",
      "\n",
      "\n",
      "\n",
      "IMPORTANT: JM: I also changed default number of roi from 1 to 0, because 1 throws an error with auto-populating suite2p\n",
      "\n",
      "\n",
      "\n",
      "{'num_fields': 1, 'num_channels': 2, 'num_planes': 1, 'num_frames': 18000, 'num_rois': 0, 'x_pos': None, 'y_pos': None, 'z_pos': None, 'frame_rate': 30.234904649390604, 'bidirectional': False, 'bidirectional_z': False, 'scan_datetime': datetime.datetime(2022, 5, 3, 8, 48, 15), 'usecs_per_line': 63.11900000000001, 'scan_duration': 604.810767535, 'height_in_pixels': 512, 'width_in_pixels': 512, 'height_in_um': 752.5374145480857, 'width_in_um': 752.5374145480857, 'fieldX': -0.02658756, 'fieldY': -0.0752376, 'fieldZ': 99.925, 'recording_time': '08:48:17.0646299'}\n"
     ]
    },
    {
     "name": "stderr",
     "output_type": "stream",
     "text": [
      "ScanInfo:   3%|▎         | 1/32 [00:02<01:11,  2.32s/it]"
     ]
    },
    {
     "name": "stdout",
     "output_type": "stream",
     "text": [
      "\n",
      "\n",
      "\n",
      "Scan_filepaths:\n",
      "/media/cossart/DATA/dj_cossart/data/jm003/2022-05-04_a/TSeries-05042022-001/TSeries-05042022-001_Cycle00001_Ch2_000001.ome.tif\n",
      "\n",
      "\n",
      "\n",
      "\n",
      "\n",
      "\n",
      "IMPORTANT: JM: I also changed default number of roi from 1 to 0, because 1 throws an error with auto-populating suite2p\n",
      "\n",
      "\n",
      "\n",
      "{'num_fields': 1, 'num_channels': 1, 'num_planes': 1, 'num_frames': 18000, 'num_rois': 0, 'x_pos': None, 'y_pos': None, 'z_pos': None, 'frame_rate': 30.354921581550908, 'bidirectional': False, 'bidirectional_z': False, 'scan_datetime': datetime.datetime(2022, 5, 4, 14, 39, 18), 'usecs_per_line': 63.11, 'scan_duration': 602.502629772, 'height_in_pixels': 512, 'width_in_pixels': 512, 'height_in_um': 537.5267246772071, 'width_in_um': 537.5267246772071, 'fieldX': 0.0, 'fieldY': 0.0, 'fieldZ': 123.25, 'recording_time': '14:39:19.6892082'}\n"
     ]
    },
    {
     "name": "stderr",
     "output_type": "stream",
     "text": [
      "ScanInfo:   6%|▋         | 2/32 [00:03<00:51,  1.70s/it]"
     ]
    },
    {
     "name": "stdout",
     "output_type": "stream",
     "text": [
      "\n",
      "\n",
      "\n",
      "Scan_filepaths:\n",
      "/media/cossart/DATA/dj_cossart/data/jm003/2022-05-04_b/TSeries-05042022-002/TSeries-05042022-002_Cycle00001_Ch2_000001.ome.tif\n",
      "\n",
      "\n",
      "\n",
      "\n",
      "\n",
      "\n",
      "IMPORTANT: JM: I also changed default number of roi from 1 to 0, because 1 throws an error with auto-populating suite2p\n",
      "\n",
      "\n",
      "\n",
      "z_fields.size: 3\n",
      "n_depths: 3\n",
      "z_step: 50.0\n",
      "\n",
      "\n",
      "\n",
      "IMPORTANT: here I (JM) hardcoded the subindex because of the issue of two z devices (see: https://github.com/datajoint/element-interface/issues/77)\n",
      "\n",
      "\n",
      "\n",
      "\n",
      "\n",
      "\n",
      "IMPORTANT: another issue can occur here, sometimes Prairie view writes the z position of planes wrongly (even though the z changes, it logs the same depth for the two planes)\n",
      "\n",
      "\n",
      "\n",
      "{'num_fields': 1, 'num_channels': 1, 'num_planes': 3, 'num_frames': 25200, 'num_rois': 0, 'x_pos': None, 'y_pos': None, 'z_pos': None, 'frame_rate': 30.353151634511146, 'bidirectional': False, 'bidirectional_z': True, 'scan_datetime': datetime.datetime(2022, 5, 4, 15, 12, 4), 'usecs_per_line': 63.114000000000004, 'scan_duration': 1221.502071372, 'height_in_pixels': 512, 'width_in_pixels': 512, 'height_in_um': 537.5267246772071, 'width_in_um': 537.5267246772071, 'fieldX': 0.0, 'fieldY': 0.0, 'fieldZ': array([3.26849658e-11, 5.00000000e+01, 1.00000000e+02]), 'recording_time': '15:12:04.9930289'}\n"
     ]
    },
    {
     "name": "stderr",
     "output_type": "stream",
     "text": [
      "ScanInfo:   9%|▉         | 3/32 [00:07<01:14,  2.56s/it]"
     ]
    },
    {
     "name": "stdout",
     "output_type": "stream",
     "text": [
      "\n",
      "\n",
      "\n",
      "Scan_filepaths:\n",
      "/media/cossart/DATA/dj_cossart/data/jm003/2022-05-05_b/TSeries-05052022-002/TSeries-05052022-002_Cycle00001_Ch2_000001.ome.tif\n",
      "\n",
      "\n",
      "\n",
      "\n",
      "\n",
      "\n",
      "IMPORTANT: JM: I also changed default number of roi from 1 to 0, because 1 throws an error with auto-populating suite2p\n",
      "\n",
      "\n",
      "\n",
      "{'num_fields': 1, 'num_channels': 1, 'num_planes': 1, 'num_frames': 18000, 'num_rois': 0, 'x_pos': None, 'y_pos': None, 'z_pos': None, 'frame_rate': 30.23921639304208, 'bidirectional': False, 'bidirectional_z': False, 'scan_datetime': datetime.datetime(2022, 5, 5, 11, 14, 1), 'usecs_per_line': 63.11, 'scan_duration': 604.81085753, 'height_in_pixels': 512, 'width_in_pixels': 512, 'height_in_um': 752.5374145480857, 'width_in_um': 752.5374145480857, 'fieldX': 0.0, 'fieldY': 0.0, 'fieldZ': 136.225, 'recording_time': '11:14:02.8708799'}\n"
     ]
    },
    {
     "name": "stderr",
     "output_type": "stream",
     "text": [
      "ScanInfo:  12%|█▎        | 4/32 [00:08<00:56,  2.03s/it]"
     ]
    },
    {
     "name": "stdout",
     "output_type": "stream",
     "text": [
      "\n",
      "\n",
      "\n",
      "Scan_filepaths:\n",
      "/media/cossart/DATA/dj_cossart/data/jm003/2022-05-05_c/TSeries-05052022-003/TSeries-05052022-003_Cycle00001_Ch2_000001.ome.tif\n",
      "\n",
      "\n",
      "\n",
      "\n",
      "\n",
      "\n",
      "IMPORTANT: JM: I also changed default number of roi from 1 to 0, because 1 throws an error with auto-populating suite2p\n",
      "\n",
      "\n",
      "\n",
      "z_fields.size: 3\n",
      "n_depths: 3\n",
      "z_step: 25.0\n",
      "\n",
      "\n",
      "\n",
      "IMPORTANT: here I (JM) hardcoded the subindex because of the issue of two z devices (see: https://github.com/datajoint/element-interface/issues/77)\n",
      "\n",
      "\n",
      "\n",
      "\n",
      "\n",
      "\n",
      "IMPORTANT: another issue can occur here, sometimes Prairie view writes the z position of planes wrongly (even though the z changes, it logs the same depth for the two planes)\n",
      "\n",
      "\n",
      "\n",
      "{'num_fields': 1, 'num_channels': 1, 'num_planes': 3, 'num_frames': 25200, 'num_rois': 0, 'x_pos': None, 'y_pos': None, 'z_pos': None, 'frame_rate': 30.234307721579153, 'bidirectional': False, 'bidirectional_z': True, 'scan_datetime': datetime.datetime(2022, 5, 5, 11, 37, 55), 'usecs_per_line': 63.120000000000005, 'scan_duration': 1224.733540734, 'height_in_pixels': 512, 'width_in_pixels': 512, 'height_in_um': 752.5374145480857, 'width_in_um': 752.5374145480857, 'fieldX': 0.0, 'fieldY': 0.0, 'fieldZ': array([3.26849658e-11, 2.50000000e+01, 5.00000000e+01]), 'recording_time': '11:37:55.5990184'}\n"
     ]
    },
    {
     "name": "stderr",
     "output_type": "stream",
     "text": [
      "ScanInfo:  16%|█▌        | 5/32 [00:11<01:05,  2.41s/it]"
     ]
    },
    {
     "name": "stdout",
     "output_type": "stream",
     "text": [
      "\n",
      "\n",
      "\n",
      "Scan_filepaths:\n",
      "/media/cossart/DATA/dj_cossart/data/jm004/2022-05-06_a/TSeries-05062022-001/TSeries-05062022-001_Cycle00001_Ch2_014638.ome.tif\n",
      "\n",
      "\n",
      "\n",
      "\n",
      "\n",
      "\n",
      "IMPORTANT: JM: I also changed default number of roi from 1 to 0, because 1 throws an error with auto-populating suite2p\n",
      "\n",
      "\n",
      "\n",
      "{'num_fields': 1, 'num_channels': 1, 'num_planes': 1, 'num_frames': 36000, 'num_rois': 0, 'x_pos': None, 'y_pos': None, 'z_pos': None, 'frame_rate': 30.241813541074432, 'bidirectional': False, 'bidirectional_z': False, 'scan_datetime': datetime.datetime(2022, 5, 6, 15, 3, 29), 'usecs_per_line': 63.105, 'scan_duration': 1209.655137535, 'height_in_pixels': 512, 'width_in_pixels': 512, 'height_in_um': 752.5374145480857, 'width_in_um': 752.5374145480857, 'fieldX': 0.0, 'fieldY': 0.0, 'fieldZ': 134.0, 'recording_time': '15:03:31.3202656'}\n"
     ]
    },
    {
     "name": "stderr",
     "output_type": "stream",
     "text": [
      "ScanInfo:  19%|█▉        | 6/32 [00:14<01:03,  2.46s/it]"
     ]
    },
    {
     "name": "stdout",
     "output_type": "stream",
     "text": [
      "\n",
      "\n",
      "\n",
      "Scan_filepaths:\n",
      "/media/cossart/DATA/dj_cossart/data/jm007/2022-06-13_b/TSeries-05182022-1006-002/TSeries-05182022-1006-002_Cycle00001_Ch1_014638.ome.tif\n",
      "\n",
      "\n",
      "\n",
      "\n",
      "\n",
      "\n",
      "IMPORTANT: JM: I also changed default number of roi from 1 to 0, because 1 throws an error with auto-populating suite2p\n",
      "\n",
      "\n",
      "\n",
      "{'num_fields': 1, 'num_channels': 2, 'num_planes': 1, 'num_frames': 36000, 'num_rois': 0, 'x_pos': None, 'y_pos': None, 'z_pos': None, 'frame_rate': 30.22685953297265, 'bidirectional': False, 'bidirectional_z': False, 'scan_datetime': datetime.datetime(2022, 6, 13, 15, 13, 56), 'usecs_per_line': 63.136, 'scan_duration': 1209.655137535, 'height_in_pixels': 512, 'width_in_pixels': 512, 'height_in_um': 752.5374145480857, 'width_in_um': 752.5374145480857, 'fieldX': 0.0, 'fieldY': 0.0, 'fieldZ': 100.025, 'recording_time': '15:13:57.6996280'}\n"
     ]
    },
    {
     "name": "stderr",
     "output_type": "stream",
     "text": [
      "ScanInfo:  22%|██▏       | 7/32 [00:18<01:17,  3.09s/it]"
     ]
    },
    {
     "name": "stdout",
     "output_type": "stream",
     "text": [
      "\n",
      "\n",
      "\n",
      "Scan_filepaths:\n",
      "/media/cossart/DATA/dj_cossart/data/jm007/2022-06-14_a/TSeries-05182022-1006-001/TSeries-05182022-1006-001_Cycle00001_Ch1_000001.ome.tif\n",
      "\n",
      "\n",
      "\n",
      "\n",
      "\n",
      "\n",
      "IMPORTANT: JM: I also changed default number of roi from 1 to 0, because 1 throws an error with auto-populating suite2p\n",
      "\n",
      "\n",
      "\n",
      "z_fields.size: 3\n",
      "n_depths: 2\n",
      "z_step: 50.0\n",
      "\n",
      "\n",
      "\n",
      "IMPORTANT: here I (JM) hardcoded the subindex because of the issue of two z devices (see: https://github.com/datajoint/element-interface/issues/77)\n",
      "\n",
      "\n",
      "\n",
      "\n",
      "\n",
      "\n",
      "IMPORTANT: another issue can occur here, sometimes Prairie view writes the z position of planes wrongly (even though the z changes, it logs the same depth for the two planes)\n",
      "\n",
      "\n",
      "\n",
      "Error occured in asserting \"z_fields.size == n_depths\", moving to next dataset (this is probably because of a Prairie view bug, sometimes it writes the z position of planes wrongly (even though the z changes, it logs the same depth for the two planes))\n",
      "Overwriting n_depths to be equal to z_fields.size...\n",
      "{'num_fields': 1, 'num_channels': 2, 'num_planes': 3, 'num_frames': 24000, 'num_rois': 0, 'x_pos': None, 'y_pos': None, 'z_pos': None, 'frame_rate': 30.228199936085492, 'bidirectional': False, 'bidirectional_z': True, 'scan_datetime': datetime.datetime(2022, 6, 14, 15, 16, 10), 'usecs_per_line': 63.132999999999996, 'scan_duration': 1166.410533536, 'height_in_pixels': 512, 'width_in_pixels': 512, 'height_in_um': 752.5374145480857, 'width_in_um': 752.5374145480857, 'fieldX': 0.0, 'fieldY': 0.0, 'fieldZ': array([ 26.2,  76.2, 126.2]), 'recording_time': '15:16:10.9412114'}\n"
     ]
    },
    {
     "name": "stderr",
     "output_type": "stream",
     "text": [
      "ScanInfo:  25%|██▌       | 8/32 [00:22<01:24,  3.51s/it]"
     ]
    },
    {
     "name": "stdout",
     "output_type": "stream",
     "text": [
      "\n",
      "\n",
      "\n",
      "Scan_filepaths:\n",
      "/media/cossart/DATA/dj_cossart/data/jm007/2022-06-14_b/TSeries-05182022-1006-002/TSeries-05182022-1006-002_Cycle00001_Ch1_000001.ome.tif\n",
      "\n",
      "\n",
      "\n",
      "\n",
      "\n",
      "\n",
      "IMPORTANT: JM: I also changed default number of roi from 1 to 0, because 1 throws an error with auto-populating suite2p\n",
      "\n",
      "\n",
      "\n",
      "{'num_fields': 1, 'num_channels': 2, 'num_planes': 1, 'num_frames': 36000, 'num_rois': 0, 'x_pos': None, 'y_pos': None, 'z_pos': None, 'frame_rate': 30.240174725310347, 'bidirectional': False, 'bidirectional_z': False, 'scan_datetime': datetime.datetime(2022, 6, 14, 15, 50, 20), 'usecs_per_line': 63.108000000000004, 'scan_duration': 1209.655065537, 'height_in_pixels': 512, 'width_in_pixels': 512, 'height_in_um': 752.5374145480857, 'width_in_um': 752.5374145480857, 'fieldX': 0.0, 'fieldY': 0.0, 'fieldZ': -242.525, 'recording_time': '15:50:22.3029695'}\n"
     ]
    },
    {
     "name": "stderr",
     "output_type": "stream",
     "text": [
      "ScanInfo:  28%|██▊       | 9/32 [00:27<01:26,  3.77s/it]"
     ]
    },
    {
     "name": "stdout",
     "output_type": "stream",
     "text": [
      "\n",
      "\n",
      "\n",
      "Scan_filepaths:\n",
      "/media/cossart/DATA/dj_cossart/data/jm007/2022-06-15_a/TSeries-05182022-1006-002/TSeries-05182022-1006-002_Cycle00001_Ch1_000001.ome.tif\n",
      "\n",
      "\n",
      "\n",
      "\n",
      "\n",
      "\n",
      "IMPORTANT: JM: I also changed default number of roi from 1 to 0, because 1 throws an error with auto-populating suite2p\n",
      "\n",
      "\n",
      "\n",
      "z_fields.size: 2\n",
      "n_depths: 2\n",
      "z_step: 100.0\n",
      "\n",
      "\n",
      "\n",
      "IMPORTANT: here I (JM) hardcoded the subindex because of the issue of two z devices (see: https://github.com/datajoint/element-interface/issues/77)\n",
      "\n",
      "\n",
      "\n",
      "\n",
      "\n",
      "\n",
      "IMPORTANT: another issue can occur here, sometimes Prairie view writes the z position of planes wrongly (even though the z changes, it logs the same depth for the two planes)\n",
      "\n",
      "\n",
      "\n",
      "{'num_fields': 1, 'num_channels': 2, 'num_planes': 2, 'num_frames': 24000, 'num_rois': 0, 'x_pos': None, 'y_pos': None, 'z_pos': None, 'frame_rate': 30.22724236263381, 'bidirectional': False, 'bidirectional_z': True, 'scan_datetime': datetime.datetime(2022, 6, 15, 14, 21, 10), 'usecs_per_line': 63.135, 'scan_duration': 1166.410605533, 'height_in_pixels': 512, 'width_in_pixels': 512, 'height_in_um': 752.5374145480857, 'width_in_um': 752.5374145480857, 'fieldX': 0.0, 'fieldY': 0.0, 'fieldZ': array([  0., 100.]), 'recording_time': '14:21:10.0364817'}\n"
     ]
    },
    {
     "name": "stderr",
     "output_type": "stream",
     "text": [
      "ScanInfo:  31%|███▏      | 10/32 [00:31<01:26,  3.92s/it]"
     ]
    },
    {
     "name": "stdout",
     "output_type": "stream",
     "text": [
      "\n",
      "\n",
      "\n",
      "Scan_filepaths:\n",
      "/media/cossart/DATA/dj_cossart/data/jm007/2022-06-15_b/TSeries-05182022-1006-003/TSeries-05182022-1006-003_Cycle00001_Ch1_000001.ome.tif\n",
      "\n",
      "\n",
      "\n",
      "\n",
      "\n",
      "\n",
      "IMPORTANT: JM: I also changed default number of roi from 1 to 0, because 1 throws an error with auto-populating suite2p\n",
      "\n",
      "\n",
      "\n",
      "{'num_fields': 1, 'num_channels': 2, 'num_planes': 1, 'num_frames': 36000, 'num_rois': 0, 'x_pos': None, 'y_pos': None, 'z_pos': None, 'frame_rate': 30.233467674739167, 'bidirectional': False, 'bidirectional_z': False, 'scan_datetime': datetime.datetime(2022, 6, 15, 14, 49, 8), 'usecs_per_line': 63.122, 'scan_duration': 1209.655137535, 'height_in_pixels': 512, 'width_in_pixels': 512, 'height_in_um': 752.5374145480857, 'width_in_um': 752.5374145480857, 'fieldX': 0.0, 'fieldY': 0.0, 'fieldZ': 0.025, 'recording_time': '14:49:09.6555186'}\n"
     ]
    },
    {
     "name": "stderr",
     "output_type": "stream",
     "text": [
      "ScanInfo:  34%|███▍      | 11/32 [00:35<01:25,  4.08s/it]"
     ]
    },
    {
     "name": "stdout",
     "output_type": "stream",
     "text": [
      "\n",
      "\n",
      "\n",
      "Scan_filepaths:\n",
      "/media/cossart/DATA/dj_cossart/data/jm008/2022-06-14_a/TSeries-05182022-1006-002/TSeries-05182022-1006-002_Cycle00001_Ch1_000001.ome.tif\n",
      "\n",
      "\n",
      "\n",
      "\n",
      "\n",
      "\n",
      "IMPORTANT: JM: I also changed default number of roi from 1 to 0, because 1 throws an error with auto-populating suite2p\n",
      "\n",
      "\n",
      "\n",
      "z_fields.size: 2\n",
      "n_depths: 2\n",
      "z_step: 20.0\n",
      "\n",
      "\n",
      "\n",
      "IMPORTANT: here I (JM) hardcoded the subindex because of the issue of two z devices (see: https://github.com/datajoint/element-interface/issues/77)\n",
      "\n",
      "\n",
      "\n",
      "\n",
      "\n",
      "\n",
      "IMPORTANT: another issue can occur here, sometimes Prairie view writes the z position of planes wrongly (even though the z changes, it logs the same depth for the two planes)\n",
      "\n",
      "\n",
      "\n",
      "{'num_fields': 1, 'num_channels': 2, 'num_planes': 2, 'num_frames': 24000, 'num_rois': 0, 'x_pos': None, 'y_pos': None, 'z_pos': None, 'frame_rate': 30.34786237244414, 'bidirectional': False, 'bidirectional_z': True, 'scan_datetime': datetime.datetime(2022, 6, 14, 16, 58, 20), 'usecs_per_line': 63.125, 'scan_duration': 1163.332997772, 'height_in_pixels': 512, 'width_in_pixels': 512, 'height_in_um': 627.1145121234074, 'width_in_um': 627.1145121234074, 'fieldX': 0.0, 'fieldY': 0.0, 'fieldZ': array([-19.6,   0.4]), 'recording_time': '16:58:20.1828668'}\n"
     ]
    },
    {
     "name": "stderr",
     "output_type": "stream",
     "text": [
      "ScanInfo:  38%|███▊      | 12/32 [00:39<01:21,  4.08s/it]"
     ]
    },
    {
     "name": "stdout",
     "output_type": "stream",
     "text": [
      "\n",
      "\n",
      "\n",
      "Scan_filepaths:\n",
      "/media/cossart/DATA/dj_cossart/data/jm008/2022-06-14_b/TSeries-05182022-1006-003/TSeries-05182022-1006-003_Cycle00001_Ch1_000001.ome.tif\n",
      "\n",
      "\n",
      "\n",
      "\n",
      "\n",
      "\n",
      "IMPORTANT: JM: I also changed default number of roi from 1 to 0, because 1 throws an error with auto-populating suite2p\n",
      "\n",
      "\n",
      "\n",
      "{'num_fields': 1, 'num_channels': 2, 'num_planes': 1, 'num_frames': 36000, 'num_rois': 0, 'x_pos': None, 'y_pos': None, 'z_pos': None, 'frame_rate': 30.345939461428763, 'bidirectional': False, 'bidirectional_z': False, 'scan_datetime': datetime.datetime(2022, 6, 14, 17, 28, 22), 'usecs_per_line': 63.129, 'scan_duration': 1205.038553777, 'height_in_pixels': 512, 'width_in_pixels': 512, 'height_in_um': 627.1145121234074, 'width_in_um': 627.1145121234074, 'fieldX': 0.0, 'fieldY': 0.0, 'fieldZ': 85.375, 'recording_time': '17:28:24.0208474'}\n"
     ]
    },
    {
     "name": "stderr",
     "output_type": "stream",
     "text": [
      "ScanInfo:  41%|████      | 13/32 [00:44<01:19,  4.18s/it]"
     ]
    },
    {
     "name": "stdout",
     "output_type": "stream",
     "text": [
      "\n",
      "\n",
      "\n",
      "Scan_filepaths:\n",
      "/media/cossart/DATA/dj_cossart/data/jm008/2022-06-15_a/TSeries-05182022-1006-004/TSeries-05182022-1006-004_Cycle00001_Ch1_000001.ome.tif\n",
      "\n",
      "\n",
      "\n",
      "\n",
      "\n",
      "\n",
      "IMPORTANT: JM: I also changed default number of roi from 1 to 0, because 1 throws an error with auto-populating suite2p\n",
      "\n",
      "\n",
      "\n",
      "{'num_fields': 1, 'num_channels': 2, 'num_planes': 1, 'num_frames': 36000, 'num_rois': 0, 'x_pos': None, 'y_pos': None, 'z_pos': None, 'frame_rate': 30.224848694407434, 'bidirectional': False, 'bidirectional_z': False, 'scan_datetime': datetime.datetime(2022, 6, 15, 16, 4, 28), 'usecs_per_line': 63.13999999999999, 'scan_duration': 1209.655137535, 'height_in_pixels': 512, 'width_in_pixels': 512, 'height_in_um': 752.5374145480857, 'width_in_um': 752.5374145480857, 'fieldX': 0.0, 'fieldY': 0.0, 'fieldZ': 86.325, 'recording_time': '16:04:30.2298070'}\n"
     ]
    },
    {
     "name": "stderr",
     "output_type": "stream",
     "text": [
      "ScanInfo:  44%|████▍     | 14/32 [00:48<01:15,  4.20s/it]"
     ]
    },
    {
     "name": "stdout",
     "output_type": "stream",
     "text": [
      "\n",
      "\n",
      "\n",
      "Scan_filepaths:\n",
      "/media/cossart/DATA/dj_cossart/data/jm008/2022-06-15_b/TSeries-05182022-1006-002/TSeries-05182022-1006-002_Cycle00001_Ch1_000001.ome.tif\n",
      "\n",
      "\n",
      "\n",
      "\n",
      "\n",
      "\n",
      "IMPORTANT: JM: I also changed default number of roi from 1 to 0, because 1 throws an error with auto-populating suite2p\n",
      "\n",
      "\n",
      "\n",
      "z_fields.size: 2\n",
      "n_depths: 2\n",
      "z_step: 20.0\n",
      "\n",
      "\n",
      "\n",
      "IMPORTANT: here I (JM) hardcoded the subindex because of the issue of two z devices (see: https://github.com/datajoint/element-interface/issues/77)\n",
      "\n",
      "\n",
      "\n",
      "\n",
      "\n",
      "\n",
      "IMPORTANT: another issue can occur here, sometimes Prairie view writes the z position of planes wrongly (even though the z changes, it logs the same depth for the two planes)\n",
      "\n",
      "\n",
      "\n",
      "{'num_fields': 1, 'num_channels': 2, 'num_planes': 2, 'num_frames': 24000, 'num_rois': 0, 'x_pos': None, 'y_pos': None, 'z_pos': None, 'frame_rate': 30.226628377991968, 'bidirectional': False, 'bidirectional_z': True, 'scan_datetime': datetime.datetime(2022, 6, 15, 16, 49, 48), 'usecs_per_line': 63.136, 'scan_duration': 1166.410581534, 'height_in_pixels': 512, 'width_in_pixels': 512, 'height_in_um': 752.5374145480857, 'width_in_um': 752.5374145480857, 'fieldX': 0.0, 'fieldY': 0.0, 'fieldZ': array([-20.,   0.]), 'recording_time': '16:49:48.4607566'}\n"
     ]
    },
    {
     "name": "stderr",
     "output_type": "stream",
     "text": [
      "ScanInfo:  47%|████▋     | 15/32 [00:52<01:10,  4.17s/it]"
     ]
    },
    {
     "name": "stdout",
     "output_type": "stream",
     "text": [
      "\n",
      "\n",
      "\n",
      "Scan_filepaths:\n",
      "/media/cossart/DATA/dj_cossart/data/jm008/2022-06-16_a/TSeries-05182022-1006-004/TSeries-05182022-1006-004_Cycle00001_Ch1_000001.ome.tif\n",
      "\n",
      "\n",
      "\n",
      "\n",
      "\n",
      "\n",
      "IMPORTANT: JM: I also changed default number of roi from 1 to 0, because 1 throws an error with auto-populating suite2p\n",
      "\n",
      "\n",
      "\n",
      "{'num_fields': 1, 'num_channels': 2, 'num_planes': 1, 'num_frames': 36000, 'num_rois': 0, 'x_pos': None, 'y_pos': None, 'z_pos': None, 'frame_rate': 30.225094439063206, 'bidirectional': False, 'bidirectional_z': False, 'scan_datetime': datetime.datetime(2022, 6, 16, 15, 40, 39), 'usecs_per_line': 63.13900000000001, 'scan_duration': 1209.655137535, 'height_in_pixels': 512, 'width_in_pixels': 512, 'height_in_um': 752.5374145480857, 'width_in_um': 752.5374145480857, 'fieldX': 0.0, 'fieldY': 0.0, 'fieldZ': -71.275, 'recording_time': '15:40:41.3856819'}\n"
     ]
    },
    {
     "name": "stderr",
     "output_type": "stream",
     "text": [
      "ScanInfo:  50%|█████     | 16/32 [00:57<01:08,  4.25s/it]"
     ]
    },
    {
     "name": "stdout",
     "output_type": "stream",
     "text": [
      "\n",
      "\n",
      "\n",
      "Scan_filepaths:\n",
      "/media/cossart/DATA/dj_cossart/data/jm008/2022-06-16_b/TSeries-05182022-1006-002/TSeries-05182022-1006-002_Cycle00001_Ch1_000001.ome.tif\n",
      "\n",
      "\n",
      "\n",
      "\n",
      "\n",
      "\n",
      "IMPORTANT: JM: I also changed default number of roi from 1 to 0, because 1 throws an error with auto-populating suite2p\n",
      "\n",
      "\n",
      "\n",
      "z_fields.size: 2\n",
      "n_depths: 2\n",
      "z_step: 19.6\n",
      "\n",
      "\n",
      "\n",
      "IMPORTANT: here I (JM) hardcoded the subindex because of the issue of two z devices (see: https://github.com/datajoint/element-interface/issues/77)\n",
      "\n",
      "\n",
      "\n",
      "\n",
      "\n",
      "\n",
      "IMPORTANT: another issue can occur here, sometimes Prairie view writes the z position of planes wrongly (even though the z changes, it logs the same depth for the two planes)\n",
      "\n",
      "\n",
      "\n",
      "{'num_fields': 1, 'num_channels': 2, 'num_planes': 2, 'num_frames': 24000, 'num_rois': 0, 'x_pos': None, 'y_pos': None, 'z_pos': None, 'frame_rate': 30.226245563882852, 'bidirectional': False, 'bidirectional_z': True, 'scan_datetime': datetime.datetime(2022, 6, 16, 16, 24, 49), 'usecs_per_line': 63.137, 'scan_duration': 1166.410605533, 'height_in_pixels': 512, 'width_in_pixels': 512, 'height_in_um': 752.5374145480857, 'width_in_um': 752.5374145480857, 'fieldX': 0.0, 'fieldY': 0.0, 'fieldZ': array([3.26849658e-11, 1.96000000e+01]), 'recording_time': '16:24:49.6835636'}\n"
     ]
    },
    {
     "name": "stderr",
     "output_type": "stream",
     "text": [
      "ScanInfo:  53%|█████▎    | 17/32 [01:01<01:03,  4.21s/it]"
     ]
    },
    {
     "name": "stdout",
     "output_type": "stream",
     "text": [
      "\n",
      "\n",
      "\n",
      "Scan_filepaths:\n",
      "/media/cossart/DATA/dj_cossart/data/jm008/2022-06-17_a/TSeries-05182022-1006-002/TSeries-05182022-1006-002_Cycle00001_Ch1_000001.ome.tif\n",
      "\n",
      "\n",
      "\n",
      "\n",
      "\n",
      "\n",
      "IMPORTANT: JM: I also changed default number of roi from 1 to 0, because 1 throws an error with auto-populating suite2p\n",
      "\n",
      "\n",
      "\n",
      "{'num_fields': 1, 'num_channels': 2, 'num_planes': 1, 'num_frames': 36000, 'num_rois': 0, 'x_pos': None, 'y_pos': None, 'z_pos': None, 'frame_rate': 30.24592599475221, 'bidirectional': False, 'bidirectional_z': False, 'scan_datetime': datetime.datetime(2022, 6, 17, 11, 34), 'usecs_per_line': 63.096, 'scan_duration': 1209.655101536, 'height_in_pixels': 512, 'width_in_pixels': 512, 'height_in_um': 752.5374145480857, 'width_in_um': 752.5374145480857, 'fieldX': 0.0, 'fieldY': 0.0, 'fieldZ': -244.575, 'recording_time': '11:34:01.4051312'}\n"
     ]
    },
    {
     "name": "stderr",
     "output_type": "stream",
     "text": [
      "ScanInfo:  56%|█████▋    | 18/32 [01:05<00:59,  4.26s/it]"
     ]
    },
    {
     "name": "stdout",
     "output_type": "stream",
     "text": [
      "\n",
      "\n",
      "\n",
      "Scan_filepaths:\n",
      "/media/cossart/DATA/dj_cossart/data/jm008/2022-06-17_b/TSeries-05182022-1006-002/TSeries-05182022-1006-002_Cycle00001_Ch1_000001.ome.tif\n",
      "\n",
      "\n",
      "\n",
      "\n",
      "\n",
      "\n",
      "IMPORTANT: JM: I also changed default number of roi from 1 to 0, because 1 throws an error with auto-populating suite2p\n",
      "\n",
      "\n",
      "\n",
      "z_fields.size: 0\n",
      "n_depths: 2\n",
      "z_step: 19.4\n",
      "\n",
      "\n",
      "\n",
      "IMPORTANT: here I (JM) hardcoded the subindex because of the issue of two z devices (see: https://github.com/datajoint/element-interface/issues/77)\n",
      "\n",
      "\n",
      "\n",
      "\n",
      "\n",
      "\n",
      "IMPORTANT: another issue can occur here, sometimes Prairie view writes the z position of planes wrongly (even though the z changes, it logs the same depth for the two planes)\n",
      "\n",
      "\n",
      "\n",
      "Error occured in asserting \"z_fields.size == n_depths\", moving to next dataset (this is probably because of a Prairie view bug, sometimes it writes the z position of planes wrongly (even though the z changes, it logs the same depth for the two planes))\n",
      "Overwriting n_depths to be equal to z_fields.size...\n",
      "{'num_fields': 1, 'num_channels': 2, 'num_planes': 0, 'num_frames': 24000, 'num_rois': 0, 'x_pos': None, 'y_pos': None, 'z_pos': None, 'frame_rate': 30.234904649390604, 'bidirectional': False, 'bidirectional_z': True, 'scan_datetime': datetime.datetime(2022, 6, 17, 12, 7, 59), 'usecs_per_line': 63.11900000000001, 'scan_duration': 1166.410533536, 'height_in_pixels': 512, 'width_in_pixels': 512, 'height_in_um': 752.5374145480857, 'width_in_um': 752.5374145480857, 'fieldX': 0.0, 'fieldY': 0.0, 'fieldZ': array([], dtype=float64), 'recording_time': '12:07:59.4158998'}\n"
     ]
    },
    {
     "name": "stderr",
     "output_type": "stream",
     "text": [
      "ScanInfo:  59%|█████▉    | 19/32 [01:09<00:55,  4.23s/it]"
     ]
    },
    {
     "name": "stdout",
     "output_type": "stream",
     "text": [
      "\n",
      "\n",
      "\n",
      "Scan_filepaths:\n",
      "/media/cossart/DATA/dj_cossart/data/jm010/2022-06-15_a/TSeries-05182022-1006-003/TSeries-05182022-1006-003_Cycle00001_Ch1_000001.ome.tif\n",
      "\n",
      "\n",
      "\n",
      "\n",
      "\n",
      "\n",
      "IMPORTANT: JM: I also changed default number of roi from 1 to 0, because 1 throws an error with auto-populating suite2p\n",
      "\n",
      "\n",
      "\n",
      "{'num_fields': 1, 'num_channels': 2, 'num_planes': 1, 'num_frames': 36000, 'num_rois': 0, 'x_pos': None, 'y_pos': None, 'z_pos': None, 'frame_rate': 30.225621570260937, 'bidirectional': False, 'bidirectional_z': False, 'scan_datetime': datetime.datetime(2022, 6, 15, 17, 39, 40), 'usecs_per_line': 63.138000000000005, 'scan_duration': 1209.655101536, 'height_in_pixels': 512, 'width_in_pixels': 512, 'height_in_um': 752.5374145480857, 'width_in_um': 752.5374145480857, 'fieldX': 0.0, 'fieldY': 0.0, 'fieldZ': 138.525, 'recording_time': '17:39:42.4162888'}\n"
     ]
    },
    {
     "name": "stderr",
     "output_type": "stream",
     "text": [
      "ScanInfo:  62%|██████▎   | 20/32 [01:14<00:51,  4.27s/it]"
     ]
    },
    {
     "name": "stdout",
     "output_type": "stream",
     "text": [
      "\n",
      "\n",
      "\n",
      "Scan_filepaths:\n",
      "/media/cossart/DATA/dj_cossart/data/jm010/2022-06-15_c/TSeries-05182022-1006-003/TSeries-05182022-1006-003_Cycle00001_Ch1_000001.ome.tif\n",
      "\n",
      "\n",
      "\n",
      "\n",
      "\n",
      "\n",
      "IMPORTANT: JM: I also changed default number of roi from 1 to 0, because 1 throws an error with auto-populating suite2p\n",
      "\n",
      "\n",
      "\n"
     ]
    },
    {
     "name": "stderr",
     "output_type": "stream",
     "text": [
      "/home/cossart/anaconda3/envs/dj_cossart/lib/python3.8/site-packages/datajoint/table.py:818: FutureWarning: elementwise comparison failed; returning scalar instead, but in the future will perform elementwise comparison\n",
      "  if value is None or (attr.numeric and (value == \"\" or np.isnan(float(value)))):\n",
      "ScanInfo:  62%|██████▎   | 20/32 [01:16<00:45,  3.82s/it]"
     ]
    },
    {
     "name": "stdout",
     "output_type": "stream",
     "text": [
      "z_fields.size: 1\n",
      "n_depths: 2\n",
      "z_step: 200.0\n",
      "\n",
      "\n",
      "\n",
      "IMPORTANT: here I (JM) hardcoded the subindex because of the issue of two z devices (see: https://github.com/datajoint/element-interface/issues/77)\n",
      "\n",
      "\n",
      "\n",
      "\n",
      "\n",
      "\n",
      "IMPORTANT: another issue can occur here, sometimes Prairie view writes the z position of planes wrongly (even though the z changes, it logs the same depth for the two planes)\n",
      "\n",
      "\n",
      "\n",
      "Error occured in asserting \"z_fields.size == n_depths\", moving to next dataset (this is probably because of a Prairie view bug, sometimes it writes the z position of planes wrongly (even though the z changes, it logs the same depth for the two planes))\n",
      "Overwriting n_depths to be equal to z_fields.size...\n",
      "{'num_fields': 1, 'num_channels': 2, 'num_planes': 1, 'num_frames': 24000, 'num_rois': 0, 'x_pos': None, 'y_pos': None, 'z_pos': None, 'frame_rate': 30.22341267543331, 'bidirectional': False, 'bidirectional_z': True, 'scan_datetime': datetime.datetime(2022, 6, 15, 18, 56, 46), 'usecs_per_line': 63.143, 'scan_duration': 1166.410557535, 'height_in_pixels': 512, 'width_in_pixels': 512, 'height_in_um': 752.5374145480857, 'width_in_um': 752.5374145480857, 'fieldX': 0.0, 'fieldY': 0.0, 'fieldZ': array([392.81728351]), 'recording_time': '18:56:46.0184068'}\n"
     ]
    },
    {
     "name": "stderr",
     "output_type": "stream",
     "text": [
      "\n"
     ]
    },
    {
     "ename": "DataError",
     "evalue": "(1265, \"Data truncated for column 'field_z' at row 1\")",
     "output_type": "error",
     "traceback": [
      "\u001b[0;31m---------------------------------------------------------------------------\u001b[0m",
      "\u001b[0;31mDataError\u001b[0m                                 Traceback (most recent call last)",
      "Cell \u001b[0;32mIn[28], line 1\u001b[0m\n\u001b[0;32m----> 1\u001b[0m \u001b[43mscan\u001b[49m\u001b[38;5;241;43m.\u001b[39;49m\u001b[43mScanInfo\u001b[49m\u001b[38;5;241;43m.\u001b[39;49m\u001b[43mpopulate\u001b[49m\u001b[43m(\u001b[49m\u001b[38;5;241;43m*\u001b[39;49m\u001b[38;5;241;43m*\u001b[39;49m\u001b[43mpopulate_settings\u001b[49m\u001b[43m)\u001b[49m\n\u001b[1;32m      2\u001b[0m scan\u001b[38;5;241m.\u001b[39mScanInfo()\n",
      "File \u001b[0;32m~/anaconda3/envs/dj_cossart/lib/python3.8/site-packages/datajoint/autopopulate.py:230\u001b[0m, in \u001b[0;36mAutoPopulate.populate\u001b[0;34m(self, suppress_errors, return_exception_objects, reserve_jobs, order, limit, max_calls, display_progress, processes, make_kwargs, *restrictions)\u001b[0m\n\u001b[1;32m    226\u001b[0m \u001b[38;5;28;01mif\u001b[39;00m processes \u001b[38;5;241m==\u001b[39m \u001b[38;5;241m1\u001b[39m:\n\u001b[1;32m    227\u001b[0m     \u001b[38;5;28;01mfor\u001b[39;00m key \u001b[38;5;129;01min\u001b[39;00m (\n\u001b[1;32m    228\u001b[0m         tqdm(keys, desc\u001b[38;5;241m=\u001b[39m\u001b[38;5;28mself\u001b[39m\u001b[38;5;241m.\u001b[39m\u001b[38;5;18m__class__\u001b[39m\u001b[38;5;241m.\u001b[39m\u001b[38;5;18m__name__\u001b[39m) \u001b[38;5;28;01mif\u001b[39;00m display_progress \u001b[38;5;28;01melse\u001b[39;00m keys\n\u001b[1;32m    229\u001b[0m     ):\n\u001b[0;32m--> 230\u001b[0m         error \u001b[38;5;241m=\u001b[39m \u001b[38;5;28;43mself\u001b[39;49m\u001b[38;5;241;43m.\u001b[39;49m\u001b[43m_populate1\u001b[49m\u001b[43m(\u001b[49m\u001b[43mkey\u001b[49m\u001b[43m,\u001b[49m\u001b[43m \u001b[49m\u001b[43mjobs\u001b[49m\u001b[43m,\u001b[49m\u001b[43m \u001b[49m\u001b[38;5;241;43m*\u001b[39;49m\u001b[38;5;241;43m*\u001b[39;49m\u001b[43mpopulate_kwargs\u001b[49m\u001b[43m)\u001b[49m\n\u001b[1;32m    231\u001b[0m         \u001b[38;5;28;01mif\u001b[39;00m error \u001b[38;5;129;01mis\u001b[39;00m \u001b[38;5;129;01mnot\u001b[39;00m \u001b[38;5;28;01mNone\u001b[39;00m:\n\u001b[1;32m    232\u001b[0m             error_list\u001b[38;5;241m.\u001b[39mappend(error)\n",
      "File \u001b[0;32m~/anaconda3/envs/dj_cossart/lib/python3.8/site-packages/datajoint/autopopulate.py:281\u001b[0m, in \u001b[0;36mAutoPopulate._populate1\u001b[0;34m(self, key, jobs, suppress_errors, return_exception_objects, make_kwargs)\u001b[0m\n\u001b[1;32m    279\u001b[0m \u001b[38;5;28mself\u001b[39m\u001b[38;5;241m.\u001b[39m\u001b[38;5;18m__class__\u001b[39m\u001b[38;5;241m.\u001b[39m_allow_insert \u001b[38;5;241m=\u001b[39m \u001b[38;5;28;01mTrue\u001b[39;00m\n\u001b[1;32m    280\u001b[0m \u001b[38;5;28;01mtry\u001b[39;00m:\n\u001b[0;32m--> 281\u001b[0m     \u001b[43mmake\u001b[49m\u001b[43m(\u001b[49m\u001b[38;5;28;43mdict\u001b[39;49m\u001b[43m(\u001b[49m\u001b[43mkey\u001b[49m\u001b[43m)\u001b[49m\u001b[43m,\u001b[49m\u001b[43m \u001b[49m\u001b[38;5;241;43m*\u001b[39;49m\u001b[38;5;241;43m*\u001b[39;49m\u001b[43m(\u001b[49m\u001b[43mmake_kwargs\u001b[49m\u001b[43m \u001b[49m\u001b[38;5;129;43;01mor\u001b[39;49;00m\u001b[43m \u001b[49m\u001b[43m{\u001b[49m\u001b[43m}\u001b[49m\u001b[43m)\u001b[49m\u001b[43m)\u001b[49m\n\u001b[1;32m    282\u001b[0m \u001b[38;5;28;01mexcept\u001b[39;00m (\u001b[38;5;167;01mKeyboardInterrupt\u001b[39;00m, \u001b[38;5;167;01mSystemExit\u001b[39;00m, \u001b[38;5;167;01mException\u001b[39;00m) \u001b[38;5;28;01mas\u001b[39;00m error:\n\u001b[1;32m    283\u001b[0m     \u001b[38;5;28;01mtry\u001b[39;00m:\n",
      "File \u001b[0;32m~/anaconda3/envs/dj_cossart/lib/python3.8/site-packages/element_calcium_imaging/scan.py:609\u001b[0m, in \u001b[0;36mScanInfo.make\u001b[0;34m(self, key)\u001b[0m\n\u001b[1;32m    588\u001b[0m     \u001b[38;5;28mprint\u001b[39m(pvscan_info)\n\u001b[1;32m    589\u001b[0m     \u001b[38;5;28mself\u001b[39m\u001b[38;5;241m.\u001b[39minsert1(\n\u001b[1;32m    590\u001b[0m         \u001b[38;5;28mdict\u001b[39m(\n\u001b[1;32m    591\u001b[0m             key,\n\u001b[0;32m   (...)\u001b[0m\n\u001b[1;32m    606\u001b[0m         )\n\u001b[1;32m    607\u001b[0m     )\n\u001b[0;32m--> 609\u001b[0m     \u001b[38;5;28;43mself\u001b[39;49m\u001b[38;5;241;43m.\u001b[39;49m\u001b[43mField\u001b[49m\u001b[38;5;241;43m.\u001b[39;49m\u001b[43minsert\u001b[49m\u001b[43m(\u001b[49m\n\u001b[1;32m    610\u001b[0m \u001b[43m            \u001b[49m\u001b[38;5;28;43mdict\u001b[39;49m\u001b[43m(\u001b[49m\n\u001b[1;32m    611\u001b[0m \u001b[43m                \u001b[49m\u001b[43mkey\u001b[49m\u001b[43m,\u001b[49m\n\u001b[1;32m    612\u001b[0m \u001b[43m                \u001b[49m\u001b[43mfield_idx\u001b[49m\u001b[38;5;241;43m=\u001b[39;49m\u001b[43mplane_idx\u001b[49m\u001b[43m,\u001b[49m\n\u001b[1;32m    613\u001b[0m \u001b[43m                \u001b[49m\u001b[43mpx_height\u001b[49m\u001b[38;5;241;43m=\u001b[39;49m\u001b[43mpvscan_info\u001b[49m\u001b[43m[\u001b[49m\u001b[38;5;124;43m\"\u001b[39;49m\u001b[38;5;124;43mheight_in_pixels\u001b[39;49m\u001b[38;5;124;43m\"\u001b[39;49m\u001b[43m]\u001b[49m\u001b[43m,\u001b[49m\n\u001b[1;32m    614\u001b[0m \u001b[43m                \u001b[49m\u001b[43mpx_width\u001b[49m\u001b[38;5;241;43m=\u001b[39;49m\u001b[43mpvscan_info\u001b[49m\u001b[43m[\u001b[49m\u001b[38;5;124;43m\"\u001b[39;49m\u001b[38;5;124;43mwidth_in_pixels\u001b[39;49m\u001b[38;5;124;43m\"\u001b[39;49m\u001b[43m]\u001b[49m\u001b[43m,\u001b[49m\n\u001b[1;32m    615\u001b[0m \u001b[43m                \u001b[49m\u001b[43mum_height\u001b[49m\u001b[38;5;241;43m=\u001b[39;49m\u001b[43mpvscan_info\u001b[49m\u001b[43m[\u001b[49m\u001b[38;5;124;43m\"\u001b[39;49m\u001b[38;5;124;43mheight_in_um\u001b[39;49m\u001b[38;5;124;43m\"\u001b[39;49m\u001b[43m]\u001b[49m\u001b[43m,\u001b[49m\n\u001b[1;32m    616\u001b[0m \u001b[43m                \u001b[49m\u001b[43mum_width\u001b[49m\u001b[38;5;241;43m=\u001b[39;49m\u001b[43mpvscan_info\u001b[49m\u001b[43m[\u001b[49m\u001b[38;5;124;43m\"\u001b[39;49m\u001b[38;5;124;43mwidth_in_um\u001b[39;49m\u001b[38;5;124;43m\"\u001b[39;49m\u001b[43m]\u001b[49m\u001b[43m,\u001b[49m\n\u001b[1;32m    617\u001b[0m \u001b[43m                \u001b[49m\u001b[43mfield_x\u001b[49m\u001b[38;5;241;43m=\u001b[39;49m\u001b[43mpvscan_info\u001b[49m\u001b[43m[\u001b[49m\u001b[38;5;124;43m\"\u001b[39;49m\u001b[38;5;124;43mfieldX\u001b[39;49m\u001b[38;5;124;43m\"\u001b[39;49m\u001b[43m]\u001b[49m\u001b[43m,\u001b[49m\n\u001b[1;32m    618\u001b[0m \u001b[43m                \u001b[49m\u001b[43mfield_y\u001b[49m\u001b[38;5;241;43m=\u001b[39;49m\u001b[43mpvscan_info\u001b[49m\u001b[43m[\u001b[49m\u001b[38;5;124;43m\"\u001b[39;49m\u001b[38;5;124;43mfieldY\u001b[39;49m\u001b[38;5;124;43m\"\u001b[39;49m\u001b[43m]\u001b[49m\u001b[43m,\u001b[49m\n\u001b[1;32m    619\u001b[0m \u001b[43m                \u001b[49m\u001b[43mfield_z\u001b[49m\u001b[38;5;241;43m=\u001b[39;49m\u001b[43mpvscan_info\u001b[49m\u001b[43m[\u001b[49m\u001b[38;5;124;43m\"\u001b[39;49m\u001b[38;5;124;43mfieldZ\u001b[39;49m\u001b[38;5;124;43m\"\u001b[39;49m\u001b[43m]\u001b[49m\u001b[43m \u001b[49m\u001b[38;5;28;43;01mif\u001b[39;49;00m\u001b[43m \u001b[49m\u001b[43mpvscan_info\u001b[49m\u001b[43m[\u001b[49m\u001b[38;5;124;43m\"\u001b[39;49m\u001b[38;5;124;43mnum_planes\u001b[39;49m\u001b[38;5;124;43m\"\u001b[39;49m\u001b[43m]\u001b[49m\u001b[43m \u001b[49m\u001b[38;5;241;43m==\u001b[39;49m\u001b[43m \u001b[49m\u001b[38;5;241;43m1\u001b[39;49m\u001b[43m \u001b[49m\u001b[38;5;28;43;01melse\u001b[39;49;00m\u001b[43m \u001b[49m\u001b[43mpvscan_info\u001b[49m\u001b[43m[\u001b[49m\u001b[38;5;124;43m\"\u001b[39;49m\u001b[38;5;124;43mfieldZ\u001b[39;49m\u001b[38;5;124;43m\"\u001b[39;49m\u001b[43m]\u001b[49m\u001b[43m[\u001b[49m\u001b[43mplane_idx\u001b[49m\u001b[43m]\u001b[49m\u001b[43m,\u001b[49m\n\u001b[1;32m    620\u001b[0m \u001b[43m            \u001b[49m\u001b[43m)\u001b[49m\n\u001b[1;32m    621\u001b[0m \u001b[43m            \u001b[49m\u001b[38;5;28;43;01mfor\u001b[39;49;00m\u001b[43m \u001b[49m\u001b[43mplane_idx\u001b[49m\u001b[43m \u001b[49m\u001b[38;5;129;43;01min\u001b[39;49;00m\u001b[43m \u001b[49m\u001b[38;5;28;43mrange\u001b[39;49m\u001b[43m(\u001b[49m\u001b[43mpvscan_info\u001b[49m\u001b[43m[\u001b[49m\u001b[38;5;124;43m\"\u001b[39;49m\u001b[38;5;124;43mnum_planes\u001b[39;49m\u001b[38;5;124;43m\"\u001b[39;49m\u001b[43m]\u001b[49m\u001b[43m)\u001b[49m\n\u001b[1;32m    622\u001b[0m \u001b[43m    \u001b[49m\u001b[43m)\u001b[49m\n\u001b[1;32m    623\u001b[0m \u001b[38;5;28;01melse\u001b[39;00m:\n\u001b[1;32m    624\u001b[0m     \u001b[38;5;28;01mraise\u001b[39;00m \u001b[38;5;167;01mNotImplementedError\u001b[39;00m(\n\u001b[1;32m    625\u001b[0m         \u001b[38;5;124mf\u001b[39m\u001b[38;5;124m\"\u001b[39m\u001b[38;5;124mLoading routine not implemented for \u001b[39m\u001b[38;5;132;01m{\u001b[39;00macq_software\u001b[38;5;132;01m}\u001b[39;00m\u001b[38;5;124m \u001b[39m\u001b[38;5;124m\"\u001b[39m\n\u001b[1;32m    626\u001b[0m         \u001b[38;5;124m\"\u001b[39m\u001b[38;5;124macquisition software\u001b[39m\u001b[38;5;124m\"\u001b[39m\n\u001b[1;32m    627\u001b[0m     )\n",
      "File \u001b[0;32m~/anaconda3/envs/dj_cossart/lib/python3.8/site-packages/datajoint/table.py:430\u001b[0m, in \u001b[0;36mTable.insert\u001b[0;34m(self, rows, replace, skip_duplicates, ignore_extra_fields, allow_direct_insert)\u001b[0m\n\u001b[1;32m    414\u001b[0m \u001b[38;5;28;01mtry\u001b[39;00m:\n\u001b[1;32m    415\u001b[0m     query \u001b[38;5;241m=\u001b[39m \u001b[38;5;124m\"\u001b[39m\u001b[38;5;132;01m{command}\u001b[39;00m\u001b[38;5;124m INTO \u001b[39m\u001b[38;5;132;01m{destination}\u001b[39;00m\u001b[38;5;124m(`\u001b[39m\u001b[38;5;132;01m{fields}\u001b[39;00m\u001b[38;5;124m`) VALUES \u001b[39m\u001b[38;5;132;01m{placeholders}\u001b[39;00m\u001b[38;5;132;01m{duplicate}\u001b[39;00m\u001b[38;5;124m\"\u001b[39m\u001b[38;5;241m.\u001b[39mformat(\n\u001b[1;32m    416\u001b[0m         command\u001b[38;5;241m=\u001b[39m\u001b[38;5;124m\"\u001b[39m\u001b[38;5;124mREPLACE\u001b[39m\u001b[38;5;124m\"\u001b[39m \u001b[38;5;28;01mif\u001b[39;00m replace \u001b[38;5;28;01melse\u001b[39;00m \u001b[38;5;124m\"\u001b[39m\u001b[38;5;124mINSERT\u001b[39m\u001b[38;5;124m\"\u001b[39m,\n\u001b[1;32m    417\u001b[0m         destination\u001b[38;5;241m=\u001b[39m\u001b[38;5;28mself\u001b[39m\u001b[38;5;241m.\u001b[39mfrom_clause(),\n\u001b[0;32m   (...)\u001b[0m\n\u001b[1;32m    428\u001b[0m         ),\n\u001b[1;32m    429\u001b[0m     )\n\u001b[0;32m--> 430\u001b[0m     \u001b[38;5;28;43mself\u001b[39;49m\u001b[38;5;241;43m.\u001b[39;49m\u001b[43mconnection\u001b[49m\u001b[38;5;241;43m.\u001b[39;49m\u001b[43mquery\u001b[49m\u001b[43m(\u001b[49m\n\u001b[1;32m    431\u001b[0m \u001b[43m        \u001b[49m\u001b[43mquery\u001b[49m\u001b[43m,\u001b[49m\n\u001b[1;32m    432\u001b[0m \u001b[43m        \u001b[49m\u001b[43margs\u001b[49m\u001b[38;5;241;43m=\u001b[39;49m\u001b[38;5;28;43mlist\u001b[39;49m\u001b[43m(\u001b[49m\n\u001b[1;32m    433\u001b[0m \u001b[43m            \u001b[49m\u001b[43mitertools\u001b[49m\u001b[38;5;241;43m.\u001b[39;49m\u001b[43mchain\u001b[49m\u001b[38;5;241;43m.\u001b[39;49m\u001b[43mfrom_iterable\u001b[49m\u001b[43m(\u001b[49m\n\u001b[1;32m    434\u001b[0m \u001b[43m                \u001b[49m\u001b[43m(\u001b[49m\u001b[43mv\u001b[49m\u001b[43m \u001b[49m\u001b[38;5;28;43;01mfor\u001b[39;49;00m\u001b[43m \u001b[49m\u001b[43mv\u001b[49m\u001b[43m \u001b[49m\u001b[38;5;129;43;01min\u001b[39;49;00m\u001b[43m \u001b[49m\u001b[43mr\u001b[49m\u001b[43m[\u001b[49m\u001b[38;5;124;43m\"\u001b[39;49m\u001b[38;5;124;43mvalues\u001b[39;49m\u001b[38;5;124;43m\"\u001b[39;49m\u001b[43m]\u001b[49m\u001b[43m \u001b[49m\u001b[38;5;28;43;01mif\u001b[39;49;00m\u001b[43m \u001b[49m\u001b[43mv\u001b[49m\u001b[43m \u001b[49m\u001b[38;5;129;43;01mis\u001b[39;49;00m\u001b[43m \u001b[49m\u001b[38;5;129;43;01mnot\u001b[39;49;00m\u001b[43m \u001b[49m\u001b[38;5;28;43;01mNone\u001b[39;49;00m\u001b[43m)\u001b[49m\u001b[43m \u001b[49m\u001b[38;5;28;43;01mfor\u001b[39;49;00m\u001b[43m \u001b[49m\u001b[43mr\u001b[49m\u001b[43m \u001b[49m\u001b[38;5;129;43;01min\u001b[39;49;00m\u001b[43m \u001b[49m\u001b[43mrows\u001b[49m\n\u001b[1;32m    435\u001b[0m \u001b[43m            \u001b[49m\u001b[43m)\u001b[49m\n\u001b[1;32m    436\u001b[0m \u001b[43m        \u001b[49m\u001b[43m)\u001b[49m\u001b[43m,\u001b[49m\n\u001b[1;32m    437\u001b[0m \u001b[43m    \u001b[49m\u001b[43m)\u001b[49m\n\u001b[1;32m    438\u001b[0m \u001b[38;5;28;01mexcept\u001b[39;00m UnknownAttributeError \u001b[38;5;28;01mas\u001b[39;00m err:\n\u001b[1;32m    439\u001b[0m     \u001b[38;5;28;01mraise\u001b[39;00m err\u001b[38;5;241m.\u001b[39msuggest(\n\u001b[1;32m    440\u001b[0m         \u001b[38;5;124m\"\u001b[39m\u001b[38;5;124mTo ignore extra fields in insert, set ignore_extra_fields=True\u001b[39m\u001b[38;5;124m\"\u001b[39m\n\u001b[1;32m    441\u001b[0m     )\n",
      "File \u001b[0;32m~/anaconda3/envs/dj_cossart/lib/python3.8/site-packages/datajoint/connection.py:340\u001b[0m, in \u001b[0;36mConnection.query\u001b[0;34m(self, query, args, as_dict, suppress_warnings, reconnect)\u001b[0m\n\u001b[1;32m    338\u001b[0m cursor \u001b[38;5;241m=\u001b[39m \u001b[38;5;28mself\u001b[39m\u001b[38;5;241m.\u001b[39m_conn\u001b[38;5;241m.\u001b[39mcursor(cursor\u001b[38;5;241m=\u001b[39mcursor_class)\n\u001b[1;32m    339\u001b[0m \u001b[38;5;28;01mtry\u001b[39;00m:\n\u001b[0;32m--> 340\u001b[0m     \u001b[38;5;28;43mself\u001b[39;49m\u001b[38;5;241;43m.\u001b[39;49m\u001b[43m_execute_query\u001b[49m\u001b[43m(\u001b[49m\u001b[43mcursor\u001b[49m\u001b[43m,\u001b[49m\u001b[43m \u001b[49m\u001b[43mquery\u001b[49m\u001b[43m,\u001b[49m\u001b[43m \u001b[49m\u001b[43margs\u001b[49m\u001b[43m,\u001b[49m\u001b[43m \u001b[49m\u001b[43msuppress_warnings\u001b[49m\u001b[43m)\u001b[49m\n\u001b[1;32m    341\u001b[0m \u001b[38;5;28;01mexcept\u001b[39;00m errors\u001b[38;5;241m.\u001b[39mLostConnectionError:\n\u001b[1;32m    342\u001b[0m     \u001b[38;5;28;01mif\u001b[39;00m \u001b[38;5;129;01mnot\u001b[39;00m reconnect:\n",
      "File \u001b[0;32m~/anaconda3/envs/dj_cossart/lib/python3.8/site-packages/datajoint/connection.py:296\u001b[0m, in \u001b[0;36mConnection._execute_query\u001b[0;34m(cursor, query, args, suppress_warnings)\u001b[0m\n\u001b[1;32m    294\u001b[0m         cursor\u001b[38;5;241m.\u001b[39mexecute(query, args)\n\u001b[1;32m    295\u001b[0m \u001b[38;5;28;01mexcept\u001b[39;00m client\u001b[38;5;241m.\u001b[39merr\u001b[38;5;241m.\u001b[39mError \u001b[38;5;28;01mas\u001b[39;00m err:\n\u001b[0;32m--> 296\u001b[0m     \u001b[38;5;28;01mraise\u001b[39;00m translate_query_error(err, query)\n",
      "File \u001b[0;32m~/anaconda3/envs/dj_cossart/lib/python3.8/site-packages/datajoint/connection.py:294\u001b[0m, in \u001b[0;36mConnection._execute_query\u001b[0;34m(cursor, query, args, suppress_warnings)\u001b[0m\n\u001b[1;32m    291\u001b[0m         \u001b[38;5;28;01mif\u001b[39;00m suppress_warnings:\n\u001b[1;32m    292\u001b[0m             \u001b[38;5;66;03m# suppress all warnings arising from underlying SQL library\u001b[39;00m\n\u001b[1;32m    293\u001b[0m             warnings\u001b[38;5;241m.\u001b[39msimplefilter(\u001b[38;5;124m\"\u001b[39m\u001b[38;5;124mignore\u001b[39m\u001b[38;5;124m\"\u001b[39m)\n\u001b[0;32m--> 294\u001b[0m         \u001b[43mcursor\u001b[49m\u001b[38;5;241;43m.\u001b[39;49m\u001b[43mexecute\u001b[49m\u001b[43m(\u001b[49m\u001b[43mquery\u001b[49m\u001b[43m,\u001b[49m\u001b[43m \u001b[49m\u001b[43margs\u001b[49m\u001b[43m)\u001b[49m\n\u001b[1;32m    295\u001b[0m \u001b[38;5;28;01mexcept\u001b[39;00m client\u001b[38;5;241m.\u001b[39merr\u001b[38;5;241m.\u001b[39mError \u001b[38;5;28;01mas\u001b[39;00m err:\n\u001b[1;32m    296\u001b[0m     \u001b[38;5;28;01mraise\u001b[39;00m translate_query_error(err, query)\n",
      "File \u001b[0;32m~/anaconda3/envs/dj_cossart/lib/python3.8/site-packages/pymysql/cursors.py:148\u001b[0m, in \u001b[0;36mCursor.execute\u001b[0;34m(self, query, args)\u001b[0m\n\u001b[1;32m    144\u001b[0m     \u001b[38;5;28;01mpass\u001b[39;00m\n\u001b[1;32m    146\u001b[0m query \u001b[38;5;241m=\u001b[39m \u001b[38;5;28mself\u001b[39m\u001b[38;5;241m.\u001b[39mmogrify(query, args)\n\u001b[0;32m--> 148\u001b[0m result \u001b[38;5;241m=\u001b[39m \u001b[38;5;28;43mself\u001b[39;49m\u001b[38;5;241;43m.\u001b[39;49m\u001b[43m_query\u001b[49m\u001b[43m(\u001b[49m\u001b[43mquery\u001b[49m\u001b[43m)\u001b[49m\n\u001b[1;32m    149\u001b[0m \u001b[38;5;28mself\u001b[39m\u001b[38;5;241m.\u001b[39m_executed \u001b[38;5;241m=\u001b[39m query\n\u001b[1;32m    150\u001b[0m \u001b[38;5;28;01mreturn\u001b[39;00m result\n",
      "File \u001b[0;32m~/anaconda3/envs/dj_cossart/lib/python3.8/site-packages/pymysql/cursors.py:310\u001b[0m, in \u001b[0;36mCursor._query\u001b[0;34m(self, q)\u001b[0m\n\u001b[1;32m    308\u001b[0m \u001b[38;5;28mself\u001b[39m\u001b[38;5;241m.\u001b[39m_last_executed \u001b[38;5;241m=\u001b[39m q\n\u001b[1;32m    309\u001b[0m \u001b[38;5;28mself\u001b[39m\u001b[38;5;241m.\u001b[39m_clear_result()\n\u001b[0;32m--> 310\u001b[0m \u001b[43mconn\u001b[49m\u001b[38;5;241;43m.\u001b[39;49m\u001b[43mquery\u001b[49m\u001b[43m(\u001b[49m\u001b[43mq\u001b[49m\u001b[43m)\u001b[49m\n\u001b[1;32m    311\u001b[0m \u001b[38;5;28mself\u001b[39m\u001b[38;5;241m.\u001b[39m_do_get_result()\n\u001b[1;32m    312\u001b[0m \u001b[38;5;28;01mreturn\u001b[39;00m \u001b[38;5;28mself\u001b[39m\u001b[38;5;241m.\u001b[39mrowcount\n",
      "File \u001b[0;32m~/anaconda3/envs/dj_cossart/lib/python3.8/site-packages/pymysql/connections.py:548\u001b[0m, in \u001b[0;36mConnection.query\u001b[0;34m(self, sql, unbuffered)\u001b[0m\n\u001b[1;32m    546\u001b[0m     sql \u001b[38;5;241m=\u001b[39m sql\u001b[38;5;241m.\u001b[39mencode(\u001b[38;5;28mself\u001b[39m\u001b[38;5;241m.\u001b[39mencoding, \u001b[38;5;124m\"\u001b[39m\u001b[38;5;124msurrogateescape\u001b[39m\u001b[38;5;124m\"\u001b[39m)\n\u001b[1;32m    547\u001b[0m \u001b[38;5;28mself\u001b[39m\u001b[38;5;241m.\u001b[39m_execute_command(COMMAND\u001b[38;5;241m.\u001b[39mCOM_QUERY, sql)\n\u001b[0;32m--> 548\u001b[0m \u001b[38;5;28mself\u001b[39m\u001b[38;5;241m.\u001b[39m_affected_rows \u001b[38;5;241m=\u001b[39m \u001b[38;5;28;43mself\u001b[39;49m\u001b[38;5;241;43m.\u001b[39;49m\u001b[43m_read_query_result\u001b[49m\u001b[43m(\u001b[49m\u001b[43munbuffered\u001b[49m\u001b[38;5;241;43m=\u001b[39;49m\u001b[43munbuffered\u001b[49m\u001b[43m)\u001b[49m\n\u001b[1;32m    549\u001b[0m \u001b[38;5;28;01mreturn\u001b[39;00m \u001b[38;5;28mself\u001b[39m\u001b[38;5;241m.\u001b[39m_affected_rows\n",
      "File \u001b[0;32m~/anaconda3/envs/dj_cossart/lib/python3.8/site-packages/pymysql/connections.py:775\u001b[0m, in \u001b[0;36mConnection._read_query_result\u001b[0;34m(self, unbuffered)\u001b[0m\n\u001b[1;32m    773\u001b[0m \u001b[38;5;28;01melse\u001b[39;00m:\n\u001b[1;32m    774\u001b[0m     result \u001b[38;5;241m=\u001b[39m MySQLResult(\u001b[38;5;28mself\u001b[39m)\n\u001b[0;32m--> 775\u001b[0m     \u001b[43mresult\u001b[49m\u001b[38;5;241;43m.\u001b[39;49m\u001b[43mread\u001b[49m\u001b[43m(\u001b[49m\u001b[43m)\u001b[49m\n\u001b[1;32m    776\u001b[0m \u001b[38;5;28mself\u001b[39m\u001b[38;5;241m.\u001b[39m_result \u001b[38;5;241m=\u001b[39m result\n\u001b[1;32m    777\u001b[0m \u001b[38;5;28;01mif\u001b[39;00m result\u001b[38;5;241m.\u001b[39mserver_status \u001b[38;5;129;01mis\u001b[39;00m \u001b[38;5;129;01mnot\u001b[39;00m \u001b[38;5;28;01mNone\u001b[39;00m:\n",
      "File \u001b[0;32m~/anaconda3/envs/dj_cossart/lib/python3.8/site-packages/pymysql/connections.py:1156\u001b[0m, in \u001b[0;36mMySQLResult.read\u001b[0;34m(self)\u001b[0m\n\u001b[1;32m   1154\u001b[0m \u001b[38;5;28;01mdef\u001b[39;00m \u001b[38;5;21mread\u001b[39m(\u001b[38;5;28mself\u001b[39m):\n\u001b[1;32m   1155\u001b[0m     \u001b[38;5;28;01mtry\u001b[39;00m:\n\u001b[0;32m-> 1156\u001b[0m         first_packet \u001b[38;5;241m=\u001b[39m \u001b[38;5;28;43mself\u001b[39;49m\u001b[38;5;241;43m.\u001b[39;49m\u001b[43mconnection\u001b[49m\u001b[38;5;241;43m.\u001b[39;49m\u001b[43m_read_packet\u001b[49m\u001b[43m(\u001b[49m\u001b[43m)\u001b[49m\n\u001b[1;32m   1158\u001b[0m         \u001b[38;5;28;01mif\u001b[39;00m first_packet\u001b[38;5;241m.\u001b[39mis_ok_packet():\n\u001b[1;32m   1159\u001b[0m             \u001b[38;5;28mself\u001b[39m\u001b[38;5;241m.\u001b[39m_read_ok_packet(first_packet)\n",
      "File \u001b[0;32m~/anaconda3/envs/dj_cossart/lib/python3.8/site-packages/pymysql/connections.py:725\u001b[0m, in \u001b[0;36mConnection._read_packet\u001b[0;34m(self, packet_type)\u001b[0m\n\u001b[1;32m    723\u001b[0m     \u001b[38;5;28;01mif\u001b[39;00m \u001b[38;5;28mself\u001b[39m\u001b[38;5;241m.\u001b[39m_result \u001b[38;5;129;01mis\u001b[39;00m \u001b[38;5;129;01mnot\u001b[39;00m \u001b[38;5;28;01mNone\u001b[39;00m \u001b[38;5;129;01mand\u001b[39;00m \u001b[38;5;28mself\u001b[39m\u001b[38;5;241m.\u001b[39m_result\u001b[38;5;241m.\u001b[39munbuffered_active \u001b[38;5;129;01mis\u001b[39;00m \u001b[38;5;28;01mTrue\u001b[39;00m:\n\u001b[1;32m    724\u001b[0m         \u001b[38;5;28mself\u001b[39m\u001b[38;5;241m.\u001b[39m_result\u001b[38;5;241m.\u001b[39munbuffered_active \u001b[38;5;241m=\u001b[39m \u001b[38;5;28;01mFalse\u001b[39;00m\n\u001b[0;32m--> 725\u001b[0m     \u001b[43mpacket\u001b[49m\u001b[38;5;241;43m.\u001b[39;49m\u001b[43mraise_for_error\u001b[49m\u001b[43m(\u001b[49m\u001b[43m)\u001b[49m\n\u001b[1;32m    726\u001b[0m \u001b[38;5;28;01mreturn\u001b[39;00m packet\n",
      "File \u001b[0;32m~/anaconda3/envs/dj_cossart/lib/python3.8/site-packages/pymysql/protocol.py:221\u001b[0m, in \u001b[0;36mMysqlPacket.raise_for_error\u001b[0;34m(self)\u001b[0m\n\u001b[1;32m    219\u001b[0m \u001b[38;5;28;01mif\u001b[39;00m DEBUG:\n\u001b[1;32m    220\u001b[0m     \u001b[38;5;28mprint\u001b[39m(\u001b[38;5;124m\"\u001b[39m\u001b[38;5;124merrno =\u001b[39m\u001b[38;5;124m\"\u001b[39m, errno)\n\u001b[0;32m--> 221\u001b[0m \u001b[43merr\u001b[49m\u001b[38;5;241;43m.\u001b[39;49m\u001b[43mraise_mysql_exception\u001b[49m\u001b[43m(\u001b[49m\u001b[38;5;28;43mself\u001b[39;49m\u001b[38;5;241;43m.\u001b[39;49m\u001b[43m_data\u001b[49m\u001b[43m)\u001b[49m\n",
      "File \u001b[0;32m~/anaconda3/envs/dj_cossart/lib/python3.8/site-packages/pymysql/err.py:143\u001b[0m, in \u001b[0;36mraise_mysql_exception\u001b[0;34m(data)\u001b[0m\n\u001b[1;32m    141\u001b[0m \u001b[38;5;28;01mif\u001b[39;00m errorclass \u001b[38;5;129;01mis\u001b[39;00m \u001b[38;5;28;01mNone\u001b[39;00m:\n\u001b[1;32m    142\u001b[0m     errorclass \u001b[38;5;241m=\u001b[39m InternalError \u001b[38;5;28;01mif\u001b[39;00m errno \u001b[38;5;241m<\u001b[39m \u001b[38;5;241m1000\u001b[39m \u001b[38;5;28;01melse\u001b[39;00m OperationalError\n\u001b[0;32m--> 143\u001b[0m \u001b[38;5;28;01mraise\u001b[39;00m errorclass(errno, errval)\n",
      "\u001b[0;31mDataError\u001b[0m: (1265, \"Data truncated for column 'field_z' at row 1\")"
     ]
    }
   ],
   "source": [
    "scan.ScanInfo.populate(**populate_settings)\n",
    "scan.ScanInfo()\n"
   ]
  },
  {
   "cell_type": "code",
   "execution_count": null,
   "metadata": {},
   "outputs": [],
   "source": []
  }
 ],
 "metadata": {
  "kernelspec": {
   "display_name": "Python 3 (ipykernel)",
   "language": "python",
   "name": "python3"
  },
  "language_info": {
   "codemirror_mode": {
    "name": "ipython",
    "version": 3
   },
   "file_extension": ".py",
   "mimetype": "text/x-python",
   "name": "python",
   "nbconvert_exporter": "python",
   "pygments_lexer": "ipython3",
   "version": "3.8.16"
  },
  "vscode": {
   "interpreter": {
    "hash": "4db121aefccf24ce64da24f36153d24457118a7863144f840821691282a85d58"
   }
  }
 },
 "nbformat": 4,
 "nbformat_minor": 4
}
