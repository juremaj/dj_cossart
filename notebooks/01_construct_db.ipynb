{
 "cells": [
  {
   "cell_type": "markdown",
   "metadata": {},
   "source": [
    "# Interactively run workflow calcium imaging\n",
    "\n",
    "+ This notebook walks you through the steps in detail to run the `workflow-calcium-imaging`.  \n",
    "\n",
    "+ The workflow requires the calcium imaging acquired data from ScanImage or Scanbox and processed data from Suite2p or CaImAn.\n",
    "\n",
    "+ If you haven't configured the paths, refer to [01-configure](01-configure.ipynb).\n",
    "\n",
    "+ To overview the schema structures, refer to [02-workflow-structure](02-workflow-structure.ipynb).\n",
    "\n",
    "+ If you need a more automatic approach to run the workflow, refer to [03-automate](03-automate-optional.ipynb)."
   ]
  },
  {
   "cell_type": "markdown",
   "metadata": {},
   "source": [
    "Let's change the directory to the package root directory to load the local configuration (`dj_local_conf.json`)."
   ]
  },
  {
   "cell_type": "code",
   "execution_count": 1,
   "metadata": {},
   "outputs": [],
   "source": [
    "# reload code if library changes\n",
    "%load_ext autoreload\n",
    "%autoreload 2\n",
    "%reload_ext autoreload"
   ]
  },
  {
   "cell_type": "code",
   "execution_count": 2,
   "metadata": {},
   "outputs": [],
   "source": [
    "import os\n",
    "if os.path.basename(os.getcwd()) == \"notebooks\": os.chdir(\"..\")\n",
    "import numpy as np"
   ]
  },
  {
   "cell_type": "code",
   "execution_count": 3,
   "metadata": {},
   "outputs": [],
   "source": [
    "skip_ds = ['jm007/2022-06-13_a'] # corrupted metadata"
   ]
  },
  {
   "cell_type": "markdown",
   "metadata": {},
   "source": [
    "## `Pipeline.py`\n",
    "\n",
    "+ This script `activates` the DataJoint `elements` and declares other required tables."
   ]
  },
  {
   "cell_type": "code",
   "execution_count": 4,
   "metadata": {},
   "outputs": [
    {
     "name": "stderr",
     "output_type": "stream",
     "text": [
      "[2023-02-28 11:16:51,324][INFO]: Connecting jure@127.0.0.1:3306\n",
      "[2023-02-28 11:16:51,416][INFO]: Connected jure@127.0.0.1:3306\n"
     ]
    }
   ],
   "source": [
    "import datajoint as dj\n",
    "from workflow_calcium_imaging.pipeline import *\n",
    "populate_settings = {'display_progress': True}"
   ]
  },
  {
   "cell_type": "code",
   "execution_count": 5,
   "metadata": {},
   "outputs": [
    {
     "data": {
      "text/plain": [
       "{   'connection.charset': '',\n",
       "    'connection.init_function': None,\n",
       "    'custom': {   'database.prefix': 'jure_',\n",
       "                  'imaging_root_data_dir': '/media/cossart/DATA/dj_cossart/data'},\n",
       "    'database.host': '127.0.0.1',\n",
       "    'database.password': 'allezlom',\n",
       "    'database.port': 3306,\n",
       "    'database.reconnect': True,\n",
       "    'database.use_tls': None,\n",
       "    'database.user': 'jure',\n",
       "    'display.limit': 12,\n",
       "    'display.show_tuple_count': True,\n",
       "    'display.width': 14,\n",
       "    'enable_python_native_blobs': True,\n",
       "    'fetch_format': 'array',\n",
       "    'filepath_checksum_size_limit': None,\n",
       "    'loglevel': 'INFO',\n",
       "    'safemode': True}"
      ]
     },
     "execution_count": 5,
     "metadata": {},
     "output_type": "execute_result"
    }
   ],
   "source": [
    "dj.config"
   ]
  },
  {
   "cell_type": "code",
   "execution_count": 6,
   "metadata": {},
   "outputs": [],
   "source": [
    "# move to library\n",
    "def get_metadata_from_filetree(root_data_dir, fake_session_datetime_str_init):\n",
    "    all_subject_str = []\n",
    "    all_session_str = [] # this will be list of lists - each nested list corresponding to one subject\n",
    "    all_datetime_str = [] # for now hardcoded! (figure out how to do programmatically)\n",
    "\n",
    "    count = 0\n",
    "    for subject_str in os.listdir(root_data_dir):\n",
    "        if os.path.isdir(f'{root_data_dir}/{subject_str}'):\n",
    "\n",
    "            print(f'Subject: {subject_str}')\n",
    "            all_subject_str.append(subject_str)\n",
    "\n",
    "            all_subject_session_str = [] # sessions for this particular subject\n",
    "            all_subject_datetime_str = []\n",
    "            for subject_session_str in os.listdir(root_data_dir + '/' + subject_str):\n",
    "                all_subject_session_str.append(subject_session_str)\n",
    "                fake_session_datetime_str = fake_session_datetime_str_init[:18] + str(count) + '.000' # making fake unique time\n",
    "                print('\\n\\n\\nIMPORTANT: JM made up a fake datetime to fit convention of DJ. If needed for analysis, the true datetime of the experiment can still be accessed though through the `session` entry (YYYY-MM-DD_x) or from where the bruker metadata is stored within the database.\\n\\n\\n')\n",
    "                print(fake_session_datetime_str)\n",
    "                all_subject_datetime_str.append(fake_session_datetime_str) # here it is fake\n",
    "                count += 1\n",
    "\n",
    "            print(f'Identified sessions for subject {subject_str}: {all_subject_session_str}')\n",
    "\n",
    "            all_session_str.append(all_subject_session_str) \n",
    "            all_datetime_str.append(all_subject_datetime_str) \n",
    "        \n",
    "    return all_subject_str, all_session_str, all_datetime_str"
   ]
  },
  {
   "cell_type": "markdown",
   "metadata": {},
   "source": [
    "### Clear previous metadata entries"
   ]
  },
  {
   "cell_type": "code",
   "execution_count": 7,
   "metadata": {},
   "outputs": [
    {
     "name": "stderr",
     "output_type": "stream",
     "text": [
      "[2023-02-28 11:16:51,692][INFO]: Deleting 4 rows from `jure_imaging`.`_motion_correction__summary`\n",
      "[2023-02-28 11:16:51,700][INFO]: Deleting 18 rows from `jure_scan`.`_scan_info__field`\n",
      "[2023-02-28 11:16:52,614][INFO]: Deleting 470400 rows from `jure_scan`.`_scan_info__scan_file`\n",
      "[2023-02-28 11:16:52,709][INFO]: Deleting 11 rows from `jure_scan`.`_scan_info`\n",
      "[2023-02-28 11:16:52,795][INFO]: Deleting 1499 rows from `jure_imaging`.`__mask_classification__mask_type`\n",
      "[2023-02-28 11:16:52,805][INFO]: Deleting 2 rows from `jure_imaging`.`__mask_classification`\n",
      "[2023-02-28 11:16:52,864][INFO]: Deleting 2953 rows from `jure_imaging`.`__segmentation__mask`\n",
      "[2023-02-28 11:16:52,876][INFO]: Deleting 2 rows from `jure_imaging`.`__segmentation`\n",
      "[2023-02-28 11:16:52,898][INFO]: Deleting 2 rows from `jure_imaging`.`_motion_correction__rigid_motion_correction`\n",
      "[2023-02-28 11:16:52,905][INFO]: Deleting 2 rows from `jure_imaging`.`_motion_correction`\n",
      "[2023-02-28 11:16:52,915][INFO]: Deleting 2 rows from `jure_imaging`.`curation`\n",
      "[2023-02-28 11:16:52,924][INFO]: Deleting 2 rows from `jure_imaging`.`__processing`\n",
      "[2023-02-28 11:16:52,931][INFO]: Deleting 2 rows from `jure_imaging`.`processing_task`\n",
      "[2023-02-28 11:16:52,940][INFO]: Deleting 11 rows from `jure_scan`.`scan`\n",
      "[2023-02-28 11:16:52,954][INFO]: Deleting 11 rows from `jure_session`.`session_directory`\n",
      "[2023-02-28 11:16:52,964][INFO]: Deleting 12 rows from `jure_session`.`session`\n",
      "[2023-02-28 11:16:52,971][INFO]: Deleting 3 rows from `jure_subject`.`subject`\n"
     ]
    },
    {
     "ename": "KeyboardInterrupt",
     "evalue": "Interrupted by user",
     "output_type": "error",
     "traceback": [
      "\u001b[0;31m---------------------------------------------------------------------------\u001b[0m",
      "\u001b[0;31mKeyboardInterrupt\u001b[0m                         Traceback (most recent call last)",
      "Cell \u001b[0;32mIn[7], line 2\u001b[0m\n\u001b[1;32m      1\u001b[0m \u001b[38;5;66;03m# clear any previous entries\u001b[39;00m\n\u001b[0;32m----> 2\u001b[0m \u001b[43msubject\u001b[49m\u001b[38;5;241;43m.\u001b[39;49m\u001b[43mSubject\u001b[49m\u001b[38;5;241;43m.\u001b[39;49m\u001b[43mdelete\u001b[49m\u001b[43m(\u001b[49m\u001b[43m)\u001b[49m\n\u001b[1;32m      3\u001b[0m Equipment\u001b[38;5;241m.\u001b[39mdelete()\n",
      "File \u001b[0;32m~/anaconda3/envs/dj_cossart/lib/python3.8/site-packages/datajoint/table.py:586\u001b[0m, in \u001b[0;36mTable.delete\u001b[0;34m(self, transaction, safemode, force_parts)\u001b[0m\n\u001b[1;32m    584\u001b[0m         \u001b[38;5;28mself\u001b[39m\u001b[38;5;241m.\u001b[39mconnection\u001b[38;5;241m.\u001b[39mcancel_transaction()\n\u001b[1;32m    585\u001b[0m \u001b[38;5;28;01melse\u001b[39;00m:\n\u001b[0;32m--> 586\u001b[0m     \u001b[38;5;28;01mif\u001b[39;00m \u001b[38;5;129;01mnot\u001b[39;00m safemode \u001b[38;5;129;01mor\u001b[39;00m \u001b[43muser_choice\u001b[49m\u001b[43m(\u001b[49m\u001b[38;5;124;43m\"\u001b[39;49m\u001b[38;5;124;43mCommit deletes?\u001b[39;49m\u001b[38;5;124;43m\"\u001b[39;49m\u001b[43m,\u001b[49m\u001b[43m \u001b[49m\u001b[43mdefault\u001b[49m\u001b[38;5;241;43m=\u001b[39;49m\u001b[38;5;124;43m\"\u001b[39;49m\u001b[38;5;124;43mno\u001b[39;49m\u001b[38;5;124;43m\"\u001b[39;49m\u001b[43m)\u001b[49m \u001b[38;5;241m==\u001b[39m \u001b[38;5;124m\"\u001b[39m\u001b[38;5;124myes\u001b[39m\u001b[38;5;124m\"\u001b[39m:\n\u001b[1;32m    587\u001b[0m         \u001b[38;5;28;01mif\u001b[39;00m transaction:\n\u001b[1;32m    588\u001b[0m             \u001b[38;5;28mself\u001b[39m\u001b[38;5;241m.\u001b[39mconnection\u001b[38;5;241m.\u001b[39mcommit_transaction()\n",
      "File \u001b[0;32m~/anaconda3/envs/dj_cossart/lib/python3.8/site-packages/datajoint/utils.py:32\u001b[0m, in \u001b[0;36muser_choice\u001b[0;34m(prompt, choices, default)\u001b[0m\n\u001b[1;32m     30\u001b[0m response \u001b[38;5;241m=\u001b[39m \u001b[38;5;28;01mNone\u001b[39;00m\n\u001b[1;32m     31\u001b[0m \u001b[38;5;28;01mwhile\u001b[39;00m response \u001b[38;5;129;01mnot\u001b[39;00m \u001b[38;5;129;01min\u001b[39;00m choices:\n\u001b[0;32m---> 32\u001b[0m     response \u001b[38;5;241m=\u001b[39m \u001b[38;5;28;43minput\u001b[39;49m\u001b[43m(\u001b[49m\u001b[43mprompt\u001b[49m\u001b[43m \u001b[49m\u001b[38;5;241;43m+\u001b[39;49m\u001b[43m \u001b[49m\u001b[38;5;124;43m\"\u001b[39;49m\u001b[38;5;124;43m [\u001b[39;49m\u001b[38;5;124;43m\"\u001b[39;49m\u001b[43m \u001b[49m\u001b[38;5;241;43m+\u001b[39;49m\u001b[43m \u001b[49m\u001b[43mchoice_list\u001b[49m\u001b[43m \u001b[49m\u001b[38;5;241;43m+\u001b[39;49m\u001b[43m \u001b[49m\u001b[38;5;124;43m\"\u001b[39;49m\u001b[38;5;124;43m]: \u001b[39;49m\u001b[38;5;124;43m\"\u001b[39;49m\u001b[43m)\u001b[49m\n\u001b[1;32m     33\u001b[0m     response \u001b[38;5;241m=\u001b[39m response\u001b[38;5;241m.\u001b[39mlower() \u001b[38;5;28;01mif\u001b[39;00m response \u001b[38;5;28;01melse\u001b[39;00m default\n\u001b[1;32m     34\u001b[0m \u001b[38;5;28;01mreturn\u001b[39;00m response\n",
      "File \u001b[0;32m~/anaconda3/envs/dj_cossart/lib/python3.8/site-packages/ipykernel/kernelbase.py:1182\u001b[0m, in \u001b[0;36mKernel.raw_input\u001b[0;34m(self, prompt)\u001b[0m\n\u001b[1;32m   1180\u001b[0m     msg \u001b[38;5;241m=\u001b[39m \u001b[38;5;124m\"\u001b[39m\u001b[38;5;124mraw_input was called, but this frontend does not support input requests.\u001b[39m\u001b[38;5;124m\"\u001b[39m\n\u001b[1;32m   1181\u001b[0m     \u001b[38;5;28;01mraise\u001b[39;00m StdinNotImplementedError(msg)\n\u001b[0;32m-> 1182\u001b[0m \u001b[38;5;28;01mreturn\u001b[39;00m \u001b[38;5;28;43mself\u001b[39;49m\u001b[38;5;241;43m.\u001b[39;49m\u001b[43m_input_request\u001b[49m\u001b[43m(\u001b[49m\n\u001b[1;32m   1183\u001b[0m \u001b[43m    \u001b[49m\u001b[38;5;28;43mstr\u001b[39;49m\u001b[43m(\u001b[49m\u001b[43mprompt\u001b[49m\u001b[43m)\u001b[49m\u001b[43m,\u001b[49m\n\u001b[1;32m   1184\u001b[0m \u001b[43m    \u001b[49m\u001b[38;5;28;43mself\u001b[39;49m\u001b[38;5;241;43m.\u001b[39;49m\u001b[43m_parent_ident\u001b[49m\u001b[43m[\u001b[49m\u001b[38;5;124;43m\"\u001b[39;49m\u001b[38;5;124;43mshell\u001b[39;49m\u001b[38;5;124;43m\"\u001b[39;49m\u001b[43m]\u001b[49m\u001b[43m,\u001b[49m\n\u001b[1;32m   1185\u001b[0m \u001b[43m    \u001b[49m\u001b[38;5;28;43mself\u001b[39;49m\u001b[38;5;241;43m.\u001b[39;49m\u001b[43mget_parent\u001b[49m\u001b[43m(\u001b[49m\u001b[38;5;124;43m\"\u001b[39;49m\u001b[38;5;124;43mshell\u001b[39;49m\u001b[38;5;124;43m\"\u001b[39;49m\u001b[43m)\u001b[49m\u001b[43m,\u001b[49m\n\u001b[1;32m   1186\u001b[0m \u001b[43m    \u001b[49m\u001b[43mpassword\u001b[49m\u001b[38;5;241;43m=\u001b[39;49m\u001b[38;5;28;43;01mFalse\u001b[39;49;00m\u001b[43m,\u001b[49m\n\u001b[1;32m   1187\u001b[0m \u001b[43m\u001b[49m\u001b[43m)\u001b[49m\n",
      "File \u001b[0;32m~/anaconda3/envs/dj_cossart/lib/python3.8/site-packages/ipykernel/kernelbase.py:1225\u001b[0m, in \u001b[0;36mKernel._input_request\u001b[0;34m(self, prompt, ident, parent, password)\u001b[0m\n\u001b[1;32m   1222\u001b[0m \u001b[38;5;28;01mexcept\u001b[39;00m \u001b[38;5;167;01mKeyboardInterrupt\u001b[39;00m:\n\u001b[1;32m   1223\u001b[0m     \u001b[38;5;66;03m# re-raise KeyboardInterrupt, to truncate traceback\u001b[39;00m\n\u001b[1;32m   1224\u001b[0m     msg \u001b[38;5;241m=\u001b[39m \u001b[38;5;124m\"\u001b[39m\u001b[38;5;124mInterrupted by user\u001b[39m\u001b[38;5;124m\"\u001b[39m\n\u001b[0;32m-> 1225\u001b[0m     \u001b[38;5;28;01mraise\u001b[39;00m \u001b[38;5;167;01mKeyboardInterrupt\u001b[39;00m(msg) \u001b[38;5;28;01mfrom\u001b[39;00m \u001b[38;5;28mNone\u001b[39m\n\u001b[1;32m   1226\u001b[0m \u001b[38;5;28;01mexcept\u001b[39;00m \u001b[38;5;167;01mException\u001b[39;00m:\n\u001b[1;32m   1227\u001b[0m     \u001b[38;5;28mself\u001b[39m\u001b[38;5;241m.\u001b[39mlog\u001b[38;5;241m.\u001b[39mwarning(\u001b[38;5;124m\"\u001b[39m\u001b[38;5;124mInvalid Message:\u001b[39m\u001b[38;5;124m\"\u001b[39m, exc_info\u001b[38;5;241m=\u001b[39m\u001b[38;5;28;01mTrue\u001b[39;00m)\n",
      "\u001b[0;31mKeyboardInterrupt\u001b[0m: Interrupted by user"
     ]
    }
   ],
   "source": [
    "# clear any previous entries\n",
    "subject.Subject.delete()\n",
    "Equipment.delete()"
   ]
  },
  {
   "cell_type": "markdown",
   "metadata": {},
   "source": [
    "## Insert an entry into `subject.Subject`"
   ]
  },
  {
   "cell_type": "code",
   "execution_count": null,
   "metadata": {},
   "outputs": [],
   "source": [
    "subject.Subject.heading"
   ]
  },
  {
   "cell_type": "code",
   "execution_count": null,
   "metadata": {},
   "outputs": [],
   "source": [
    "from element_interface.prairieviewreader import get_pv_metadata"
   ]
  },
  {
   "cell_type": "code",
   "execution_count": null,
   "metadata": {},
   "outputs": [],
   "source": [
    "import pandas as pd"
   ]
  },
  {
   "cell_type": "code",
   "execution_count": null,
   "metadata": {},
   "outputs": [],
   "source": [
    "# custom function to populate database\n",
    "root_data_dir = dj.config['custom']['imaging_root_data_dir']\n",
    "fake_session_datetime_str_init = '2002-01-01 12:00:00.000' # making up session datetime (to query data use either the session/folder name or PraireView metadata)\n",
    "all_subject_str, all_session_str, all_datetime_str = get_metadata_from_filetree(root_data_dir, fake_session_datetime_str_init)\n"
   ]
  },
  {
   "cell_type": "code",
   "execution_count": null,
   "metadata": {},
   "outputs": [],
   "source": [
    "print(f'All subjects: {all_subject_str}')\n",
    "print(f'All session: {all_session_str}')\n"
   ]
  },
  {
   "cell_type": "code",
   "execution_count": null,
   "metadata": {},
   "outputs": [],
   "source": [
    "for subject_str in all_subject_str:\n",
    "    \n",
    "    subject.Subject.insert1(dict(subject=subject_str, \n",
    "                                 sex='U', \n",
    "                                 subject_birth_date='2020-01-01', # FIGURE OUT HOW TO HANDLE\n",
    "                                 subject_description=''))"
   ]
  },
  {
   "cell_type": "code",
   "execution_count": null,
   "metadata": {},
   "outputs": [],
   "source": [
    "subject.Subject()"
   ]
  },
  {
   "cell_type": "markdown",
   "metadata": {},
   "source": [
    "## Insert an entry into `lab.Equipment`"
   ]
  },
  {
   "cell_type": "code",
   "execution_count": null,
   "metadata": {},
   "outputs": [],
   "source": [
    "Equipment.insert1(dict(scanner='PrairieView'))"
   ]
  },
  {
   "cell_type": "markdown",
   "metadata": {},
   "source": [
    "## Insert an entry into `session.Session`"
   ]
  },
  {
   "cell_type": "code",
   "execution_count": null,
   "metadata": {},
   "outputs": [],
   "source": [
    "session.Session.describe();"
   ]
  },
  {
   "cell_type": "code",
   "execution_count": null,
   "metadata": {},
   "outputs": [],
   "source": [
    "session.Session.heading"
   ]
  },
  {
   "cell_type": "code",
   "execution_count": null,
   "metadata": {},
   "outputs": [],
   "source": [
    "session.Session()"
   ]
  },
  {
   "cell_type": "code",
   "execution_count": null,
   "metadata": {},
   "outputs": [],
   "source": [
    "all_datetime_str"
   ]
  },
  {
   "cell_type": "code",
   "execution_count": null,
   "metadata": {},
   "outputs": [],
   "source": [
    "for (i, subject_str) in enumerate(all_subject_str):\n",
    "    for (j, subject_session_str) in enumerate(all_session_str[i]):\n",
    "        \n",
    "        session_datetime_str = all_datetime_str[i][j]\n",
    "        print(session_datetime_str)\n",
    "        session_key = dict(subject=subject_str, session_datetime=session_datetime_str)\n",
    "\n",
    "        session.Session.insert1(session_key)\n",
    "\n",
    "session.Session()"
   ]
  },
  {
   "cell_type": "markdown",
   "metadata": {},
   "source": [
    "## Insert an entry into `session.SessionDirectory`\n",
    "\n",
    "+ The `session_dir` is the relative path to the `imaging_root_data_dir` for the given session, in POSIX format with `/`.\n",
    "\n",
    "+ Instead of a relative path, `session_dir` could be an absolute path but it is not recommended as the absolute path would have to match the `imaging_root_data_dir` in `dj_local_conf.json`."
   ]
  },
  {
   "cell_type": "code",
   "execution_count": null,
   "metadata": {},
   "outputs": [],
   "source": [
    "session.SessionDirectory.describe();"
   ]
  },
  {
   "cell_type": "code",
   "execution_count": null,
   "metadata": {},
   "outputs": [],
   "source": [
    "session.SessionDirectory.heading"
   ]
  },
  {
   "cell_type": "code",
   "execution_count": null,
   "metadata": {},
   "outputs": [],
   "source": [
    "import glob\n",
    "def get_TSeries_name(subject_str, subject_session_str):\n",
    "    imaging_root_data_dir = dj.config['custom']['imaging_root_data_dir']\n",
    "    glob_prompt = f'{imaging_root_data_dir}/{subject_str}/{subject_session_str}/TSeries*'\n",
    "    tseries_fullpaths_list = glob.glob(glob_prompt)\n",
    "    \n",
    "    if len(tseries_fullpaths_list) > 1: print('WARNING: more then one TSeries* folder found, only considering the FIRST ONE')\n",
    "    \n",
    "    tseries_name = tseries_fullpaths_list[0].split('/')[-1]\n",
    "    return tseries_name"
   ]
  },
  {
   "cell_type": "code",
   "execution_count": null,
   "metadata": {},
   "outputs": [],
   "source": [
    "for (i, subject_str) in enumerate(all_subject_str):\n",
    "    for (j, subject_session_str) in enumerate(all_session_str[i]):\n",
    "        \n",
    "        if subject_str + '/' + subject_session_str not in skip_ds:\n",
    "\n",
    "            session_datetime_str = all_datetime_str[i][j]\n",
    "            tseries_name = get_TSeries_name(subject_str, subject_session_str)\n",
    "\n",
    "            session_dir = f'{subject_str}/{subject_session_str}/{tseries_name}'\n",
    "\n",
    "            session.SessionDirectory.insert1(dict(subject=subject_str, \n",
    "                                                  session_datetime=session_datetime_str, \n",
    "                                                  session_dir=session_dir))\n",
    "\n",
    "            session.SessionDirectory()"
   ]
  },
  {
   "cell_type": "markdown",
   "metadata": {},
   "source": [
    "## Insert an entry into `scan.Scan`"
   ]
  },
  {
   "cell_type": "code",
   "execution_count": null,
   "metadata": {},
   "outputs": [],
   "source": [
    "scan.Scan.heading"
   ]
  },
  {
   "cell_type": "code",
   "execution_count": null,
   "metadata": {},
   "outputs": [],
   "source": []
  },
  {
   "cell_type": "code",
   "execution_count": null,
   "metadata": {},
   "outputs": [],
   "source": [
    "for (i, subject_str) in enumerate(all_subject_str):\n",
    "    for (j, subject_session_str) in enumerate(all_session_str[i]):\n",
    "        \n",
    "        if subject_str + '/' + subject_session_str not in skip_ds:\n",
    "\n",
    "            session_datetime_str = all_datetime_str[i][j]\n",
    "\n",
    "            scan.Scan.insert1(dict(subject=subject_str, \n",
    "                                   session_datetime=session_datetime_str, \n",
    "                                   scan_id=0, \n",
    "                                   scanner='PrairieView', \n",
    "                                   acq_software='PrairieView',\n",
    "                                   scan_notes=''))\n",
    "            scan.Scan()"
   ]
  },
  {
   "cell_type": "markdown",
   "metadata": {},
   "source": [
    "## Populate `scan.ScanInfo`\n",
    "\n",
    "+ This imported table stores information about the acquired image (e.g. image dimensions, file paths, etc.).\n",
    "+ `populate` automatically calls `make` for every key for which the auto-populated table is missing data.\n",
    "+ `populate_settings` passes arguments to the `populate` method.\n",
    "+ `display_progress=True` reports the progress bar"
   ]
  },
  {
   "cell_type": "code",
   "execution_count": null,
   "metadata": {},
   "outputs": [],
   "source": [
    "scan.ScanInfo.describe();"
   ]
  },
  {
   "cell_type": "code",
   "execution_count": null,
   "metadata": {},
   "outputs": [],
   "source": [
    "scan.ScanInfo.heading"
   ]
  },
  {
   "cell_type": "code",
   "execution_count": null,
   "metadata": {},
   "outputs": [],
   "source": [
    "scan.ScanInfo.populate(**populate_settings)\n",
    "scan.ScanInfo()\n"
   ]
  },
  {
   "cell_type": "code",
   "execution_count": null,
   "metadata": {},
   "outputs": [],
   "source": []
  }
 ],
 "metadata": {
  "kernelspec": {
   "display_name": "Python 3 (ipykernel)",
   "language": "python",
   "name": "python3"
  },
  "language_info": {
   "codemirror_mode": {
    "name": "ipython",
    "version": 3
   },
   "file_extension": ".py",
   "mimetype": "text/x-python",
   "name": "python",
   "nbconvert_exporter": "python",
   "pygments_lexer": "ipython3",
   "version": "3.8.16"
  },
  "vscode": {
   "interpreter": {
    "hash": "4db121aefccf24ce64da24f36153d24457118a7863144f840821691282a85d58"
   }
  }
 },
 "nbformat": 4,
 "nbformat_minor": 4
}
