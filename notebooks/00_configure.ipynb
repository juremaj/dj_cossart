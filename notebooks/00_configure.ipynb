{
 "cells": [
  {
   "cell_type": "code",
   "execution_count": 1,
   "id": "9c81e1f4-7ba9-43f9-b7be-ee5faf8c7836",
   "metadata": {},
   "outputs": [],
   "source": [
    "import datajoint as dj\n",
    "import os\n",
    "if os.path.basename(os.getcwd()) == \"notebooks\": os.chdir(\"..\")"
   ]
  },
  {
   "cell_type": "code",
   "execution_count": 2,
   "id": "81d4473e-1f3f-4104-8220-1c5f4b1fd91b",
   "metadata": {},
   "outputs": [
    {
     "name": "stdin",
     "output_type": "stream",
     "text": [
      " ········\n"
     ]
    }
   ],
   "source": [
    "import getpass\n",
    "dj.config[\"database.host\"] = \"127.0.0.1\"\n",
    "dj.config[\"database.user\"] = \"jure\"\n",
    "dj.config[\"database.password\"] = getpass.getpass()  # enter the password securily"
   ]
  },
  {
   "cell_type": "code",
   "execution_count": 3,
   "id": "dae6c4bb-8ba8-4c28-a395-5ada4dc430c8",
   "metadata": {},
   "outputs": [
    {
     "name": "stderr",
     "output_type": "stream",
     "text": [
      "[2023-02-27 11:30:57,461][INFO]: Connecting jure@127.0.0.1:3306\n",
      "[2023-02-27 11:30:57,588][INFO]: Connected jure@127.0.0.1:3306\n"
     ]
    },
    {
     "data": {
      "text/plain": [
       "DataJoint connection (connected) jure@127.0.0.1:3306"
      ]
     },
     "execution_count": 3,
     "metadata": {},
     "output_type": "execute_result"
    }
   ],
   "source": [
    "dj.conn()"
   ]
  },
  {
   "cell_type": "code",
   "execution_count": 4,
   "id": "50c78755-496b-47e7-91ea-bb7a2d00260b",
   "metadata": {},
   "outputs": [],
   "source": [
    "username_as_prefix = dj.config[\"database.user\"] + \"_\"\n",
    "dj.config[\"custom\"] = {\"database.prefix\": username_as_prefix}"
   ]
  },
  {
   "cell_type": "code",
   "execution_count": 5,
   "id": "4cfd5302-cae9-4125-937d-6d87b23b95a2",
   "metadata": {},
   "outputs": [],
   "source": [
    "# data dir on this particular computer\n",
    "dj.config['custom']['imaging_root_data_dir'] = '/media/cossart/DATA/dj_cossart/data'"
   ]
  },
  {
   "cell_type": "markdown",
   "id": "13cbde8b-08e3-4e49-891b-880ea3c1c31e",
   "metadata": {},
   "source": [
    "Save config as file (note: this needs to be generated upon installation and is not provided in the GitHub repo)"
   ]
  },
  {
   "cell_type": "code",
   "execution_count": 6,
   "id": "b4606ad1-ee29-4090-94a2-aa2a892bea92",
   "metadata": {},
   "outputs": [],
   "source": [
    "dj.config.save_local()"
   ]
  },
  {
   "cell_type": "code",
   "execution_count": 1,
   "id": "7ad4bdda-51db-4421-b834-357f7875c8c0",
   "metadata": {},
   "outputs": [
    {
     "ename": "NameError",
     "evalue": "name 'dj' is not defined",
     "output_type": "error",
     "traceback": [
      "\u001b[0;31m---------------------------------------------------------------------------\u001b[0m",
      "\u001b[0;31mNameError\u001b[0m                                 Traceback (most recent call last)",
      "Cell \u001b[0;32mIn[1], line 1\u001b[0m\n\u001b[0;32m----> 1\u001b[0m \u001b[43mdj\u001b[49m\u001b[38;5;241m.\u001b[39mconfig\n",
      "\u001b[0;31mNameError\u001b[0m: name 'dj' is not defined"
     ]
    }
   ],
   "source": []
  },
  {
   "cell_type": "code",
   "execution_count": null,
   "id": "26d512c2-f999-4b4b-bbf3-df89280ce23e",
   "metadata": {},
   "outputs": [],
   "source": []
  }
 ],
 "metadata": {
  "kernelspec": {
   "display_name": "Python 3 (ipykernel)",
   "language": "python",
   "name": "python3"
  },
  "language_info": {
   "codemirror_mode": {
    "name": "ipython",
    "version": 3
   },
   "file_extension": ".py",
   "mimetype": "text/x-python",
   "name": "python",
   "nbconvert_exporter": "python",
   "pygments_lexer": "ipython3",
   "version": "3.8.16"
  }
 },
 "nbformat": 4,
 "nbformat_minor": 5
}
