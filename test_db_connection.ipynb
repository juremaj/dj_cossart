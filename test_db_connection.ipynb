{
 "cells": [
  {
   "cell_type": "code",
   "execution_count": 1,
   "id": "4577dc04-73e9-46a9-b6d6-e87a206d4d2a",
   "metadata": {},
   "outputs": [
    {
     "name": "stdout",
     "output_type": "stream",
     "text": [
      "Please enter DataJoint username:  root\n",
      "Please enter DataJoint password:  ········\n"
     ]
    },
    {
     "name": "stderr",
     "output_type": "stream",
     "text": [
      "[2023-02-14 18:16:21,611][INFO]: Connecting root@localhost:3306\n",
      "[2023-02-14 18:16:21,731][INFO]: Connected root@localhost:3306\n"
     ]
    }
   ],
   "source": [
    "import datajoint as dj\n",
    "schema = dj.Schema(f\"{dj.config['database.user']}_shapes\") # \n",
    "\n",
    "@schema # \n",
    "class Rectangle(dj.Manual):\n",
    "    definition = \"\"\" # (3)\n",
    "    shape_id: int\n",
    "    ---\n",
    "    shape_height: float\n",
    "    shape_width: float\n",
    "    \"\"\"\n",
    "\n",
    "\n",
    "@schema\n",
    "class Area(dj.Computed):\n",
    "    definition = \"\"\"\n",
    "    -> Rectangle\n",
    "    ---\n",
    "    shape_area: float\n",
    "    \"\"\"\n",
    "    def make(self, key):\n",
    "        rectangle = (Rectangle & key).fetch1()\n",
    "        Area.insert1(\n",
    "            dict(\n",
    "                shape_id=rectangle[\"shape_id\"],\n",
    "                shape_area=rectangle[\"shape_height\"] * rectangle[\"shape_width\"],\n",
    "            )\n",
    "        )"
   ]
  },
  {
   "cell_type": "code",
   "execution_count": null,
   "id": "9fd7f54e-cdba-4aba-bfcf-7d9f3de93ff7",
   "metadata": {},
   "outputs": [],
   "source": []
  }
 ],
 "metadata": {
  "kernelspec": {
   "display_name": "Python 3",
   "language": "python",
   "name": "python3"
  },
  "language_info": {
   "codemirror_mode": {
    "name": "ipython",
    "version": 3
   },
   "file_extension": ".py",
   "mimetype": "text/x-python",
   "name": "python",
   "nbconvert_exporter": "python",
   "pygments_lexer": "ipython3",
   "version": "3.8.16"
  }
 },
 "nbformat": 4,
 "nbformat_minor": 5
}
